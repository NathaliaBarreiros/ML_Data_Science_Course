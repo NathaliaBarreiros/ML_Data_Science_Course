{
 "cells": [
  {
   "cell_type": "code",
   "execution_count": 2,
   "id": "0306d450",
   "metadata": {},
   "outputs": [],
   "source": [
    "import numpy as np"
   ]
  },
  {
   "cell_type": "code",
   "execution_count": 3,
   "id": "e710cdf4",
   "metadata": {},
   "outputs": [
    {
     "data": {
      "text/plain": [
       "array([[1, 2, 3],\n",
       "       [4, 5, 6]])"
      ]
     },
     "execution_count": 3,
     "metadata": {},
     "output_type": "execute_result"
    }
   ],
   "source": [
    "NumP_Array = np.array([[1,2,3], [4,5,6]])\n",
    "NumP_Array"
   ]
  },
  {
   "cell_type": "code",
   "execution_count": 4,
   "id": "348a64ae",
   "metadata": {},
   "outputs": [
    {
     "data": {
      "text/plain": [
       "array([[1, 3],\n",
       "       [4, 5]])"
      ]
     },
     "execution_count": 4,
     "metadata": {},
     "output_type": "execute_result"
    }
   ],
   "source": [
    "NP1 = np.array([[1,3],[4,5]])\n",
    "NP1"
   ]
  },
  {
   "cell_type": "code",
   "execution_count": 5,
   "id": "492cdbe8",
   "metadata": {},
   "outputs": [
    {
     "data": {
      "text/plain": [
       "array([[3, 4],\n",
       "       [5, 6]])"
      ]
     },
     "execution_count": 5,
     "metadata": {},
     "output_type": "execute_result"
    }
   ],
   "source": [
    "NP2 = np.array([[3,4],[5,6]])\n",
    "NP2"
   ]
  },
  {
   "cell_type": "code",
   "execution_count": 6,
   "id": "3851767a",
   "metadata": {},
   "outputs": [
    {
     "data": {
      "text/plain": [
       "array([[18, 22],\n",
       "       [37, 46]])"
      ]
     },
     "execution_count": 6,
     "metadata": {},
     "output_type": "execute_result"
    }
   ],
   "source": [
    "# Multiplication of 2 matrices - This is the dot product\n",
    "MNP = NP1@NP2\n",
    "MNP"
   ]
  },
  {
   "cell_type": "code",
   "execution_count": 7,
   "id": "b7235b5f",
   "metadata": {},
   "outputs": [
    {
     "data": {
      "text/plain": [
       "array([[18, 22],\n",
       "       [37, 46]])"
      ]
     },
     "execution_count": 7,
     "metadata": {},
     "output_type": "execute_result"
    }
   ],
   "source": [
    "# Dot product that is the normal algebra multiplication of 2 matrices\n",
    "MNP3 = np.dot(NP1, NP2)\n",
    "MNP3"
   ]
  },
  {
   "cell_type": "code",
   "execution_count": 8,
   "id": "593dc548",
   "metadata": {},
   "outputs": [
    {
     "data": {
      "text/plain": [
       "array([[ 3, 12],\n",
       "       [20, 30]])"
      ]
     },
     "execution_count": 8,
     "metadata": {},
     "output_type": "execute_result"
    }
   ],
   "source": [
    "# Element by element multiplication\n",
    "MNP2 = NP1*NP2\n",
    "MNP2"
   ]
  },
  {
   "cell_type": "code",
   "execution_count": 9,
   "id": "7e17b4b8",
   "metadata": {},
   "outputs": [
    {
     "data": {
      "text/plain": [
       "array([[ 3, 12],\n",
       "       [20, 30]])"
      ]
     },
     "execution_count": 9,
     "metadata": {},
     "output_type": "execute_result"
    }
   ],
   "source": [
    "# This is the element by element multiplication\n",
    "MNP4 = np.multiply(NP1, NP2)\n",
    "MNP4"
   ]
  },
  {
   "cell_type": "code",
   "execution_count": 10,
   "id": "a1f276b1",
   "metadata": {},
   "outputs": [
    {
     "data": {
      "text/plain": [
       "array([[ 4,  7],\n",
       "       [ 9, 11]])"
      ]
     },
     "execution_count": 10,
     "metadata": {},
     "output_type": "execute_result"
    }
   ],
   "source": [
    "# Summation of matrices\n",
    "Sum1 = NP1 + NP2\n",
    "Sum1"
   ]
  },
  {
   "cell_type": "code",
   "execution_count": 11,
   "id": "dfc78215",
   "metadata": {},
   "outputs": [
    {
     "data": {
      "text/plain": [
       "array([[-2, -1],\n",
       "       [-1, -1]])"
      ]
     },
     "execution_count": 11,
     "metadata": {},
     "output_type": "execute_result"
    }
   ],
   "source": [
    "# Substracting of matrices\n",
    "Sub1 = NP1 - NP2\n",
    "Sub1"
   ]
  },
  {
   "cell_type": "code",
   "execution_count": 12,
   "id": "a5a15065",
   "metadata": {},
   "outputs": [
    {
     "data": {
      "text/plain": [
       "array([[-2, -1],\n",
       "       [-1, -1]])"
      ]
     },
     "execution_count": 12,
     "metadata": {},
     "output_type": "execute_result"
    }
   ],
   "source": [
    "# Substracting using numpy lib\n",
    "Sub2 = np.subtract(NP1, NP2)\n",
    "Sub2"
   ]
  },
  {
   "cell_type": "code",
   "execution_count": 13,
   "id": "cf6db3ad",
   "metadata": {},
   "outputs": [
    {
     "data": {
      "text/plain": [
       "13"
      ]
     },
     "execution_count": 13,
     "metadata": {},
     "output_type": "execute_result"
    }
   ],
   "source": [
    "# Sum all elements of a matrix\n",
    "El_Sum = np.sum(NP1)\n",
    "El_Sum"
   ]
  },
  {
   "cell_type": "code",
   "execution_count": 14,
   "id": "973674c2",
   "metadata": {},
   "outputs": [
    {
     "data": {
      "text/plain": [
       "array([[4, 6],\n",
       "       [7, 8]])"
      ]
     },
     "execution_count": 14,
     "metadata": {},
     "output_type": "execute_result"
    }
   ],
   "source": [
    "# Broadcasting: change a # into an array that fits the first array to operate with\n",
    "Broad_Nump = NP1+3\n",
    "Broad_Nump"
   ]
  },
  {
   "cell_type": "code",
   "execution_count": 15,
   "id": "084c489c",
   "metadata": {},
   "outputs": [],
   "source": [
    "NP3 = np.array([[3,4]])"
   ]
  },
  {
   "cell_type": "code",
   "execution_count": 16,
   "id": "e4d4f27a",
   "metadata": {},
   "outputs": [
    {
     "data": {
      "text/plain": [
       "array([[4, 7],\n",
       "       [7, 9]])"
      ]
     },
     "execution_count": 16,
     "metadata": {},
     "output_type": "execute_result"
    }
   ],
   "source": [
    "# Broadcasting with more rows\n",
    "Broad_Nump2 = NP1+NP3\n",
    "Broad_Nump2"
   ]
  },
  {
   "cell_type": "code",
   "execution_count": 17,
   "id": "913d9392",
   "metadata": {},
   "outputs": [
    {
     "data": {
      "text/plain": [
       "array([[0.33333333, 0.75      ],\n",
       "       [0.8       , 0.83333333]])"
      ]
     },
     "execution_count": 17,
     "metadata": {},
     "output_type": "execute_result"
    }
   ],
   "source": [
    "# Division of 2 matrices\n",
    "D = np.divide(NP1,NP2)\n",
    "D"
   ]
  },
  {
   "cell_type": "code",
   "execution_count": 18,
   "id": "46337014",
   "metadata": {},
   "outputs": [
    {
     "data": {
      "text/plain": [
       "array([2.4, 2.8, 3.2])"
      ]
     },
     "execution_count": 18,
     "metadata": {},
     "output_type": "execute_result"
    }
   ],
   "source": [
    "D2 = np.divide([12,14,16], 5)\n",
    "D2"
   ]
  },
  {
   "cell_type": "code",
   "execution_count": 19,
   "id": "07d436dd",
   "metadata": {},
   "outputs": [
    {
     "data": {
      "text/plain": [
       "array([2, 2, 3])"
      ]
     },
     "execution_count": 19,
     "metadata": {},
     "output_type": "execute_result"
    }
   ],
   "source": [
    "# Having integer only\n",
    "D3 = np.floor_divide([12,14,16], 5)\n",
    "D3"
   ]
  },
  {
   "cell_type": "code",
   "execution_count": 20,
   "id": "8742e8fe",
   "metadata": {},
   "outputs": [
    {
     "data": {
      "text/plain": [
       "3.1622776601683795"
      ]
     },
     "execution_count": 20,
     "metadata": {},
     "output_type": "execute_result"
    }
   ],
   "source": [
    "# Square operation\n",
    "Sq = np.math.sqrt(10)\n",
    "Sq"
   ]
  },
  {
   "cell_type": "code",
   "execution_count": 21,
   "id": "069647be",
   "metadata": {},
   "outputs": [],
   "source": [
    "# Generating different distributions"
   ]
  },
  {
   "cell_type": "code",
   "execution_count": 22,
   "id": "f6b0e356",
   "metadata": {},
   "outputs": [
    {
     "data": {
      "text/plain": [
       "array([[ 0.85045266,  0.46953187,  0.13877275, -1.31078318],\n",
       "       [ 0.73421332,  1.03213127, -0.96215197, -0.27367098],\n",
       "       [-0.66468313,  1.4093604 , -0.80226628, -0.62560354]])"
      ]
     },
     "execution_count": 22,
     "metadata": {},
     "output_type": "execute_result"
    }
   ],
   "source": [
    "# These are no random #s, they are from a distribution\n",
    "Norm_Dist = np.random.standard_normal((3,4))\n",
    "Norm_Dist"
   ]
  },
  {
   "cell_type": "code",
   "execution_count": 23,
   "id": "6657eae8",
   "metadata": {},
   "outputs": [
    {
     "data": {
      "text/plain": [
       "array([[10.47722081,  7.55401594,  9.87330558,  5.34159817],\n",
       "       [ 6.79950697,  3.80376095,  8.46059704,  3.68520943],\n",
       "       [ 3.98314543,  6.16944651,  6.37068267,  7.05713781]])"
      ]
     },
     "execution_count": 23,
     "metadata": {},
     "output_type": "execute_result"
    }
   ],
   "source": [
    "Unif_Dist = np.random.uniform(1,12,(3,4))\n",
    "Unif_Dist"
   ]
  },
  {
   "cell_type": "code",
   "execution_count": 24,
   "id": "a20f4076",
   "metadata": {},
   "outputs": [],
   "source": [
    "# Random float number between 0, 1\n",
    "# I want random #s\n",
    "Random_Float_Ar = np.random.rand(2,5) #.rand() -> gives float #s\n",
    "Random_Ar = np.random.randint(1,50,(2,5))  #.randint() -> gives int #s"
   ]
  },
  {
   "cell_type": "code",
   "execution_count": 25,
   "id": "168f609a",
   "metadata": {},
   "outputs": [
    {
     "data": {
      "text/plain": [
       "array([[35, 16, 35, 16,  4],\n",
       "       [32, 11, 21, 33, 47]])"
      ]
     },
     "execution_count": 25,
     "metadata": {},
     "output_type": "execute_result"
    }
   ],
   "source": [
    "Random_Ar"
   ]
  },
  {
   "cell_type": "code",
   "execution_count": 26,
   "id": "b696b6e0",
   "metadata": {},
   "outputs": [
    {
     "data": {
      "text/plain": [
       "array([[0.27565021, 0.8064903 , 0.2904335 , 0.91126555, 0.17739202],\n",
       "       [0.19563686, 0.60139807, 0.8821378 , 0.82149338, 0.32986401]])"
      ]
     },
     "execution_count": 26,
     "metadata": {},
     "output_type": "execute_result"
    }
   ],
   "source": [
    "Random_Float_Ar"
   ]
  },
  {
   "cell_type": "code",
   "execution_count": 27,
   "id": "a91276b1",
   "metadata": {},
   "outputs": [
    {
     "data": {
      "text/plain": [
       "array([[0., 0., 0., 0.],\n",
       "       [0., 0., 0., 0.],\n",
       "       [0., 0., 0., 0.]])"
      ]
     },
     "execution_count": 27,
     "metadata": {},
     "output_type": "execute_result"
    }
   ],
   "source": [
    "# Zero matrix\n",
    "Ze = np.zeros((3,4))\n",
    "Ze"
   ]
  },
  {
   "cell_type": "code",
   "execution_count": 28,
   "id": "ebfee6c7",
   "metadata": {},
   "outputs": [
    {
     "data": {
      "text/plain": [
       "array([[1., 1., 1., 1.],\n",
       "       [1., 1., 1., 1.],\n",
       "       [1., 1., 1., 1.]])"
      ]
     },
     "execution_count": 28,
     "metadata": {},
     "output_type": "execute_result"
    }
   ],
   "source": [
    "# Ones matrix\n",
    "Ones = np.ones((3,4))\n",
    "Ones"
   ]
  },
  {
   "cell_type": "code",
   "execution_count": 29,
   "id": "3689974c",
   "metadata": {},
   "outputs": [
    {
     "data": {
      "text/plain": [
       "array([[ True, False,  True, False, False],\n",
       "       [ True, False, False,  True,  True]])"
      ]
     },
     "execution_count": 29,
     "metadata": {},
     "output_type": "execute_result"
    }
   ],
   "source": [
    "# Filters\n",
    "Filter_Ar = np.logical_and(Random_Ar>30, Random_Ar<50)\n",
    "Filter_Ar"
   ]
  },
  {
   "cell_type": "code",
   "execution_count": 30,
   "id": "bf1cfd74",
   "metadata": {},
   "outputs": [
    {
     "data": {
      "text/plain": [
       "array([35, 35, 32, 33, 47])"
      ]
     },
     "execution_count": 30,
     "metadata": {},
     "output_type": "execute_result"
    }
   ],
   "source": [
    "# For having the #s I filtered out\n",
    "F_Random_Ar = Random_Ar[Filter_Ar]\n",
    "F_Random_Ar"
   ]
  },
  {
   "cell_type": "markdown",
   "id": "f5a0a4b2",
   "metadata": {},
   "source": [
    "### Statistics"
   ]
  },
  {
   "cell_type": "code",
   "execution_count": 41,
   "id": "ae45dbac",
   "metadata": {},
   "outputs": [
    {
     "data": {
      "text/plain": [
       "array([1, 3, 4, 5, 7, 9])"
      ]
     },
     "execution_count": 41,
     "metadata": {},
     "output_type": "execute_result"
    }
   ],
   "source": [
    "# One row of data\n",
    "Data_N =np.array([1,3,4,5,7,9])\n",
    "Data_N"
   ]
  },
  {
   "cell_type": "code",
   "execution_count": 43,
   "id": "8381e9c1",
   "metadata": {},
   "outputs": [
    {
     "data": {
      "text/plain": [
       "4.833333333333333"
      ]
     },
     "execution_count": 43,
     "metadata": {},
     "output_type": "execute_result"
    }
   ],
   "source": [
    "# Mean value of the row data\n",
    "Mean_N = np.mean(Data_N)\n",
    "Mean_N"
   ]
  },
  {
   "cell_type": "code",
   "execution_count": 45,
   "id": "dd5cdb59",
   "metadata": {},
   "outputs": [
    {
     "data": {
      "text/plain": [
       "4.5"
      ]
     },
     "execution_count": 45,
     "metadata": {},
     "output_type": "execute_result"
    }
   ],
   "source": [
    "# Median value of the row data\n",
    "Median_N =np.median(Data_N)\n",
    "Median_N"
   ]
  },
  {
   "cell_type": "code",
   "execution_count": 47,
   "id": "ed1052c4",
   "metadata": {},
   "outputs": [
    {
     "data": {
      "text/plain": [
       "6.805555555555556"
      ]
     },
     "execution_count": 47,
     "metadata": {},
     "output_type": "execute_result"
    }
   ],
   "source": [
    "# Variance value of the row data\n",
    "Variance_N = np.var(Data_N)\n",
    "Variance_N"
   ]
  },
  {
   "cell_type": "code",
   "execution_count": 48,
   "id": "e94130db",
   "metadata": {},
   "outputs": [
    {
     "data": {
      "text/plain": [
       "2.608745973749755"
      ]
     },
     "execution_count": 48,
     "metadata": {},
     "output_type": "execute_result"
    }
   ],
   "source": [
    "# STD value of the row data\n",
    "STD_N = np.std(Data_N)\n",
    "STD_N"
   ]
  },
  {
   "cell_type": "code",
   "execution_count": 50,
   "id": "f6a41582",
   "metadata": {},
   "outputs": [
    {
     "data": {
      "text/plain": [
       "array([[1, 2, 3],\n",
       "       [4, 5, 6]])"
      ]
     },
     "execution_count": 50,
     "metadata": {},
     "output_type": "execute_result"
    }
   ],
   "source": [
    "# Statistics with more dim\n",
    "NumP_Array"
   ]
  },
  {
   "cell_type": "code",
   "execution_count": 54,
   "id": "a296e80a",
   "metadata": {},
   "outputs": [
    {
     "data": {
      "text/plain": [
       "array([0.66666667, 0.66666667])"
      ]
     },
     "execution_count": 54,
     "metadata": {},
     "output_type": "execute_result"
    }
   ],
   "source": [
    "# For getting the variance by row\n",
    "Variance_NumP = np.var(NumP_Array, axis=1)\n",
    "Variance_NumP"
   ]
  },
  {
   "cell_type": "code",
   "execution_count": 55,
   "id": "fd2142d3",
   "metadata": {},
   "outputs": [
    {
     "data": {
      "text/plain": [
       "array([2.25, 2.25, 2.25])"
      ]
     },
     "execution_count": 55,
     "metadata": {},
     "output_type": "execute_result"
    }
   ],
   "source": [
    "# For getting the variance by column\n",
    "Variance_NumP_Columns = np.var(NumP_Array, axis=0)\n",
    "Variance_NumP_Columns"
   ]
  },
  {
   "cell_type": "code",
   "execution_count": null,
   "id": "f046b937",
   "metadata": {},
   "outputs": [],
   "source": []
  }
 ],
 "metadata": {
  "kernelspec": {
   "display_name": "Python 3 (ipykernel)",
   "language": "python",
   "name": "python3"
  },
  "language_info": {
   "codemirror_mode": {
    "name": "ipython",
    "version": 3
   },
   "file_extension": ".py",
   "mimetype": "text/x-python",
   "name": "python",
   "nbconvert_exporter": "python",
   "pygments_lexer": "ipython3",
   "version": "3.10.7"
  }
 },
 "nbformat": 4,
 "nbformat_minor": 5
}
