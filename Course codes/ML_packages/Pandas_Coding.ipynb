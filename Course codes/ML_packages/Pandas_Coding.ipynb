{
 "cells": [
  {
   "cell_type": "code",
   "execution_count": 1,
   "id": "329c06c9",
   "metadata": {},
   "outputs": [],
   "source": [
    "import pandas as pd"
   ]
  },
  {
   "cell_type": "markdown",
   "id": "15f833a3",
   "metadata": {},
   "source": [
    "### Series"
   ]
  },
  {
   "cell_type": "code",
   "execution_count": 2,
   "id": "07d6aee5",
   "metadata": {},
   "outputs": [],
   "source": [
    "Age = pd.Series([10,20,30,40], index=['age1','age2','age3','age4'])"
   ]
  },
  {
   "cell_type": "code",
   "execution_count": 3,
   "id": "fe6d78fa",
   "metadata": {},
   "outputs": [
    {
     "data": {
      "text/plain": [
       "age1    10\n",
       "age2    20\n",
       "age3    30\n",
       "age4    40\n",
       "dtype: int64"
      ]
     },
     "execution_count": 3,
     "metadata": {},
     "output_type": "execute_result"
    }
   ],
   "source": [
    "Age"
   ]
  },
  {
   "cell_type": "markdown",
   "id": "9f77849b",
   "metadata": {},
   "source": [
    "#### Extracting one value"
   ]
  },
  {
   "cell_type": "code",
   "execution_count": 6,
   "id": "73418ad4",
   "metadata": {},
   "outputs": [
    {
     "data": {
      "text/plain": [
       "30"
      ]
     },
     "execution_count": 6,
     "metadata": {},
     "output_type": "execute_result"
    }
   ],
   "source": [
    "ag3 = Age.age3\n",
    "ag3"
   ]
  },
  {
   "cell_type": "markdown",
   "id": "6c1f515c",
   "metadata": {},
   "source": [
    "#### Filtering"
   ]
  },
  {
   "cell_type": "code",
   "execution_count": 11,
   "id": "498e8894",
   "metadata": {
    "scrolled": true
   },
   "outputs": [
    {
     "data": {
      "text/plain": [
       "age2    20\n",
       "age3    30\n",
       "age4    40\n",
       "dtype: int64"
      ]
     },
     "execution_count": 11,
     "metadata": {},
     "output_type": "execute_result"
    }
   ],
   "source": [
    "Filtered_Age = Age[Age>10]\n",
    "Filtered_Age"
   ]
  },
  {
   "cell_type": "markdown",
   "id": "e8efcdbb",
   "metadata": {},
   "source": [
    "#### Getting values"
   ]
  },
  {
   "cell_type": "code",
   "execution_count": 12,
   "id": "3dd8bfaa",
   "metadata": {},
   "outputs": [
    {
     "data": {
      "text/plain": [
       "array([10, 20, 30, 40])"
      ]
     },
     "execution_count": 12,
     "metadata": {},
     "output_type": "execute_result"
    }
   ],
   "source": [
    "Age.values"
   ]
  },
  {
   "cell_type": "code",
   "execution_count": 13,
   "id": "e7f590d7",
   "metadata": {
    "scrolled": true
   },
   "outputs": [
    {
     "data": {
      "text/plain": [
       "<bound method IndexOpsMixin.value_counts of age1    10\n",
       "age2    20\n",
       "age3    30\n",
       "age4    40\n",
       "dtype: int64>"
      ]
     },
     "execution_count": 13,
     "metadata": {},
     "output_type": "execute_result"
    }
   ],
   "source": [
    "Age.value_counts"
   ]
  },
  {
   "cell_type": "markdown",
   "id": "0d92518f",
   "metadata": {},
   "source": [
    "#### Getting indexes of the series"
   ]
  },
  {
   "cell_type": "code",
   "execution_count": 14,
   "id": "74dee3f6",
   "metadata": {},
   "outputs": [
    {
     "data": {
      "text/plain": [
       "Index(['age1', 'age2', 'age3', 'age4'], dtype='object')"
      ]
     },
     "execution_count": 14,
     "metadata": {},
     "output_type": "execute_result"
    }
   ],
   "source": [
    "Age.index"
   ]
  },
  {
   "cell_type": "markdown",
   "id": "543da447",
   "metadata": {},
   "source": [
    "#### Change index"
   ]
  },
  {
   "cell_type": "code",
   "execution_count": 15,
   "id": "4c31db48",
   "metadata": {},
   "outputs": [],
   "source": [
    "Age.index = ['A1','A2', 'A3', 'A4']"
   ]
  },
  {
   "cell_type": "code",
   "execution_count": 16,
   "id": "e7ae73be",
   "metadata": {},
   "outputs": [
    {
     "data": {
      "text/plain": [
       "A1    10\n",
       "A2    20\n",
       "A3    30\n",
       "A4    40\n",
       "dtype: int64"
      ]
     },
     "execution_count": 16,
     "metadata": {},
     "output_type": "execute_result"
    }
   ],
   "source": [
    "Age"
   ]
  },
  {
   "cell_type": "markdown",
   "id": "12efb3d1",
   "metadata": {},
   "source": [
    "### DataFrames"
   ]
  },
  {
   "cell_type": "code",
   "execution_count": 17,
   "id": "7deca814",
   "metadata": {},
   "outputs": [],
   "source": [
    "import numpy as np"
   ]
  },
  {
   "cell_type": "code",
   "execution_count": 18,
   "id": "55f3d1af",
   "metadata": {},
   "outputs": [
    {
     "data": {
      "text/plain": [
       "array([[20, 10,  8],\n",
       "       [25,  8, 10],\n",
       "       [27,  5,  3],\n",
       "       [30,  9,  7]])"
      ]
     },
     "execution_count": 18,
     "metadata": {},
     "output_type": "execute_result"
    }
   ],
   "source": [
    "df = np.array([[20,10,8], [25,8,10], [27,5,3], [30,9,7]])\n",
    "df"
   ]
  },
  {
   "cell_type": "code",
   "execution_count": 19,
   "id": "b5d0dda4",
   "metadata": {},
   "outputs": [
    {
     "data": {
      "text/html": [
       "<div>\n",
       "<style scoped>\n",
       "    .dataframe tbody tr th:only-of-type {\n",
       "        vertical-align: middle;\n",
       "    }\n",
       "\n",
       "    .dataframe tbody tr th {\n",
       "        vertical-align: top;\n",
       "    }\n",
       "\n",
       "    .dataframe thead th {\n",
       "        text-align: right;\n",
       "    }\n",
       "</style>\n",
       "<table border=\"1\" class=\"dataframe\">\n",
       "  <thead>\n",
       "    <tr style=\"text-align: right;\">\n",
       "      <th></th>\n",
       "      <th>0</th>\n",
       "      <th>1</th>\n",
       "      <th>2</th>\n",
       "    </tr>\n",
       "  </thead>\n",
       "  <tbody>\n",
       "    <tr>\n",
       "      <th>0</th>\n",
       "      <td>20</td>\n",
       "      <td>10</td>\n",
       "      <td>8</td>\n",
       "    </tr>\n",
       "    <tr>\n",
       "      <th>1</th>\n",
       "      <td>25</td>\n",
       "      <td>8</td>\n",
       "      <td>10</td>\n",
       "    </tr>\n",
       "    <tr>\n",
       "      <th>2</th>\n",
       "      <td>27</td>\n",
       "      <td>5</td>\n",
       "      <td>3</td>\n",
       "    </tr>\n",
       "    <tr>\n",
       "      <th>3</th>\n",
       "      <td>30</td>\n",
       "      <td>9</td>\n",
       "      <td>7</td>\n",
       "    </tr>\n",
       "  </tbody>\n",
       "</table>\n",
       "</div>"
      ],
      "text/plain": [
       "    0   1   2\n",
       "0  20  10   8\n",
       "1  25   8  10\n",
       "2  27   5   3\n",
       "3  30   9   7"
      ]
     },
     "execution_count": 19,
     "metadata": {},
     "output_type": "execute_result"
    }
   ],
   "source": [
    "data_set = pd.DataFrame(df)\n",
    "data_set"
   ]
  },
  {
   "cell_type": "code",
   "execution_count": 20,
   "id": "bfe676c7",
   "metadata": {},
   "outputs": [
    {
     "data": {
      "text/plain": [
       "0    int64\n",
       "1    int64\n",
       "2    int64\n",
       "dtype: object"
      ]
     },
     "execution_count": 20,
     "metadata": {},
     "output_type": "execute_result"
    }
   ],
   "source": [
    "data_set.dtypes"
   ]
  },
  {
   "cell_type": "code",
   "execution_count": 23,
   "id": "b55c4834",
   "metadata": {},
   "outputs": [
    {
     "data": {
      "text/html": [
       "<div>\n",
       "<style scoped>\n",
       "    .dataframe tbody tr th:only-of-type {\n",
       "        vertical-align: middle;\n",
       "    }\n",
       "\n",
       "    .dataframe tbody tr th {\n",
       "        vertical-align: top;\n",
       "    }\n",
       "\n",
       "    .dataframe thead th {\n",
       "        text-align: right;\n",
       "    }\n",
       "</style>\n",
       "<table border=\"1\" class=\"dataframe\">\n",
       "  <thead>\n",
       "    <tr style=\"text-align: right;\">\n",
       "      <th></th>\n",
       "      <th>Age</th>\n",
       "      <th>Grade1</th>\n",
       "      <th>Grade2</th>\n",
       "    </tr>\n",
       "  </thead>\n",
       "  <tbody>\n",
       "    <tr>\n",
       "      <th>S1</th>\n",
       "      <td>20</td>\n",
       "      <td>10</td>\n",
       "      <td>8</td>\n",
       "    </tr>\n",
       "    <tr>\n",
       "      <th>S2</th>\n",
       "      <td>25</td>\n",
       "      <td>8</td>\n",
       "      <td>10</td>\n",
       "    </tr>\n",
       "    <tr>\n",
       "      <th>S3</th>\n",
       "      <td>27</td>\n",
       "      <td>5</td>\n",
       "      <td>3</td>\n",
       "    </tr>\n",
       "    <tr>\n",
       "      <th>S4</th>\n",
       "      <td>30</td>\n",
       "      <td>9</td>\n",
       "      <td>7</td>\n",
       "    </tr>\n",
       "  </tbody>\n",
       "</table>\n",
       "</div>"
      ],
      "text/plain": [
       "    Age  Grade1  Grade2\n",
       "S1   20      10       8\n",
       "S2   25       8      10\n",
       "S3   27       5       3\n",
       "S4   30       9       7"
      ]
     },
     "execution_count": 23,
     "metadata": {},
     "output_type": "execute_result"
    }
   ],
   "source": [
    "data_set = pd.DataFrame(df, index=['S1','S2','S3','S4'], columns=['Age', 'Grade1','Grade2'])\n",
    "data_set"
   ]
  },
  {
   "cell_type": "code",
   "execution_count": 24,
   "id": "5084549d",
   "metadata": {
    "scrolled": true
   },
   "outputs": [
    {
     "data": {
      "text/html": [
       "<div>\n",
       "<style scoped>\n",
       "    .dataframe tbody tr th:only-of-type {\n",
       "        vertical-align: middle;\n",
       "    }\n",
       "\n",
       "    .dataframe tbody tr th {\n",
       "        vertical-align: top;\n",
       "    }\n",
       "\n",
       "    .dataframe thead th {\n",
       "        text-align: right;\n",
       "    }\n",
       "</style>\n",
       "<table border=\"1\" class=\"dataframe\">\n",
       "  <thead>\n",
       "    <tr style=\"text-align: right;\">\n",
       "      <th></th>\n",
       "      <th>Age</th>\n",
       "      <th>Grade1</th>\n",
       "      <th>Grade2</th>\n",
       "      <th>Grade3</th>\n",
       "    </tr>\n",
       "  </thead>\n",
       "  <tbody>\n",
       "    <tr>\n",
       "      <th>S1</th>\n",
       "      <td>20</td>\n",
       "      <td>10</td>\n",
       "      <td>8</td>\n",
       "      <td>9</td>\n",
       "    </tr>\n",
       "    <tr>\n",
       "      <th>S2</th>\n",
       "      <td>25</td>\n",
       "      <td>8</td>\n",
       "      <td>10</td>\n",
       "      <td>6</td>\n",
       "    </tr>\n",
       "    <tr>\n",
       "      <th>S3</th>\n",
       "      <td>27</td>\n",
       "      <td>5</td>\n",
       "      <td>3</td>\n",
       "      <td>7</td>\n",
       "    </tr>\n",
       "    <tr>\n",
       "      <th>S4</th>\n",
       "      <td>30</td>\n",
       "      <td>9</td>\n",
       "      <td>7</td>\n",
       "      <td>10</td>\n",
       "    </tr>\n",
       "  </tbody>\n",
       "</table>\n",
       "</div>"
      ],
      "text/plain": [
       "    Age  Grade1  Grade2  Grade3\n",
       "S1   20      10       8       9\n",
       "S2   25       8      10       6\n",
       "S3   27       5       3       7\n",
       "S4   30       9       7      10"
      ]
     },
     "execution_count": 24,
     "metadata": {},
     "output_type": "execute_result"
    }
   ],
   "source": [
    "data_set['Grade3'] = [9,6,7,10]\n",
    "data_set"
   ]
  },
  {
   "cell_type": "markdown",
   "id": "19a8b932",
   "metadata": {},
   "source": [
    "#### Selecting a row from dataframe by name-> using `loc` class"
   ]
  },
  {
   "cell_type": "code",
   "execution_count": 27,
   "id": "7fffd024",
   "metadata": {},
   "outputs": [
    {
     "data": {
      "text/plain": [
       "Age       25\n",
       "Grade1     8\n",
       "Grade2    10\n",
       "Grade3     6\n",
       "Name: S2, dtype: int64"
      ]
     },
     "execution_count": 27,
     "metadata": {},
     "output_type": "execute_result"
    }
   ],
   "source": [
    "data_set.loc['S2']"
   ]
  },
  {
   "cell_type": "code",
   "execution_count": 29,
   "id": "70d41df4",
   "metadata": {},
   "outputs": [
    {
     "data": {
      "text/plain": [
       "Age       27\n",
       "Grade1     5\n",
       "Grade2     3\n",
       "Grade3     7\n",
       "Name: S3, dtype: int64"
      ]
     },
     "execution_count": 29,
     "metadata": {},
     "output_type": "execute_result"
    }
   ],
   "source": [
    "R3 = data_set.loc['S3']\n",
    "R3"
   ]
  },
  {
   "cell_type": "markdown",
   "id": "dc9b0dc9",
   "metadata": {},
   "source": [
    "#### Using index -> using `iloc` class"
   ]
  },
  {
   "cell_type": "code",
   "execution_count": 32,
   "id": "0c952a40",
   "metadata": {},
   "outputs": [
    {
     "data": {
      "text/plain": [
       "6"
      ]
     },
     "execution_count": 32,
     "metadata": {},
     "output_type": "execute_result"
    }
   ],
   "source": [
    "data_set.iloc[1][3]"
   ]
  },
  {
   "cell_type": "code",
   "execution_count": 34,
   "id": "c0943881",
   "metadata": {},
   "outputs": [
    {
     "data": {
      "text/plain": [
       "9"
      ]
     },
     "execution_count": 34,
     "metadata": {},
     "output_type": "execute_result"
    }
   ],
   "source": [
    "data_set.iloc[0, 3]"
   ]
  },
  {
   "cell_type": "markdown",
   "id": "75e16c9e",
   "metadata": {},
   "source": [
    "#### Separating one column"
   ]
  },
  {
   "cell_type": "code",
   "execution_count": 36,
   "id": "bb52ae4e",
   "metadata": {},
   "outputs": [
    {
     "data": {
      "text/plain": [
       "S1     9\n",
       "S2     6\n",
       "S3     7\n",
       "S4    10\n",
       "Name: Grade3, dtype: int64"
      ]
     },
     "execution_count": 36,
     "metadata": {},
     "output_type": "execute_result"
    }
   ],
   "source": [
    "data_set.iloc[:,3] #All the rows for the third column"
   ]
  },
  {
   "cell_type": "code",
   "execution_count": 37,
   "id": "b7d65d59",
   "metadata": {
    "scrolled": true
   },
   "outputs": [
    {
     "data": {
      "text/plain": [
       "S1    20\n",
       "S2    25\n",
       "S3    27\n",
       "S4    30\n",
       "Name: Age, dtype: int64"
      ]
     },
     "execution_count": 37,
     "metadata": {},
     "output_type": "execute_result"
    }
   ],
   "source": [
    "data_set.iloc[:,0]"
   ]
  },
  {
   "cell_type": "markdown",
   "id": "578fd5dc",
   "metadata": {},
   "source": [
    "#### Selecting all columns, some rows"
   ]
  },
  {
   "cell_type": "code",
   "execution_count": 42,
   "id": "6ff6db4d",
   "metadata": {
    "scrolled": true
   },
   "outputs": [
    {
     "data": {
      "text/html": [
       "<div>\n",
       "<style scoped>\n",
       "    .dataframe tbody tr th:only-of-type {\n",
       "        vertical-align: middle;\n",
       "    }\n",
       "\n",
       "    .dataframe tbody tr th {\n",
       "        vertical-align: top;\n",
       "    }\n",
       "\n",
       "    .dataframe thead th {\n",
       "        text-align: right;\n",
       "    }\n",
       "</style>\n",
       "<table border=\"1\" class=\"dataframe\">\n",
       "  <thead>\n",
       "    <tr style=\"text-align: right;\">\n",
       "      <th></th>\n",
       "      <th>Grade1</th>\n",
       "      <th>Grade2</th>\n",
       "    </tr>\n",
       "  </thead>\n",
       "  <tbody>\n",
       "    <tr>\n",
       "      <th>S1</th>\n",
       "      <td>10</td>\n",
       "      <td>8</td>\n",
       "    </tr>\n",
       "    <tr>\n",
       "      <th>S2</th>\n",
       "      <td>8</td>\n",
       "      <td>10</td>\n",
       "    </tr>\n",
       "    <tr>\n",
       "      <th>S3</th>\n",
       "      <td>5</td>\n",
       "      <td>3</td>\n",
       "    </tr>\n",
       "    <tr>\n",
       "      <th>S4</th>\n",
       "      <td>9</td>\n",
       "      <td>7</td>\n",
       "    </tr>\n",
       "  </tbody>\n",
       "</table>\n",
       "</div>"
      ],
      "text/plain": [
       "    Grade1  Grade2\n",
       "S1      10       8\n",
       "S2       8      10\n",
       "S3       5       3\n",
       "S4       9       7"
      ]
     },
     "execution_count": 42,
     "metadata": {},
     "output_type": "execute_result"
    }
   ],
   "source": [
    "filtered_df = data_set.iloc[:,1:3] # the last column is not counted when defining the end\n",
    "filtered_df"
   ]
  },
  {
   "cell_type": "markdown",
   "id": "085bed9d",
   "metadata": {},
   "source": [
    "#### Dropping values"
   ]
  },
  {
   "cell_type": "code",
   "execution_count": 44,
   "id": "09d4f3ff",
   "metadata": {},
   "outputs": [
    {
     "data": {
      "text/html": [
       "<div>\n",
       "<style scoped>\n",
       "    .dataframe tbody tr th:only-of-type {\n",
       "        vertical-align: middle;\n",
       "    }\n",
       "\n",
       "    .dataframe tbody tr th {\n",
       "        vertical-align: top;\n",
       "    }\n",
       "\n",
       "    .dataframe thead th {\n",
       "        text-align: right;\n",
       "    }\n",
       "</style>\n",
       "<table border=\"1\" class=\"dataframe\">\n",
       "  <thead>\n",
       "    <tr style=\"text-align: right;\">\n",
       "      <th></th>\n",
       "      <th>Age</th>\n",
       "      <th>Grade2</th>\n",
       "      <th>Grade3</th>\n",
       "    </tr>\n",
       "  </thead>\n",
       "  <tbody>\n",
       "    <tr>\n",
       "      <th>S1</th>\n",
       "      <td>20</td>\n",
       "      <td>8</td>\n",
       "      <td>9</td>\n",
       "    </tr>\n",
       "    <tr>\n",
       "      <th>S2</th>\n",
       "      <td>25</td>\n",
       "      <td>10</td>\n",
       "      <td>6</td>\n",
       "    </tr>\n",
       "    <tr>\n",
       "      <th>S3</th>\n",
       "      <td>27</td>\n",
       "      <td>3</td>\n",
       "      <td>7</td>\n",
       "    </tr>\n",
       "    <tr>\n",
       "      <th>S4</th>\n",
       "      <td>30</td>\n",
       "      <td>7</td>\n",
       "      <td>10</td>\n",
       "    </tr>\n",
       "  </tbody>\n",
       "</table>\n",
       "</div>"
      ],
      "text/plain": [
       "    Age  Grade2  Grade3\n",
       "S1   20       8       9\n",
       "S2   25      10       6\n",
       "S3   27       3       7\n",
       "S4   30       7      10"
      ]
     },
     "execution_count": 44,
     "metadata": {},
     "output_type": "execute_result"
    }
   ],
   "source": [
    "# axis -> define if it is in row(0 -horizontal) or column(1 -vertical)\n",
    "data_set.drop('Grade1', axis=1)"
   ]
  },
  {
   "cell_type": "markdown",
   "id": "2228b943",
   "metadata": {},
   "source": [
    "#### Replacing values"
   ]
  },
  {
   "cell_type": "code",
   "execution_count": 47,
   "id": "7a775d11",
   "metadata": {
    "scrolled": true
   },
   "outputs": [
    {
     "data": {
      "text/html": [
       "<div>\n",
       "<style scoped>\n",
       "    .dataframe tbody tr th:only-of-type {\n",
       "        vertical-align: middle;\n",
       "    }\n",
       "\n",
       "    .dataframe tbody tr th {\n",
       "        vertical-align: top;\n",
       "    }\n",
       "\n",
       "    .dataframe thead th {\n",
       "        text-align: right;\n",
       "    }\n",
       "</style>\n",
       "<table border=\"1\" class=\"dataframe\">\n",
       "  <thead>\n",
       "    <tr style=\"text-align: right;\">\n",
       "      <th></th>\n",
       "      <th>Age</th>\n",
       "      <th>Grade1</th>\n",
       "      <th>Grade2</th>\n",
       "      <th>Grade3</th>\n",
       "    </tr>\n",
       "  </thead>\n",
       "  <tbody>\n",
       "    <tr>\n",
       "      <th>S1</th>\n",
       "      <td>20</td>\n",
       "      <td>12</td>\n",
       "      <td>8</td>\n",
       "      <td>9</td>\n",
       "    </tr>\n",
       "    <tr>\n",
       "      <th>S2</th>\n",
       "      <td>25</td>\n",
       "      <td>8</td>\n",
       "      <td>12</td>\n",
       "      <td>6</td>\n",
       "    </tr>\n",
       "    <tr>\n",
       "      <th>S3</th>\n",
       "      <td>27</td>\n",
       "      <td>5</td>\n",
       "      <td>3</td>\n",
       "      <td>7</td>\n",
       "    </tr>\n",
       "    <tr>\n",
       "      <th>S4</th>\n",
       "      <td>30</td>\n",
       "      <td>9</td>\n",
       "      <td>7</td>\n",
       "      <td>12</td>\n",
       "    </tr>\n",
       "  </tbody>\n",
       "</table>\n",
       "</div>"
      ],
      "text/plain": [
       "    Age  Grade1  Grade2  Grade3\n",
       "S1   20      12       8       9\n",
       "S2   25       8      12       6\n",
       "S3   27       5       3       7\n",
       "S4   30       9       7      12"
      ]
     },
     "execution_count": 47,
     "metadata": {},
     "output_type": "execute_result"
    }
   ],
   "source": [
    "Data_set = data_set.replace(10,12)\n",
    "Data_set"
   ]
  },
  {
   "cell_type": "markdown",
   "id": "893e4d15",
   "metadata": {},
   "source": [
    "#### Repalcing multiple values with dictionary"
   ]
  },
  {
   "cell_type": "code",
   "execution_count": 48,
   "id": "fbd178e6",
   "metadata": {},
   "outputs": [
    {
     "data": {
      "text/html": [
       "<div>\n",
       "<style scoped>\n",
       "    .dataframe tbody tr th:only-of-type {\n",
       "        vertical-align: middle;\n",
       "    }\n",
       "\n",
       "    .dataframe tbody tr th {\n",
       "        vertical-align: top;\n",
       "    }\n",
       "\n",
       "    .dataframe thead th {\n",
       "        text-align: right;\n",
       "    }\n",
       "</style>\n",
       "<table border=\"1\" class=\"dataframe\">\n",
       "  <thead>\n",
       "    <tr style=\"text-align: right;\">\n",
       "      <th></th>\n",
       "      <th>Age</th>\n",
       "      <th>Grade1</th>\n",
       "      <th>Grade2</th>\n",
       "      <th>Grade3</th>\n",
       "    </tr>\n",
       "  </thead>\n",
       "  <tbody>\n",
       "    <tr>\n",
       "      <th>S1</th>\n",
       "      <td>20</td>\n",
       "      <td>10</td>\n",
       "      <td>8</td>\n",
       "      <td>30</td>\n",
       "    </tr>\n",
       "    <tr>\n",
       "      <th>S2</th>\n",
       "      <td>25</td>\n",
       "      <td>8</td>\n",
       "      <td>10</td>\n",
       "      <td>6</td>\n",
       "    </tr>\n",
       "    <tr>\n",
       "      <th>S3</th>\n",
       "      <td>27</td>\n",
       "      <td>5</td>\n",
       "      <td>3</td>\n",
       "      <td>7</td>\n",
       "    </tr>\n",
       "    <tr>\n",
       "      <th>S4</th>\n",
       "      <td>30</td>\n",
       "      <td>30</td>\n",
       "      <td>7</td>\n",
       "      <td>10</td>\n",
       "    </tr>\n",
       "  </tbody>\n",
       "</table>\n",
       "</div>"
      ],
      "text/plain": [
       "    Age  Grade1  Grade2  Grade3\n",
       "S1   20      10       8      30\n",
       "S2   25       8      10       6\n",
       "S3   27       5       3       7\n",
       "S4   30      30       7      10"
      ]
     },
     "execution_count": 48,
     "metadata": {},
     "output_type": "execute_result"
    }
   ],
   "source": [
    "Data_set2 = data_set.replace({12:10, 9:30})\n",
    "Data_set2"
   ]
  },
  {
   "cell_type": "markdown",
   "id": "f2062748",
   "metadata": {},
   "source": [
    "#### Getting tail & head "
   ]
  },
  {
   "cell_type": "code",
   "execution_count": 49,
   "id": "06b4d1de",
   "metadata": {},
   "outputs": [
    {
     "data": {
      "text/html": [
       "<div>\n",
       "<style scoped>\n",
       "    .dataframe tbody tr th:only-of-type {\n",
       "        vertical-align: middle;\n",
       "    }\n",
       "\n",
       "    .dataframe tbody tr th {\n",
       "        vertical-align: top;\n",
       "    }\n",
       "\n",
       "    .dataframe thead th {\n",
       "        text-align: right;\n",
       "    }\n",
       "</style>\n",
       "<table border=\"1\" class=\"dataframe\">\n",
       "  <thead>\n",
       "    <tr style=\"text-align: right;\">\n",
       "      <th></th>\n",
       "      <th>Age</th>\n",
       "      <th>Grade1</th>\n",
       "      <th>Grade2</th>\n",
       "      <th>Grade3</th>\n",
       "    </tr>\n",
       "  </thead>\n",
       "  <tbody>\n",
       "    <tr>\n",
       "      <th>S1</th>\n",
       "      <td>20</td>\n",
       "      <td>10</td>\n",
       "      <td>8</td>\n",
       "      <td>9</td>\n",
       "    </tr>\n",
       "    <tr>\n",
       "      <th>S2</th>\n",
       "      <td>25</td>\n",
       "      <td>8</td>\n",
       "      <td>10</td>\n",
       "      <td>6</td>\n",
       "    </tr>\n",
       "  </tbody>\n",
       "</table>\n",
       "</div>"
      ],
      "text/plain": [
       "    Age  Grade1  Grade2  Grade3\n",
       "S1   20      10       8       9\n",
       "S2   25       8      10       6"
      ]
     },
     "execution_count": 49,
     "metadata": {},
     "output_type": "execute_result"
    }
   ],
   "source": [
    "data_set.head(2)"
   ]
  },
  {
   "cell_type": "code",
   "execution_count": 50,
   "id": "9a895795",
   "metadata": {},
   "outputs": [
    {
     "data": {
      "text/html": [
       "<div>\n",
       "<style scoped>\n",
       "    .dataframe tbody tr th:only-of-type {\n",
       "        vertical-align: middle;\n",
       "    }\n",
       "\n",
       "    .dataframe tbody tr th {\n",
       "        vertical-align: top;\n",
       "    }\n",
       "\n",
       "    .dataframe thead th {\n",
       "        text-align: right;\n",
       "    }\n",
       "</style>\n",
       "<table border=\"1\" class=\"dataframe\">\n",
       "  <thead>\n",
       "    <tr style=\"text-align: right;\">\n",
       "      <th></th>\n",
       "      <th>Age</th>\n",
       "      <th>Grade1</th>\n",
       "      <th>Grade2</th>\n",
       "      <th>Grade3</th>\n",
       "    </tr>\n",
       "  </thead>\n",
       "  <tbody>\n",
       "    <tr>\n",
       "      <th>S3</th>\n",
       "      <td>27</td>\n",
       "      <td>5</td>\n",
       "      <td>3</td>\n",
       "      <td>7</td>\n",
       "    </tr>\n",
       "    <tr>\n",
       "      <th>S4</th>\n",
       "      <td>30</td>\n",
       "      <td>9</td>\n",
       "      <td>7</td>\n",
       "      <td>10</td>\n",
       "    </tr>\n",
       "  </tbody>\n",
       "</table>\n",
       "</div>"
      ],
      "text/plain": [
       "    Age  Grade1  Grade2  Grade3\n",
       "S3   27       5       3       7\n",
       "S4   30       9       7      10"
      ]
     },
     "execution_count": 50,
     "metadata": {},
     "output_type": "execute_result"
    }
   ],
   "source": [
    "data_set.tail(2)"
   ]
  },
  {
   "cell_type": "markdown",
   "id": "df90c88b",
   "metadata": {},
   "source": [
    "#### Sorting labels "
   ]
  },
  {
   "cell_type": "code",
   "execution_count": 57,
   "id": "433401e4",
   "metadata": {},
   "outputs": [
    {
     "data": {
      "text/html": [
       "<div>\n",
       "<style scoped>\n",
       "    .dataframe tbody tr th:only-of-type {\n",
       "        vertical-align: middle;\n",
       "    }\n",
       "\n",
       "    .dataframe tbody tr th {\n",
       "        vertical-align: top;\n",
       "    }\n",
       "\n",
       "    .dataframe thead th {\n",
       "        text-align: right;\n",
       "    }\n",
       "</style>\n",
       "<table border=\"1\" class=\"dataframe\">\n",
       "  <thead>\n",
       "    <tr style=\"text-align: right;\">\n",
       "      <th></th>\n",
       "      <th>Age</th>\n",
       "      <th>Grade1</th>\n",
       "      <th>Grade2</th>\n",
       "      <th>Grade3</th>\n",
       "    </tr>\n",
       "  </thead>\n",
       "  <tbody>\n",
       "    <tr>\n",
       "      <th>S3</th>\n",
       "      <td>27</td>\n",
       "      <td>5</td>\n",
       "      <td>3</td>\n",
       "      <td>7</td>\n",
       "    </tr>\n",
       "    <tr>\n",
       "      <th>S2</th>\n",
       "      <td>25</td>\n",
       "      <td>8</td>\n",
       "      <td>10</td>\n",
       "      <td>6</td>\n",
       "    </tr>\n",
       "    <tr>\n",
       "      <th>S4</th>\n",
       "      <td>30</td>\n",
       "      <td>9</td>\n",
       "      <td>7</td>\n",
       "      <td>10</td>\n",
       "    </tr>\n",
       "    <tr>\n",
       "      <th>S1</th>\n",
       "      <td>20</td>\n",
       "      <td>10</td>\n",
       "      <td>8</td>\n",
       "      <td>9</td>\n",
       "    </tr>\n",
       "  </tbody>\n",
       "</table>\n",
       "</div>"
      ],
      "text/plain": [
       "    Age  Grade1  Grade2  Grade3\n",
       "S3   27       5       3       7\n",
       "S2   25       8      10       6\n",
       "S4   30       9       7      10\n",
       "S1   20      10       8       9"
      ]
     },
     "execution_count": 57,
     "metadata": {},
     "output_type": "execute_result"
    }
   ],
   "source": [
    "data_set.sort_values(by='Grade1',ascending=True)"
   ]
  },
  {
   "cell_type": "markdown",
   "id": "bc6969f3",
   "metadata": {},
   "source": [
    "#### Sorting by indexes"
   ]
  },
  {
   "cell_type": "code",
   "execution_count": 56,
   "id": "dd333995",
   "metadata": {},
   "outputs": [
    {
     "data": {
      "text/html": [
       "<div>\n",
       "<style scoped>\n",
       "    .dataframe tbody tr th:only-of-type {\n",
       "        vertical-align: middle;\n",
       "    }\n",
       "\n",
       "    .dataframe tbody tr th {\n",
       "        vertical-align: top;\n",
       "    }\n",
       "\n",
       "    .dataframe thead th {\n",
       "        text-align: right;\n",
       "    }\n",
       "</style>\n",
       "<table border=\"1\" class=\"dataframe\">\n",
       "  <thead>\n",
       "    <tr style=\"text-align: right;\">\n",
       "      <th></th>\n",
       "      <th>Age</th>\n",
       "      <th>Grade1</th>\n",
       "      <th>Grade2</th>\n",
       "      <th>Grade3</th>\n",
       "    </tr>\n",
       "  </thead>\n",
       "  <tbody>\n",
       "    <tr>\n",
       "      <th>S4</th>\n",
       "      <td>30</td>\n",
       "      <td>9</td>\n",
       "      <td>7</td>\n",
       "      <td>10</td>\n",
       "    </tr>\n",
       "    <tr>\n",
       "      <th>S3</th>\n",
       "      <td>27</td>\n",
       "      <td>5</td>\n",
       "      <td>3</td>\n",
       "      <td>7</td>\n",
       "    </tr>\n",
       "    <tr>\n",
       "      <th>S2</th>\n",
       "      <td>25</td>\n",
       "      <td>8</td>\n",
       "      <td>10</td>\n",
       "      <td>6</td>\n",
       "    </tr>\n",
       "    <tr>\n",
       "      <th>S1</th>\n",
       "      <td>20</td>\n",
       "      <td>10</td>\n",
       "      <td>8</td>\n",
       "      <td>9</td>\n",
       "    </tr>\n",
       "  </tbody>\n",
       "</table>\n",
       "</div>"
      ],
      "text/plain": [
       "    Age  Grade1  Grade2  Grade3\n",
       "S4   30       9       7      10\n",
       "S3   27       5       3       7\n",
       "S2   25       8      10       6\n",
       "S1   20      10       8       9"
      ]
     },
     "execution_count": 56,
     "metadata": {},
     "output_type": "execute_result"
    }
   ],
   "source": [
    "data_set.sort_index(axis=0, ascending=False)"
   ]
  },
  {
   "cell_type": "markdown",
   "id": "51b8b4ab",
   "metadata": {},
   "source": [
    "#### Opening a dataset in CSV"
   ]
  },
  {
   "cell_type": "code",
   "execution_count": 58,
   "id": "3bb532e3",
   "metadata": {},
   "outputs": [],
   "source": [
    "import os\n",
    "working_dir = os.getcwd()"
   ]
  },
  {
   "cell_type": "code",
   "execution_count": 60,
   "id": "2c9a0b7b",
   "metadata": {},
   "outputs": [
    {
     "data": {
      "text/plain": [
       "'/Users/nathalia/Personal/code-practice/machine-learning/ML & Data Science/Course codes/ML_packages/Data_Set.csv'"
      ]
     },
     "execution_count": 60,
     "metadata": {},
     "output_type": "execute_result"
    }
   ],
   "source": [
    "data_path = working_dir + '/Data_Set.csv'\n",
    "data_path"
   ]
  },
  {
   "cell_type": "code",
   "execution_count": 61,
   "id": "6b42ee25",
   "metadata": {},
   "outputs": [],
   "source": [
    "data_ex = pd.read_csv(data_path)"
   ]
  },
  {
   "cell_type": "code",
   "execution_count": 63,
   "id": "fa5356fd",
   "metadata": {},
   "outputs": [
    {
     "data": {
      "text/html": [
       "<div>\n",
       "<style scoped>\n",
       "    .dataframe tbody tr th:only-of-type {\n",
       "        vertical-align: middle;\n",
       "    }\n",
       "\n",
       "    .dataframe tbody tr th {\n",
       "        vertical-align: top;\n",
       "    }\n",
       "\n",
       "    .dataframe thead th {\n",
       "        text-align: right;\n",
       "    }\n",
       "</style>\n",
       "<table border=\"1\" class=\"dataframe\">\n",
       "  <thead>\n",
       "    <tr style=\"text-align: right;\">\n",
       "      <th></th>\n",
       "      <th>Name of the data = Home Consumption</th>\n",
       "      <th>Unnamed: 1</th>\n",
       "      <th>Unnamed: 2</th>\n",
       "      <th>Unnamed: 3</th>\n",
       "      <th>Unnamed: 4</th>\n",
       "      <th>Unnamed: 5</th>\n",
       "    </tr>\n",
       "  </thead>\n",
       "  <tbody>\n",
       "    <tr>\n",
       "      <th>0</th>\n",
       "      <td>Unit = kW and $/kW</td>\n",
       "      <td>NaN</td>\n",
       "      <td>NaN</td>\n",
       "      <td>NaN</td>\n",
       "      <td>NaN</td>\n",
       "      <td>NaN</td>\n",
       "    </tr>\n",
       "    <tr>\n",
       "      <th>1</th>\n",
       "      <td>Time</td>\n",
       "      <td>E_Plug</td>\n",
       "      <td>E_Heat</td>\n",
       "      <td>Price</td>\n",
       "      <td>Temperature</td>\n",
       "      <td>No. Occupants</td>\n",
       "    </tr>\n",
       "    <tr>\n",
       "      <th>2</th>\n",
       "      <td>1</td>\n",
       "      <td>24</td>\n",
       "      <td>28</td>\n",
       "      <td>10</td>\n",
       "      <td>-15</td>\n",
       "      <td>12</td>\n",
       "    </tr>\n",
       "    <tr>\n",
       "      <th>3</th>\n",
       "      <td>2</td>\n",
       "      <td>17</td>\n",
       "      <td>32</td>\n",
       "      <td>12</td>\n",
       "      <td>-17</td>\n",
       "      <td>12</td>\n",
       "    </tr>\n",
       "    <tr>\n",
       "      <th>4</th>\n",
       "      <td>3</td>\n",
       "      <td>16</td>\n",
       "      <td>34</td>\n",
       "      <td>11</td>\n",
       "      <td>-19</td>\n",
       "      <td>12</td>\n",
       "    </tr>\n",
       "    <tr>\n",
       "      <th>5</th>\n",
       "      <td>3</td>\n",
       "      <td>16</td>\n",
       "      <td>34</td>\n",
       "      <td>11</td>\n",
       "      <td>-19</td>\n",
       "      <td>12</td>\n",
       "    </tr>\n",
       "    <tr>\n",
       "      <th>6</th>\n",
       "      <td>4</td>\n",
       "      <td>16</td>\n",
       "      <td>33</td>\n",
       "      <td>12</td>\n",
       "      <td>-18</td>\n",
       "      <td>12</td>\n",
       "    </tr>\n",
       "    <tr>\n",
       "      <th>7</th>\n",
       "      <td>5</td>\n",
       "      <td>16</td>\n",
       "      <td>30</td>\n",
       "      <td>10</td>\n",
       "      <td>-14</td>\n",
       "      <td>12</td>\n",
       "    </tr>\n",
       "    <tr>\n",
       "      <th>8</th>\n",
       "      <td>6</td>\n",
       "      <td>16</td>\n",
       "      <td>31</td>\n",
       "      <td>10</td>\n",
       "      <td>-16</td>\n",
       "      <td>12</td>\n",
       "    </tr>\n",
       "    <tr>\n",
       "      <th>9</th>\n",
       "      <td>7</td>\n",
       "      <td>19</td>\n",
       "      <td>28</td>\n",
       "      <td>14</td>\n",
       "      <td>-14</td>\n",
       "      <td>12</td>\n",
       "    </tr>\n",
       "    <tr>\n",
       "      <th>10</th>\n",
       "      <td>8</td>\n",
       "      <td>22</td>\n",
       "      <td>29</td>\n",
       "      <td>12</td>\n",
       "      <td>-15</td>\n",
       "      <td>9</td>\n",
       "    </tr>\n",
       "    <tr>\n",
       "      <th>11</th>\n",
       "      <td>9</td>\n",
       "      <td>25</td>\n",
       "      <td>26</td>\n",
       "      <td>12</td>\n",
       "      <td>-12</td>\n",
       "      <td>8</td>\n",
       "    </tr>\n",
       "    <tr>\n",
       "      <th>12</th>\n",
       "      <td>10</td>\n",
       "      <td>26</td>\n",
       "      <td>24</td>\n",
       "      <td>14</td>\n",
       "      <td>-8</td>\n",
       "      <td>8</td>\n",
       "    </tr>\n",
       "    <tr>\n",
       "      <th>13</th>\n",
       "      <td>11</td>\n",
       "      <td>27</td>\n",
       "      <td>20</td>\n",
       "      <td>14</td>\n",
       "      <td>-4</td>\n",
       "      <td>8</td>\n",
       "    </tr>\n",
       "    <tr>\n",
       "      <th>14</th>\n",
       "      <td>12</td>\n",
       "      <td>30</td>\n",
       "      <td>19</td>\n",
       "      <td>16</td>\n",
       "      <td>0</td>\n",
       "      <td>5</td>\n",
       "    </tr>\n",
       "    <tr>\n",
       "      <th>15</th>\n",
       "      <td>13</td>\n",
       "      <td>30</td>\n",
       "      <td>19</td>\n",
       "      <td>16</td>\n",
       "      <td>0</td>\n",
       "      <td>4</td>\n",
       "    </tr>\n",
       "    <tr>\n",
       "      <th>16</th>\n",
       "      <td>14</td>\n",
       "      <td>NaN</td>\n",
       "      <td>13</td>\n",
       "      <td>17</td>\n",
       "      <td>2</td>\n",
       "      <td>4</td>\n",
       "    </tr>\n",
       "    <tr>\n",
       "      <th>17</th>\n",
       "      <td>15</td>\n",
       "      <td>27</td>\n",
       "      <td>14</td>\n",
       "      <td>17</td>\n",
       "      <td>3</td>\n",
       "      <td>4</td>\n",
       "    </tr>\n",
       "    <tr>\n",
       "      <th>18</th>\n",
       "      <td>16</td>\n",
       "      <td>27</td>\n",
       "      <td>16</td>\n",
       "      <td>17</td>\n",
       "      <td>2</td>\n",
       "      <td>6</td>\n",
       "    </tr>\n",
       "    <tr>\n",
       "      <th>19</th>\n",
       "      <td>17</td>\n",
       "      <td>28</td>\n",
       "      <td>-4</td>\n",
       "      <td>18</td>\n",
       "      <td>0</td>\n",
       "      <td>8</td>\n",
       "    </tr>\n",
       "    <tr>\n",
       "      <th>20</th>\n",
       "      <td>18</td>\n",
       "      <td>33</td>\n",
       "      <td>26</td>\n",
       "      <td>20</td>\n",
       "      <td>-6</td>\n",
       "      <td>9</td>\n",
       "    </tr>\n",
       "    <tr>\n",
       "      <th>21</th>\n",
       "      <td>19</td>\n",
       "      <td>42</td>\n",
       "      <td>32</td>\n",
       "      <td>21</td>\n",
       "      <td>-8</td>\n",
       "      <td>10</td>\n",
       "    </tr>\n",
       "    <tr>\n",
       "      <th>22</th>\n",
       "      <td>20</td>\n",
       "      <td>120</td>\n",
       "      <td>33</td>\n",
       "      <td>21</td>\n",
       "      <td>-12</td>\n",
       "      <td>12</td>\n",
       "    </tr>\n",
       "    <tr>\n",
       "      <th>23</th>\n",
       "      <td>21</td>\n",
       "      <td>47</td>\n",
       "      <td>32</td>\n",
       "      <td>21</td>\n",
       "      <td>-16</td>\n",
       "      <td>12</td>\n",
       "    </tr>\n",
       "    <tr>\n",
       "      <th>24</th>\n",
       "      <td>22</td>\n",
       "      <td>44</td>\n",
       "      <td>30</td>\n",
       "      <td>22</td>\n",
       "      <td>-18</td>\n",
       "      <td>12</td>\n",
       "    </tr>\n",
       "    <tr>\n",
       "      <th>25</th>\n",
       "      <td>23</td>\n",
       "      <td>36</td>\n",
       "      <td>35</td>\n",
       "      <td>!</td>\n",
       "      <td>-19</td>\n",
       "      <td>12</td>\n",
       "    </tr>\n",
       "    <tr>\n",
       "      <th>26</th>\n",
       "      <td>24</td>\n",
       "      <td>37</td>\n",
       "      <td>36</td>\n",
       "      <td>18</td>\n",
       "      <td>-22</td>\n",
       "      <td>12</td>\n",
       "    </tr>\n",
       "  </tbody>\n",
       "</table>\n",
       "</div>"
      ],
      "text/plain": [
       "   Name of the data = Home Consumption Unnamed: 1 Unnamed: 2 Unnamed: 3  \\\n",
       "0                   Unit = kW and $/kW        NaN        NaN        NaN   \n",
       "1                                 Time     E_Plug     E_Heat      Price   \n",
       "2                                    1         24         28         10   \n",
       "3                                    2         17         32         12   \n",
       "4                                    3         16         34         11   \n",
       "5                                    3         16         34         11   \n",
       "6                                    4         16         33         12   \n",
       "7                                    5         16         30         10   \n",
       "8                                    6         16         31         10   \n",
       "9                                    7         19         28         14   \n",
       "10                                   8         22         29         12   \n",
       "11                                   9         25         26         12   \n",
       "12                                  10         26         24         14   \n",
       "13                                  11         27         20         14   \n",
       "14                                  12         30         19         16   \n",
       "15                                  13         30         19         16   \n",
       "16                                  14        NaN         13         17   \n",
       "17                                  15         27         14         17   \n",
       "18                                  16         27         16         17   \n",
       "19                                  17         28         -4         18   \n",
       "20                                  18         33         26         20   \n",
       "21                                  19         42         32         21   \n",
       "22                                  20        120         33         21   \n",
       "23                                  21         47         32         21   \n",
       "24                                  22         44         30         22   \n",
       "25                                  23         36         35          !   \n",
       "26                                  24         37         36         18   \n",
       "\n",
       "     Unnamed: 4     Unnamed: 5  \n",
       "0           NaN            NaN  \n",
       "1   Temperature  No. Occupants  \n",
       "2           -15             12  \n",
       "3           -17             12  \n",
       "4           -19             12  \n",
       "5           -19             12  \n",
       "6           -18             12  \n",
       "7           -14             12  \n",
       "8           -16             12  \n",
       "9           -14             12  \n",
       "10          -15              9  \n",
       "11          -12              8  \n",
       "12           -8              8  \n",
       "13           -4              8  \n",
       "14            0              5  \n",
       "15            0              4  \n",
       "16            2              4  \n",
       "17            3              4  \n",
       "18            2              6  \n",
       "19            0              8  \n",
       "20           -6              9  \n",
       "21           -8             10  \n",
       "22          -12             12  \n",
       "23          -16             12  \n",
       "24          -18             12  \n",
       "25          -19             12  \n",
       "26          -22             12  "
      ]
     },
     "execution_count": 63,
     "metadata": {},
     "output_type": "execute_result"
    }
   ],
   "source": [
    "data_ex"
   ]
  },
  {
   "cell_type": "code",
   "execution_count": null,
   "id": "7c78e7f0",
   "metadata": {},
   "outputs": [],
   "source": []
  }
 ],
 "metadata": {
  "kernelspec": {
   "display_name": "Python 3 (ipykernel)",
   "language": "python",
   "name": "python3"
  },
  "language_info": {
   "codemirror_mode": {
    "name": "ipython",
    "version": 3
   },
   "file_extension": ".py",
   "mimetype": "text/x-python",
   "name": "python",
   "nbconvert_exporter": "python",
   "pygments_lexer": "ipython3",
   "version": "3.10.7"
  }
 },
 "nbformat": 4,
 "nbformat_minor": 5
}
