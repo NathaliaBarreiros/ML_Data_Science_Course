{
 "cells": [
  {
   "cell_type": "markdown",
   "id": "46e3541a",
   "metadata": {},
   "source": [
    "## Boston Price"
   ]
  },
  {
   "cell_type": "code",
   "execution_count": 1,
   "id": "7cf1f412",
   "metadata": {},
   "outputs": [],
   "source": [
    "from sklearn.datasets import load_boston\n",
    "import pandas as pd\n",
    "import numpy as np\n",
    "import matplotlib.pyplot as plt"
   ]
  },
  {
   "cell_type": "code",
   "execution_count": 2,
   "id": "1fdefb56",
   "metadata": {},
   "outputs": [
    {
     "name": "stderr",
     "output_type": "stream",
     "text": [
      "/Users/nathalia/.pyenv/versions/py-3.10.7/lib/python3.10/site-packages/sklearn/utils/deprecation.py:87: FutureWarning: Function load_boston is deprecated; `load_boston` is deprecated in 1.0 and will be removed in 1.2.\n",
      "\n",
      "    The Boston housing prices dataset has an ethical problem. You can refer to\n",
      "    the documentation of this function for further details.\n",
      "\n",
      "    The scikit-learn maintainers therefore strongly discourage the use of this\n",
      "    dataset unless the purpose of the code is to study and educate about\n",
      "    ethical issues in data science and machine learning.\n",
      "\n",
      "    In this special case, you can fetch the dataset from the original\n",
      "    source::\n",
      "\n",
      "        import pandas as pd\n",
      "        import numpy as np\n",
      "\n",
      "        data_url = \"http://lib.stat.cmu.edu/datasets/boston\"\n",
      "        raw_df = pd.read_csv(data_url, sep=\"\\s+\", skiprows=22, header=None)\n",
      "        data = np.hstack([raw_df.values[::2, :], raw_df.values[1::2, :2]])\n",
      "        target = raw_df.values[1::2, 2]\n",
      "\n",
      "    Alternative datasets include the California housing dataset (i.e.\n",
      "    :func:`~sklearn.datasets.fetch_california_housing`) and the Ames housing\n",
      "    dataset. You can load the datasets as follows::\n",
      "\n",
      "        from sklearn.datasets import fetch_california_housing\n",
      "        housing = fetch_california_housing()\n",
      "\n",
      "    for the California housing dataset and::\n",
      "\n",
      "        from sklearn.datasets import fetch_openml\n",
      "        housing = fetch_openml(name=\"house_prices\", as_frame=True)\n",
      "\n",
      "    for the Ames housing dataset.\n",
      "  warnings.warn(msg, category=FutureWarning)\n"
     ]
    },
    {
     "data": {
      "text/plain": [
       "{'data': array([[6.3200e-03, 1.8000e+01, 2.3100e+00, ..., 1.5300e+01, 3.9690e+02,\n",
       "         4.9800e+00],\n",
       "        [2.7310e-02, 0.0000e+00, 7.0700e+00, ..., 1.7800e+01, 3.9690e+02,\n",
       "         9.1400e+00],\n",
       "        [2.7290e-02, 0.0000e+00, 7.0700e+00, ..., 1.7800e+01, 3.9283e+02,\n",
       "         4.0300e+00],\n",
       "        ...,\n",
       "        [6.0760e-02, 0.0000e+00, 1.1930e+01, ..., 2.1000e+01, 3.9690e+02,\n",
       "         5.6400e+00],\n",
       "        [1.0959e-01, 0.0000e+00, 1.1930e+01, ..., 2.1000e+01, 3.9345e+02,\n",
       "         6.4800e+00],\n",
       "        [4.7410e-02, 0.0000e+00, 1.1930e+01, ..., 2.1000e+01, 3.9690e+02,\n",
       "         7.8800e+00]]),\n",
       " 'target': array([24. , 21.6, 34.7, 33.4, 36.2, 28.7, 22.9, 27.1, 16.5, 18.9, 15. ,\n",
       "        18.9, 21.7, 20.4, 18.2, 19.9, 23.1, 17.5, 20.2, 18.2, 13.6, 19.6,\n",
       "        15.2, 14.5, 15.6, 13.9, 16.6, 14.8, 18.4, 21. , 12.7, 14.5, 13.2,\n",
       "        13.1, 13.5, 18.9, 20. , 21. , 24.7, 30.8, 34.9, 26.6, 25.3, 24.7,\n",
       "        21.2, 19.3, 20. , 16.6, 14.4, 19.4, 19.7, 20.5, 25. , 23.4, 18.9,\n",
       "        35.4, 24.7, 31.6, 23.3, 19.6, 18.7, 16. , 22.2, 25. , 33. , 23.5,\n",
       "        19.4, 22. , 17.4, 20.9, 24.2, 21.7, 22.8, 23.4, 24.1, 21.4, 20. ,\n",
       "        20.8, 21.2, 20.3, 28. , 23.9, 24.8, 22.9, 23.9, 26.6, 22.5, 22.2,\n",
       "        23.6, 28.7, 22.6, 22. , 22.9, 25. , 20.6, 28.4, 21.4, 38.7, 43.8,\n",
       "        33.2, 27.5, 26.5, 18.6, 19.3, 20.1, 19.5, 19.5, 20.4, 19.8, 19.4,\n",
       "        21.7, 22.8, 18.8, 18.7, 18.5, 18.3, 21.2, 19.2, 20.4, 19.3, 22. ,\n",
       "        20.3, 20.5, 17.3, 18.8, 21.4, 15.7, 16.2, 18. , 14.3, 19.2, 19.6,\n",
       "        23. , 18.4, 15.6, 18.1, 17.4, 17.1, 13.3, 17.8, 14. , 14.4, 13.4,\n",
       "        15.6, 11.8, 13.8, 15.6, 14.6, 17.8, 15.4, 21.5, 19.6, 15.3, 19.4,\n",
       "        17. , 15.6, 13.1, 41.3, 24.3, 23.3, 27. , 50. , 50. , 50. , 22.7,\n",
       "        25. , 50. , 23.8, 23.8, 22.3, 17.4, 19.1, 23.1, 23.6, 22.6, 29.4,\n",
       "        23.2, 24.6, 29.9, 37.2, 39.8, 36.2, 37.9, 32.5, 26.4, 29.6, 50. ,\n",
       "        32. , 29.8, 34.9, 37. , 30.5, 36.4, 31.1, 29.1, 50. , 33.3, 30.3,\n",
       "        34.6, 34.9, 32.9, 24.1, 42.3, 48.5, 50. , 22.6, 24.4, 22.5, 24.4,\n",
       "        20. , 21.7, 19.3, 22.4, 28.1, 23.7, 25. , 23.3, 28.7, 21.5, 23. ,\n",
       "        26.7, 21.7, 27.5, 30.1, 44.8, 50. , 37.6, 31.6, 46.7, 31.5, 24.3,\n",
       "        31.7, 41.7, 48.3, 29. , 24. , 25.1, 31.5, 23.7, 23.3, 22. , 20.1,\n",
       "        22.2, 23.7, 17.6, 18.5, 24.3, 20.5, 24.5, 26.2, 24.4, 24.8, 29.6,\n",
       "        42.8, 21.9, 20.9, 44. , 50. , 36. , 30.1, 33.8, 43.1, 48.8, 31. ,\n",
       "        36.5, 22.8, 30.7, 50. , 43.5, 20.7, 21.1, 25.2, 24.4, 35.2, 32.4,\n",
       "        32. , 33.2, 33.1, 29.1, 35.1, 45.4, 35.4, 46. , 50. , 32.2, 22. ,\n",
       "        20.1, 23.2, 22.3, 24.8, 28.5, 37.3, 27.9, 23.9, 21.7, 28.6, 27.1,\n",
       "        20.3, 22.5, 29. , 24.8, 22. , 26.4, 33.1, 36.1, 28.4, 33.4, 28.2,\n",
       "        22.8, 20.3, 16.1, 22.1, 19.4, 21.6, 23.8, 16.2, 17.8, 19.8, 23.1,\n",
       "        21. , 23.8, 23.1, 20.4, 18.5, 25. , 24.6, 23. , 22.2, 19.3, 22.6,\n",
       "        19.8, 17.1, 19.4, 22.2, 20.7, 21.1, 19.5, 18.5, 20.6, 19. , 18.7,\n",
       "        32.7, 16.5, 23.9, 31.2, 17.5, 17.2, 23.1, 24.5, 26.6, 22.9, 24.1,\n",
       "        18.6, 30.1, 18.2, 20.6, 17.8, 21.7, 22.7, 22.6, 25. , 19.9, 20.8,\n",
       "        16.8, 21.9, 27.5, 21.9, 23.1, 50. , 50. , 50. , 50. , 50. , 13.8,\n",
       "        13.8, 15. , 13.9, 13.3, 13.1, 10.2, 10.4, 10.9, 11.3, 12.3,  8.8,\n",
       "         7.2, 10.5,  7.4, 10.2, 11.5, 15.1, 23.2,  9.7, 13.8, 12.7, 13.1,\n",
       "        12.5,  8.5,  5. ,  6.3,  5.6,  7.2, 12.1,  8.3,  8.5,  5. , 11.9,\n",
       "        27.9, 17.2, 27.5, 15. , 17.2, 17.9, 16.3,  7. ,  7.2,  7.5, 10.4,\n",
       "         8.8,  8.4, 16.7, 14.2, 20.8, 13.4, 11.7,  8.3, 10.2, 10.9, 11. ,\n",
       "         9.5, 14.5, 14.1, 16.1, 14.3, 11.7, 13.4,  9.6,  8.7,  8.4, 12.8,\n",
       "        10.5, 17.1, 18.4, 15.4, 10.8, 11.8, 14.9, 12.6, 14.1, 13. , 13.4,\n",
       "        15.2, 16.1, 17.8, 14.9, 14.1, 12.7, 13.5, 14.9, 20. , 16.4, 17.7,\n",
       "        19.5, 20.2, 21.4, 19.9, 19. , 19.1, 19.1, 20.1, 19.9, 19.6, 23.2,\n",
       "        29.8, 13.8, 13.3, 16.7, 12. , 14.6, 21.4, 23. , 23.7, 25. , 21.8,\n",
       "        20.6, 21.2, 19.1, 20.6, 15.2,  7. ,  8.1, 13.6, 20.1, 21.8, 24.5,\n",
       "        23.1, 19.7, 18.3, 21.2, 17.5, 16.8, 22.4, 20.6, 23.9, 22. , 11.9]),\n",
       " 'feature_names': array(['CRIM', 'ZN', 'INDUS', 'CHAS', 'NOX', 'RM', 'AGE', 'DIS', 'RAD',\n",
       "        'TAX', 'PTRATIO', 'B', 'LSTAT'], dtype='<U7'),\n",
       " 'DESCR': \".. _boston_dataset:\\n\\nBoston house prices dataset\\n---------------------------\\n\\n**Data Set Characteristics:**  \\n\\n    :Number of Instances: 506 \\n\\n    :Number of Attributes: 13 numeric/categorical predictive. Median Value (attribute 14) is usually the target.\\n\\n    :Attribute Information (in order):\\n        - CRIM     per capita crime rate by town\\n        - ZN       proportion of residential land zoned for lots over 25,000 sq.ft.\\n        - INDUS    proportion of non-retail business acres per town\\n        - CHAS     Charles River dummy variable (= 1 if tract bounds river; 0 otherwise)\\n        - NOX      nitric oxides concentration (parts per 10 million)\\n        - RM       average number of rooms per dwelling\\n        - AGE      proportion of owner-occupied units built prior to 1940\\n        - DIS      weighted distances to five Boston employment centres\\n        - RAD      index of accessibility to radial highways\\n        - TAX      full-value property-tax rate per $10,000\\n        - PTRATIO  pupil-teacher ratio by town\\n        - B        1000(Bk - 0.63)^2 where Bk is the proportion of black people by town\\n        - LSTAT    % lower status of the population\\n        - MEDV     Median value of owner-occupied homes in $1000's\\n\\n    :Missing Attribute Values: None\\n\\n    :Creator: Harrison, D. and Rubinfeld, D.L.\\n\\nThis is a copy of UCI ML housing dataset.\\nhttps://archive.ics.uci.edu/ml/machine-learning-databases/housing/\\n\\n\\nThis dataset was taken from the StatLib library which is maintained at Carnegie Mellon University.\\n\\nThe Boston house-price data of Harrison, D. and Rubinfeld, D.L. 'Hedonic\\nprices and the demand for clean air', J. Environ. Economics & Management,\\nvol.5, 81-102, 1978.   Used in Belsley, Kuh & Welsch, 'Regression diagnostics\\n...', Wiley, 1980.   N.B. Various transformations are used in the table on\\npages 244-261 of the latter.\\n\\nThe Boston house-price data has been used in many machine learning papers that address regression\\nproblems.   \\n     \\n.. topic:: References\\n\\n   - Belsley, Kuh & Welsch, 'Regression diagnostics: Identifying Influential Data and Sources of Collinearity', Wiley, 1980. 244-261.\\n   - Quinlan,R. (1993). Combining Instance-Based and Model-Based Learning. In Proceedings on the Tenth International Conference of Machine Learning, 236-243, University of Massachusetts, Amherst. Morgan Kaufmann.\\n\",\n",
       " 'filename': 'boston_house_prices.csv',\n",
       " 'data_module': 'sklearn.datasets.data'}"
      ]
     },
     "execution_count": 2,
     "metadata": {},
     "output_type": "execute_result"
    }
   ],
   "source": [
    "boston = load_boston()\n",
    "boston"
   ]
  },
  {
   "cell_type": "code",
   "execution_count": 3,
   "id": "4cf785b4",
   "metadata": {},
   "outputs": [],
   "source": [
    "Data_boston = pd.DataFrame(boston.data, columns=boston.feature_names)"
   ]
  },
  {
   "cell_type": "code",
   "execution_count": 4,
   "id": "99ae61a2",
   "metadata": {},
   "outputs": [
    {
     "data": {
      "text/html": [
       "<div>\n",
       "<style scoped>\n",
       "    .dataframe tbody tr th:only-of-type {\n",
       "        vertical-align: middle;\n",
       "    }\n",
       "\n",
       "    .dataframe tbody tr th {\n",
       "        vertical-align: top;\n",
       "    }\n",
       "\n",
       "    .dataframe thead th {\n",
       "        text-align: right;\n",
       "    }\n",
       "</style>\n",
       "<table border=\"1\" class=\"dataframe\">\n",
       "  <thead>\n",
       "    <tr style=\"text-align: right;\">\n",
       "      <th></th>\n",
       "      <th>CRIM</th>\n",
       "      <th>ZN</th>\n",
       "      <th>INDUS</th>\n",
       "      <th>CHAS</th>\n",
       "      <th>NOX</th>\n",
       "      <th>RM</th>\n",
       "      <th>AGE</th>\n",
       "      <th>DIS</th>\n",
       "      <th>RAD</th>\n",
       "      <th>TAX</th>\n",
       "      <th>PTRATIO</th>\n",
       "      <th>B</th>\n",
       "      <th>LSTAT</th>\n",
       "    </tr>\n",
       "  </thead>\n",
       "  <tbody>\n",
       "    <tr>\n",
       "      <th>0</th>\n",
       "      <td>0.00632</td>\n",
       "      <td>18.0</td>\n",
       "      <td>2.31</td>\n",
       "      <td>0.0</td>\n",
       "      <td>0.538</td>\n",
       "      <td>6.575</td>\n",
       "      <td>65.2</td>\n",
       "      <td>4.0900</td>\n",
       "      <td>1.0</td>\n",
       "      <td>296.0</td>\n",
       "      <td>15.3</td>\n",
       "      <td>396.90</td>\n",
       "      <td>4.98</td>\n",
       "    </tr>\n",
       "    <tr>\n",
       "      <th>1</th>\n",
       "      <td>0.02731</td>\n",
       "      <td>0.0</td>\n",
       "      <td>7.07</td>\n",
       "      <td>0.0</td>\n",
       "      <td>0.469</td>\n",
       "      <td>6.421</td>\n",
       "      <td>78.9</td>\n",
       "      <td>4.9671</td>\n",
       "      <td>2.0</td>\n",
       "      <td>242.0</td>\n",
       "      <td>17.8</td>\n",
       "      <td>396.90</td>\n",
       "      <td>9.14</td>\n",
       "    </tr>\n",
       "    <tr>\n",
       "      <th>2</th>\n",
       "      <td>0.02729</td>\n",
       "      <td>0.0</td>\n",
       "      <td>7.07</td>\n",
       "      <td>0.0</td>\n",
       "      <td>0.469</td>\n",
       "      <td>7.185</td>\n",
       "      <td>61.1</td>\n",
       "      <td>4.9671</td>\n",
       "      <td>2.0</td>\n",
       "      <td>242.0</td>\n",
       "      <td>17.8</td>\n",
       "      <td>392.83</td>\n",
       "      <td>4.03</td>\n",
       "    </tr>\n",
       "    <tr>\n",
       "      <th>3</th>\n",
       "      <td>0.03237</td>\n",
       "      <td>0.0</td>\n",
       "      <td>2.18</td>\n",
       "      <td>0.0</td>\n",
       "      <td>0.458</td>\n",
       "      <td>6.998</td>\n",
       "      <td>45.8</td>\n",
       "      <td>6.0622</td>\n",
       "      <td>3.0</td>\n",
       "      <td>222.0</td>\n",
       "      <td>18.7</td>\n",
       "      <td>394.63</td>\n",
       "      <td>2.94</td>\n",
       "    </tr>\n",
       "    <tr>\n",
       "      <th>4</th>\n",
       "      <td>0.06905</td>\n",
       "      <td>0.0</td>\n",
       "      <td>2.18</td>\n",
       "      <td>0.0</td>\n",
       "      <td>0.458</td>\n",
       "      <td>7.147</td>\n",
       "      <td>54.2</td>\n",
       "      <td>6.0622</td>\n",
       "      <td>3.0</td>\n",
       "      <td>222.0</td>\n",
       "      <td>18.7</td>\n",
       "      <td>396.90</td>\n",
       "      <td>5.33</td>\n",
       "    </tr>\n",
       "  </tbody>\n",
       "</table>\n",
       "</div>"
      ],
      "text/plain": [
       "      CRIM    ZN  INDUS  CHAS    NOX     RM   AGE     DIS  RAD    TAX  \\\n",
       "0  0.00632  18.0   2.31   0.0  0.538  6.575  65.2  4.0900  1.0  296.0   \n",
       "1  0.02731   0.0   7.07   0.0  0.469  6.421  78.9  4.9671  2.0  242.0   \n",
       "2  0.02729   0.0   7.07   0.0  0.469  7.185  61.1  4.9671  2.0  242.0   \n",
       "3  0.03237   0.0   2.18   0.0  0.458  6.998  45.8  6.0622  3.0  222.0   \n",
       "4  0.06905   0.0   2.18   0.0  0.458  7.147  54.2  6.0622  3.0  222.0   \n",
       "\n",
       "   PTRATIO       B  LSTAT  \n",
       "0     15.3  396.90   4.98  \n",
       "1     17.8  396.90   9.14  \n",
       "2     17.8  392.83   4.03  \n",
       "3     18.7  394.63   2.94  \n",
       "4     18.7  396.90   5.33  "
      ]
     },
     "execution_count": 4,
     "metadata": {},
     "output_type": "execute_result"
    }
   ],
   "source": [
    "Data_boston.head()"
   ]
  },
  {
   "cell_type": "code",
   "execution_count": 5,
   "id": "d65390ce",
   "metadata": {},
   "outputs": [],
   "source": [
    "Data_boston['Price_prediction'] = boston.target"
   ]
  },
  {
   "cell_type": "code",
   "execution_count": 6,
   "id": "29bb1e85",
   "metadata": {},
   "outputs": [
    {
     "data": {
      "text/html": [
       "<div>\n",
       "<style scoped>\n",
       "    .dataframe tbody tr th:only-of-type {\n",
       "        vertical-align: middle;\n",
       "    }\n",
       "\n",
       "    .dataframe tbody tr th {\n",
       "        vertical-align: top;\n",
       "    }\n",
       "\n",
       "    .dataframe thead th {\n",
       "        text-align: right;\n",
       "    }\n",
       "</style>\n",
       "<table border=\"1\" class=\"dataframe\">\n",
       "  <thead>\n",
       "    <tr style=\"text-align: right;\">\n",
       "      <th></th>\n",
       "      <th>CRIM</th>\n",
       "      <th>ZN</th>\n",
       "      <th>INDUS</th>\n",
       "      <th>CHAS</th>\n",
       "      <th>NOX</th>\n",
       "      <th>RM</th>\n",
       "      <th>AGE</th>\n",
       "      <th>DIS</th>\n",
       "      <th>RAD</th>\n",
       "      <th>TAX</th>\n",
       "      <th>PTRATIO</th>\n",
       "      <th>B</th>\n",
       "      <th>LSTAT</th>\n",
       "      <th>Price_prediction</th>\n",
       "    </tr>\n",
       "  </thead>\n",
       "  <tbody>\n",
       "    <tr>\n",
       "      <th>0</th>\n",
       "      <td>0.00632</td>\n",
       "      <td>18.0</td>\n",
       "      <td>2.31</td>\n",
       "      <td>0.0</td>\n",
       "      <td>0.538</td>\n",
       "      <td>6.575</td>\n",
       "      <td>65.2</td>\n",
       "      <td>4.0900</td>\n",
       "      <td>1.0</td>\n",
       "      <td>296.0</td>\n",
       "      <td>15.3</td>\n",
       "      <td>396.90</td>\n",
       "      <td>4.98</td>\n",
       "      <td>24.0</td>\n",
       "    </tr>\n",
       "    <tr>\n",
       "      <th>1</th>\n",
       "      <td>0.02731</td>\n",
       "      <td>0.0</td>\n",
       "      <td>7.07</td>\n",
       "      <td>0.0</td>\n",
       "      <td>0.469</td>\n",
       "      <td>6.421</td>\n",
       "      <td>78.9</td>\n",
       "      <td>4.9671</td>\n",
       "      <td>2.0</td>\n",
       "      <td>242.0</td>\n",
       "      <td>17.8</td>\n",
       "      <td>396.90</td>\n",
       "      <td>9.14</td>\n",
       "      <td>21.6</td>\n",
       "    </tr>\n",
       "    <tr>\n",
       "      <th>2</th>\n",
       "      <td>0.02729</td>\n",
       "      <td>0.0</td>\n",
       "      <td>7.07</td>\n",
       "      <td>0.0</td>\n",
       "      <td>0.469</td>\n",
       "      <td>7.185</td>\n",
       "      <td>61.1</td>\n",
       "      <td>4.9671</td>\n",
       "      <td>2.0</td>\n",
       "      <td>242.0</td>\n",
       "      <td>17.8</td>\n",
       "      <td>392.83</td>\n",
       "      <td>4.03</td>\n",
       "      <td>34.7</td>\n",
       "    </tr>\n",
       "    <tr>\n",
       "      <th>3</th>\n",
       "      <td>0.03237</td>\n",
       "      <td>0.0</td>\n",
       "      <td>2.18</td>\n",
       "      <td>0.0</td>\n",
       "      <td>0.458</td>\n",
       "      <td>6.998</td>\n",
       "      <td>45.8</td>\n",
       "      <td>6.0622</td>\n",
       "      <td>3.0</td>\n",
       "      <td>222.0</td>\n",
       "      <td>18.7</td>\n",
       "      <td>394.63</td>\n",
       "      <td>2.94</td>\n",
       "      <td>33.4</td>\n",
       "    </tr>\n",
       "    <tr>\n",
       "      <th>4</th>\n",
       "      <td>0.06905</td>\n",
       "      <td>0.0</td>\n",
       "      <td>2.18</td>\n",
       "      <td>0.0</td>\n",
       "      <td>0.458</td>\n",
       "      <td>7.147</td>\n",
       "      <td>54.2</td>\n",
       "      <td>6.0622</td>\n",
       "      <td>3.0</td>\n",
       "      <td>222.0</td>\n",
       "      <td>18.7</td>\n",
       "      <td>396.90</td>\n",
       "      <td>5.33</td>\n",
       "      <td>36.2</td>\n",
       "    </tr>\n",
       "  </tbody>\n",
       "</table>\n",
       "</div>"
      ],
      "text/plain": [
       "      CRIM    ZN  INDUS  CHAS    NOX     RM   AGE     DIS  RAD    TAX  \\\n",
       "0  0.00632  18.0   2.31   0.0  0.538  6.575  65.2  4.0900  1.0  296.0   \n",
       "1  0.02731   0.0   7.07   0.0  0.469  6.421  78.9  4.9671  2.0  242.0   \n",
       "2  0.02729   0.0   7.07   0.0  0.469  7.185  61.1  4.9671  2.0  242.0   \n",
       "3  0.03237   0.0   2.18   0.0  0.458  6.998  45.8  6.0622  3.0  222.0   \n",
       "4  0.06905   0.0   2.18   0.0  0.458  7.147  54.2  6.0622  3.0  222.0   \n",
       "\n",
       "   PTRATIO       B  LSTAT  Price_prediction  \n",
       "0     15.3  396.90   4.98              24.0  \n",
       "1     17.8  396.90   9.14              21.6  \n",
       "2     17.8  392.83   4.03              34.7  \n",
       "3     18.7  394.63   2.94              33.4  \n",
       "4     18.7  396.90   5.33              36.2  "
      ]
     },
     "execution_count": 6,
     "metadata": {},
     "output_type": "execute_result"
    }
   ],
   "source": [
    "Data_boston.head()"
   ]
  },
  {
   "cell_type": "code",
   "execution_count": 7,
   "id": "2f81fe07",
   "metadata": {},
   "outputs": [
    {
     "data": {
      "text/plain": [
       "(506, 14)"
      ]
     },
     "execution_count": 7,
     "metadata": {},
     "output_type": "execute_result"
    }
   ],
   "source": [
    "Data_boston.shape"
   ]
  },
  {
   "cell_type": "code",
   "execution_count": 8,
   "id": "c1622481",
   "metadata": {},
   "outputs": [],
   "source": [
    "X = Data_boston.iloc[:, 0:13]\n",
    "y = Data_boston.iloc[:, 13]"
   ]
  },
  {
   "cell_type": "code",
   "execution_count": 9,
   "id": "11ada972",
   "metadata": {},
   "outputs": [
    {
     "data": {
      "text/html": [
       "<div>\n",
       "<style scoped>\n",
       "    .dataframe tbody tr th:only-of-type {\n",
       "        vertical-align: middle;\n",
       "    }\n",
       "\n",
       "    .dataframe tbody tr th {\n",
       "        vertical-align: top;\n",
       "    }\n",
       "\n",
       "    .dataframe thead th {\n",
       "        text-align: right;\n",
       "    }\n",
       "</style>\n",
       "<table border=\"1\" class=\"dataframe\">\n",
       "  <thead>\n",
       "    <tr style=\"text-align: right;\">\n",
       "      <th></th>\n",
       "      <th>CRIM</th>\n",
       "      <th>ZN</th>\n",
       "      <th>INDUS</th>\n",
       "      <th>CHAS</th>\n",
       "      <th>NOX</th>\n",
       "      <th>RM</th>\n",
       "      <th>AGE</th>\n",
       "      <th>DIS</th>\n",
       "      <th>RAD</th>\n",
       "      <th>TAX</th>\n",
       "      <th>PTRATIO</th>\n",
       "      <th>B</th>\n",
       "      <th>LSTAT</th>\n",
       "    </tr>\n",
       "  </thead>\n",
       "  <tbody>\n",
       "    <tr>\n",
       "      <th>0</th>\n",
       "      <td>0.00632</td>\n",
       "      <td>18.0</td>\n",
       "      <td>2.31</td>\n",
       "      <td>0.0</td>\n",
       "      <td>0.538</td>\n",
       "      <td>6.575</td>\n",
       "      <td>65.2</td>\n",
       "      <td>4.0900</td>\n",
       "      <td>1.0</td>\n",
       "      <td>296.0</td>\n",
       "      <td>15.3</td>\n",
       "      <td>396.90</td>\n",
       "      <td>4.98</td>\n",
       "    </tr>\n",
       "    <tr>\n",
       "      <th>1</th>\n",
       "      <td>0.02731</td>\n",
       "      <td>0.0</td>\n",
       "      <td>7.07</td>\n",
       "      <td>0.0</td>\n",
       "      <td>0.469</td>\n",
       "      <td>6.421</td>\n",
       "      <td>78.9</td>\n",
       "      <td>4.9671</td>\n",
       "      <td>2.0</td>\n",
       "      <td>242.0</td>\n",
       "      <td>17.8</td>\n",
       "      <td>396.90</td>\n",
       "      <td>9.14</td>\n",
       "    </tr>\n",
       "    <tr>\n",
       "      <th>2</th>\n",
       "      <td>0.02729</td>\n",
       "      <td>0.0</td>\n",
       "      <td>7.07</td>\n",
       "      <td>0.0</td>\n",
       "      <td>0.469</td>\n",
       "      <td>7.185</td>\n",
       "      <td>61.1</td>\n",
       "      <td>4.9671</td>\n",
       "      <td>2.0</td>\n",
       "      <td>242.0</td>\n",
       "      <td>17.8</td>\n",
       "      <td>392.83</td>\n",
       "      <td>4.03</td>\n",
       "    </tr>\n",
       "    <tr>\n",
       "      <th>3</th>\n",
       "      <td>0.03237</td>\n",
       "      <td>0.0</td>\n",
       "      <td>2.18</td>\n",
       "      <td>0.0</td>\n",
       "      <td>0.458</td>\n",
       "      <td>6.998</td>\n",
       "      <td>45.8</td>\n",
       "      <td>6.0622</td>\n",
       "      <td>3.0</td>\n",
       "      <td>222.0</td>\n",
       "      <td>18.7</td>\n",
       "      <td>394.63</td>\n",
       "      <td>2.94</td>\n",
       "    </tr>\n",
       "    <tr>\n",
       "      <th>4</th>\n",
       "      <td>0.06905</td>\n",
       "      <td>0.0</td>\n",
       "      <td>2.18</td>\n",
       "      <td>0.0</td>\n",
       "      <td>0.458</td>\n",
       "      <td>7.147</td>\n",
       "      <td>54.2</td>\n",
       "      <td>6.0622</td>\n",
       "      <td>3.0</td>\n",
       "      <td>222.0</td>\n",
       "      <td>18.7</td>\n",
       "      <td>396.90</td>\n",
       "      <td>5.33</td>\n",
       "    </tr>\n",
       "  </tbody>\n",
       "</table>\n",
       "</div>"
      ],
      "text/plain": [
       "      CRIM    ZN  INDUS  CHAS    NOX     RM   AGE     DIS  RAD    TAX  \\\n",
       "0  0.00632  18.0   2.31   0.0  0.538  6.575  65.2  4.0900  1.0  296.0   \n",
       "1  0.02731   0.0   7.07   0.0  0.469  6.421  78.9  4.9671  2.0  242.0   \n",
       "2  0.02729   0.0   7.07   0.0  0.469  7.185  61.1  4.9671  2.0  242.0   \n",
       "3  0.03237   0.0   2.18   0.0  0.458  6.998  45.8  6.0622  3.0  222.0   \n",
       "4  0.06905   0.0   2.18   0.0  0.458  7.147  54.2  6.0622  3.0  222.0   \n",
       "\n",
       "   PTRATIO       B  LSTAT  \n",
       "0     15.3  396.90   4.98  \n",
       "1     17.8  396.90   9.14  \n",
       "2     17.8  392.83   4.03  \n",
       "3     18.7  394.63   2.94  \n",
       "4     18.7  396.90   5.33  "
      ]
     },
     "execution_count": 9,
     "metadata": {},
     "output_type": "execute_result"
    }
   ],
   "source": [
    "X.head()"
   ]
  },
  {
   "cell_type": "code",
   "execution_count": 10,
   "id": "bfcc5bc9",
   "metadata": {},
   "outputs": [
    {
     "data": {
      "text/plain": [
       "0    24.0\n",
       "1    21.6\n",
       "2    34.7\n",
       "3    33.4\n",
       "4    36.2\n",
       "Name: Price_prediction, dtype: float64"
      ]
     },
     "execution_count": 10,
     "metadata": {},
     "output_type": "execute_result"
    }
   ],
   "source": [
    "y.head()"
   ]
  },
  {
   "cell_type": "code",
   "execution_count": 11,
   "id": "6abe9eeb",
   "metadata": {},
   "outputs": [],
   "source": [
    "from sklearn.model_selection import train_test_split"
   ]
  },
  {
   "cell_type": "code",
   "execution_count": 12,
   "id": "ff8fdeae",
   "metadata": {},
   "outputs": [],
   "source": [
    "X_train, X_test, y_train, y_test = train_test_split(X,y, test_size=0.25, random_state=76, shuffle=True)"
   ]
  },
  {
   "cell_type": "code",
   "execution_count": 13,
   "id": "6b0ac874",
   "metadata": {},
   "outputs": [
    {
     "data": {
      "text/plain": [
       "(379, 13)"
      ]
     },
     "execution_count": 13,
     "metadata": {},
     "output_type": "execute_result"
    }
   ],
   "source": [
    "X_train.shape"
   ]
  },
  {
   "cell_type": "code",
   "execution_count": 14,
   "id": "64848b07",
   "metadata": {},
   "outputs": [
    {
     "data": {
      "text/plain": [
       "(127, 13)"
      ]
     },
     "execution_count": 14,
     "metadata": {},
     "output_type": "execute_result"
    }
   ],
   "source": [
    "X_test.shape"
   ]
  },
  {
   "cell_type": "code",
   "execution_count": 15,
   "id": "8c410c6a",
   "metadata": {},
   "outputs": [
    {
     "data": {
      "text/plain": [
       "(379,)"
      ]
     },
     "execution_count": 15,
     "metadata": {},
     "output_type": "execute_result"
    }
   ],
   "source": [
    "y_train.shape"
   ]
  },
  {
   "cell_type": "code",
   "execution_count": 16,
   "id": "be87fc62",
   "metadata": {},
   "outputs": [
    {
     "data": {
      "text/plain": [
       "(127,)"
      ]
     },
     "execution_count": 16,
     "metadata": {},
     "output_type": "execute_result"
    }
   ],
   "source": [
    "y_test.shape"
   ]
  },
  {
   "cell_type": "markdown",
   "id": "116e1e74",
   "metadata": {},
   "source": [
    "#### Normalizing data"
   ]
  },
  {
   "cell_type": "markdown",
   "id": "eb1566c8",
   "metadata": {},
   "source": [
    "When we have different constants for each feature such as a0, a1, a2, ... (multiple linear regression), there is no need for normalization but in this example it is done\n",
    "\n",
    "- normalization is need for other models different from multiple linear regression"
   ]
  },
  {
   "cell_type": "code",
   "execution_count": 17,
   "id": "a7f3900a",
   "metadata": {},
   "outputs": [],
   "source": [
    "from sklearn.preprocessing import MinMaxScaler"
   ]
  },
  {
   "cell_type": "code",
   "execution_count": 18,
   "id": "daab364f",
   "metadata": {},
   "outputs": [],
   "source": [
    "scaled = MinMaxScaler(feature_range=(0,1))"
   ]
  },
  {
   "cell_type": "code",
   "execution_count": 19,
   "id": "ec35cfd9",
   "metadata": {},
   "outputs": [
    {
     "data": {
      "text/html": [
       "<style>#sk-container-id-1 {color: black;background-color: white;}#sk-container-id-1 pre{padding: 0;}#sk-container-id-1 div.sk-toggleable {background-color: white;}#sk-container-id-1 label.sk-toggleable__label {cursor: pointer;display: block;width: 100%;margin-bottom: 0;padding: 0.3em;box-sizing: border-box;text-align: center;}#sk-container-id-1 label.sk-toggleable__label-arrow:before {content: \"▸\";float: left;margin-right: 0.25em;color: #696969;}#sk-container-id-1 label.sk-toggleable__label-arrow:hover:before {color: black;}#sk-container-id-1 div.sk-estimator:hover label.sk-toggleable__label-arrow:before {color: black;}#sk-container-id-1 div.sk-toggleable__content {max-height: 0;max-width: 0;overflow: hidden;text-align: left;background-color: #f0f8ff;}#sk-container-id-1 div.sk-toggleable__content pre {margin: 0.2em;color: black;border-radius: 0.25em;background-color: #f0f8ff;}#sk-container-id-1 input.sk-toggleable__control:checked~div.sk-toggleable__content {max-height: 200px;max-width: 100%;overflow: auto;}#sk-container-id-1 input.sk-toggleable__control:checked~label.sk-toggleable__label-arrow:before {content: \"▾\";}#sk-container-id-1 div.sk-estimator input.sk-toggleable__control:checked~label.sk-toggleable__label {background-color: #d4ebff;}#sk-container-id-1 div.sk-label input.sk-toggleable__control:checked~label.sk-toggleable__label {background-color: #d4ebff;}#sk-container-id-1 input.sk-hidden--visually {border: 0;clip: rect(1px 1px 1px 1px);clip: rect(1px, 1px, 1px, 1px);height: 1px;margin: -1px;overflow: hidden;padding: 0;position: absolute;width: 1px;}#sk-container-id-1 div.sk-estimator {font-family: monospace;background-color: #f0f8ff;border: 1px dotted black;border-radius: 0.25em;box-sizing: border-box;margin-bottom: 0.5em;}#sk-container-id-1 div.sk-estimator:hover {background-color: #d4ebff;}#sk-container-id-1 div.sk-parallel-item::after {content: \"\";width: 100%;border-bottom: 1px solid gray;flex-grow: 1;}#sk-container-id-1 div.sk-label:hover label.sk-toggleable__label {background-color: #d4ebff;}#sk-container-id-1 div.sk-serial::before {content: \"\";position: absolute;border-left: 1px solid gray;box-sizing: border-box;top: 0;bottom: 0;left: 50%;z-index: 0;}#sk-container-id-1 div.sk-serial {display: flex;flex-direction: column;align-items: center;background-color: white;padding-right: 0.2em;padding-left: 0.2em;position: relative;}#sk-container-id-1 div.sk-item {position: relative;z-index: 1;}#sk-container-id-1 div.sk-parallel {display: flex;align-items: stretch;justify-content: center;background-color: white;position: relative;}#sk-container-id-1 div.sk-item::before, #sk-container-id-1 div.sk-parallel-item::before {content: \"\";position: absolute;border-left: 1px solid gray;box-sizing: border-box;top: 0;bottom: 0;left: 50%;z-index: -1;}#sk-container-id-1 div.sk-parallel-item {display: flex;flex-direction: column;z-index: 1;position: relative;background-color: white;}#sk-container-id-1 div.sk-parallel-item:first-child::after {align-self: flex-end;width: 50%;}#sk-container-id-1 div.sk-parallel-item:last-child::after {align-self: flex-start;width: 50%;}#sk-container-id-1 div.sk-parallel-item:only-child::after {width: 0;}#sk-container-id-1 div.sk-dashed-wrapped {border: 1px dashed gray;margin: 0 0.4em 0.5em 0.4em;box-sizing: border-box;padding-bottom: 0.4em;background-color: white;}#sk-container-id-1 div.sk-label label {font-family: monospace;font-weight: bold;display: inline-block;line-height: 1.2em;}#sk-container-id-1 div.sk-label-container {text-align: center;}#sk-container-id-1 div.sk-container {/* jupyter's `normalize.less` sets `[hidden] { display: none; }` but bootstrap.min.css set `[hidden] { display: none !important; }` so we also need the `!important` here to be able to override the default hidden behavior on the sphinx rendered scikit-learn.org. See: https://github.com/scikit-learn/scikit-learn/issues/21755 */display: inline-block !important;position: relative;}#sk-container-id-1 div.sk-text-repr-fallback {display: none;}</style><div id=\"sk-container-id-1\" class=\"sk-top-container\"><div class=\"sk-text-repr-fallback\"><pre>MinMaxScaler()</pre><b>In a Jupyter environment, please rerun this cell to show the HTML representation or trust the notebook. <br />On GitHub, the HTML representation is unable to render, please try loading this page with nbviewer.org.</b></div><div class=\"sk-container\" hidden><div class=\"sk-item\"><div class=\"sk-estimator sk-toggleable\"><input class=\"sk-toggleable__control sk-hidden--visually\" id=\"sk-estimator-id-1\" type=\"checkbox\" checked><label for=\"sk-estimator-id-1\" class=\"sk-toggleable__label sk-toggleable__label-arrow\">MinMaxScaler</label><div class=\"sk-toggleable__content\"><pre>MinMaxScaler()</pre></div></div></div></div></div>"
      ],
      "text/plain": [
       "MinMaxScaler()"
      ]
     },
     "execution_count": 19,
     "metadata": {},
     "output_type": "execute_result"
    }
   ],
   "source": [
    "scaled"
   ]
  },
  {
   "cell_type": "code",
   "execution_count": 20,
   "id": "689ceea9",
   "metadata": {},
   "outputs": [],
   "source": [
    "X_train = scaled.fit_transform(X_train)\n",
    "X_test = scaled.fit_transform(X_test)"
   ]
  },
  {
   "cell_type": "code",
   "execution_count": 21,
   "id": "4ae8fc5a",
   "metadata": {},
   "outputs": [
    {
     "data": {
      "text/plain": [
       "array([[5.14089134e-01, 0.00000000e+00, 6.46627566e-01, ...,\n",
       "        8.08510638e-01, 2.17429890e-01, 1.00000000e+00],\n",
       "       [2.91478404e-03, 0.00000000e+00, 3.38343109e-01, ...,\n",
       "        7.02127660e-01, 1.00000000e+00, 3.50921986e-01],\n",
       "       [6.77193849e-03, 2.00000000e-01, 1.28665689e-01, ...,\n",
       "        4.25531915e-02, 9.81743496e-01, 9.61702128e-02],\n",
       "       ...,\n",
       "       [5.93926027e-02, 0.00000000e+00, 6.46627566e-01, ...,\n",
       "        8.08510638e-01, 9.53040215e-01, 4.83120567e-01],\n",
       "       [5.81113431e-04, 0.00000000e+00, 4.20454545e-01, ...,\n",
       "        8.93617021e-01, 1.00000000e+00, 1.10921986e-01],\n",
       "       [1.63464848e-02, 0.00000000e+00, 7.00879765e-01, ...,\n",
       "        2.23404255e-01, 9.43024494e-01, 0.00000000e+00]])"
      ]
     },
     "execution_count": 21,
     "metadata": {},
     "output_type": "execute_result"
    }
   ],
   "source": [
    "X_train"
   ]
  },
  {
   "cell_type": "code",
   "execution_count": 22,
   "id": "42641d24",
   "metadata": {},
   "outputs": [],
   "source": [
    "y_train = y_train.values.reshape(-1, 1)"
   ]
  },
  {
   "cell_type": "code",
   "execution_count": 23,
   "id": "6c66ea6d",
   "metadata": {},
   "outputs": [],
   "source": [
    "y_train = scaled.fit_transform(y_train)"
   ]
  },
  {
   "cell_type": "code",
   "execution_count": 24,
   "id": "e135d8cc",
   "metadata": {},
   "outputs": [
    {
     "data": {
      "text/plain": [
       "array([[0.04444444],\n",
       "       [0.29555556],\n",
       "       [1.        ],\n",
       "       [0.59111111],\n",
       "       [0.01333333],\n",
       "       [0.32888889],\n",
       "       [0.32      ],\n",
       "       [0.51333333],\n",
       "       [0.32      ],\n",
       "       [0.05333333],\n",
       "       [0.62666667],\n",
       "       [0.26888889],\n",
       "       [0.33333333],\n",
       "       [0.55777778],\n",
       "       [0.39111111],\n",
       "       [0.60888889],\n",
       "       [0.41333333],\n",
       "       [0.62222222],\n",
       "       [0.34222222],\n",
       "       [0.65777778],\n",
       "       [0.54222222],\n",
       "       [0.61111111],\n",
       "       [0.30888889],\n",
       "       [0.28888889],\n",
       "       [0.07777778],\n",
       "       [0.        ],\n",
       "       [0.19777778],\n",
       "       [0.27777778],\n",
       "       [0.34      ],\n",
       "       [0.34      ],\n",
       "       [0.22666667],\n",
       "       [0.40444444],\n",
       "       [0.38666667],\n",
       "       [0.20222222],\n",
       "       [0.62444444],\n",
       "       [0.19555556],\n",
       "       [0.41777778],\n",
       "       [0.43111111],\n",
       "       [0.35555556],\n",
       "       [0.29555556],\n",
       "       [0.55111111],\n",
       "       [0.48888889],\n",
       "       [0.55777778],\n",
       "       [1.        ],\n",
       "       [0.61555556],\n",
       "       [0.22666667],\n",
       "       [0.67555556],\n",
       "       [0.20222222],\n",
       "       [0.66444444],\n",
       "       [0.17333333],\n",
       "       [0.12      ],\n",
       "       [0.82888889],\n",
       "       [0.27555556],\n",
       "       [0.18666667],\n",
       "       [0.37555556],\n",
       "       [1.        ],\n",
       "       [0.37555556],\n",
       "       [0.40666667],\n",
       "       [0.18      ],\n",
       "       [1.        ],\n",
       "       [0.88444444],\n",
       "       [0.66888889],\n",
       "       [1.        ],\n",
       "       [0.29777778],\n",
       "       [0.37111111],\n",
       "       [0.48      ],\n",
       "       [0.19555556],\n",
       "       [0.37111111],\n",
       "       [1.        ],\n",
       "       [0.22222222],\n",
       "       [0.05555556],\n",
       "       [0.30444444],\n",
       "       [0.15777778],\n",
       "       [0.30666667],\n",
       "       [0.34222222],\n",
       "       [0.28222222],\n",
       "       [0.29333333],\n",
       "       [0.37777778],\n",
       "       [0.22888889],\n",
       "       [0.04888889],\n",
       "       [0.17777778],\n",
       "       [0.13111111],\n",
       "       [0.28444444],\n",
       "       [0.42      ],\n",
       "       [0.07555556],\n",
       "       [0.42444444],\n",
       "       [0.53555556],\n",
       "       [0.26222222],\n",
       "       [0.41555556],\n",
       "       [0.40222222],\n",
       "       [0.20666667],\n",
       "       [0.14888889],\n",
       "       [0.32444444],\n",
       "       [0.23555556],\n",
       "       [0.12      ],\n",
       "       [0.25111111],\n",
       "       [0.32444444],\n",
       "       [0.20888889],\n",
       "       [0.34666667],\n",
       "       [0.63111111],\n",
       "       [0.36444444],\n",
       "       [0.47555556],\n",
       "       [0.07555556],\n",
       "       [0.29333333],\n",
       "       [0.7       ],\n",
       "       [0.57777778],\n",
       "       [0.44      ],\n",
       "       [0.80666667],\n",
       "       [0.69333333],\n",
       "       [0.11555556],\n",
       "       [0.24666667],\n",
       "       [0.34444444],\n",
       "       [0.14888889],\n",
       "       [0.18222222],\n",
       "       [0.62      ],\n",
       "       [0.36444444],\n",
       "       [0.35555556],\n",
       "       [0.19111111],\n",
       "       [0.60444444],\n",
       "       [0.66      ],\n",
       "       [0.69333333],\n",
       "       [0.38222222],\n",
       "       [0.62444444],\n",
       "       [0.30222222],\n",
       "       [0.22      ],\n",
       "       [0.29333333],\n",
       "       [0.18666667],\n",
       "       [0.33111111],\n",
       "       [0.42444444],\n",
       "       [0.35111111],\n",
       "       [0.18888889],\n",
       "       [0.20888889],\n",
       "       [0.32222222],\n",
       "       [0.34222222],\n",
       "       [0.23555556],\n",
       "       [0.38222222],\n",
       "       [0.37777778],\n",
       "       [0.58222222],\n",
       "       [0.1       ],\n",
       "       [0.39555556],\n",
       "       [0.53333333],\n",
       "       [0.43111111],\n",
       "       [0.33555556],\n",
       "       [0.47555556],\n",
       "       [0.32222222],\n",
       "       [0.11555556],\n",
       "       [0.34666667],\n",
       "       [0.38888889],\n",
       "       [0.92666667],\n",
       "       [0.33333333],\n",
       "       [0.31333333],\n",
       "       [0.54666667],\n",
       "       [0.38666667],\n",
       "       [0.47111111],\n",
       "       [0.18666667],\n",
       "       [1.        ],\n",
       "       [0.52222222],\n",
       "       [0.32      ],\n",
       "       [0.96222222],\n",
       "       [0.43111111],\n",
       "       [0.53333333],\n",
       "       [0.26666667],\n",
       "       [0.38444444],\n",
       "       [0.36444444],\n",
       "       [0.24888889],\n",
       "       [0.41555556],\n",
       "       [0.22444444],\n",
       "       [0.38222222],\n",
       "       [0.50888889],\n",
       "       [0.6       ],\n",
       "       [0.39777778],\n",
       "       [0.31111111],\n",
       "       [0.67555556],\n",
       "       [0.32222222],\n",
       "       [0.34666667],\n",
       "       [0.29777778],\n",
       "       [0.32888889],\n",
       "       [0.44444444],\n",
       "       [0.12222222],\n",
       "       [0.18444444],\n",
       "       [0.23111111],\n",
       "       [0.4       ],\n",
       "       [0.34888889],\n",
       "       [0.13333333],\n",
       "       [0.58888889],\n",
       "       [0.42      ],\n",
       "       [0.54666667],\n",
       "       [0.25333333],\n",
       "       [0.38222222],\n",
       "       [0.42888889],\n",
       "       [0.44      ],\n",
       "       [0.21111111],\n",
       "       [0.11555556],\n",
       "       [0.14      ],\n",
       "       [0.36      ],\n",
       "       [1.        ],\n",
       "       [0.38888889],\n",
       "       [0.96666667],\n",
       "       [0.21111111],\n",
       "       [0.32444444],\n",
       "       [0.52666667],\n",
       "       [0.32      ],\n",
       "       [0.34666667],\n",
       "       [0.23555556],\n",
       "       [0.30444444],\n",
       "       [0.36444444],\n",
       "       [0.33333333],\n",
       "       [0.37111111],\n",
       "       [0.43111111],\n",
       "       [0.57333333],\n",
       "       [0.25555556],\n",
       "       [0.32222222],\n",
       "       [0.72444444],\n",
       "       [0.04444444],\n",
       "       [0.41777778],\n",
       "       [0.66444444],\n",
       "       [0.37777778],\n",
       "       [0.32      ],\n",
       "       [0.27111111],\n",
       "       [0.31333333],\n",
       "       [0.10222222],\n",
       "       [0.59111111],\n",
       "       [0.38      ],\n",
       "       [0.2       ],\n",
       "       [0.37777778],\n",
       "       [0.44444444],\n",
       "       [0.36888889],\n",
       "       [0.24888889],\n",
       "       [0.44      ],\n",
       "       [0.37777778],\n",
       "       [0.43555556],\n",
       "       [0.40444444],\n",
       "       [0.14444444],\n",
       "       [1.        ],\n",
       "       [0.20222222],\n",
       "       [0.21333333],\n",
       "       [0.34      ],\n",
       "       [0.37777778],\n",
       "       [0.37333333],\n",
       "       [0.39111111],\n",
       "       [0.31777778],\n",
       "       [0.18      ],\n",
       "       [0.30888889],\n",
       "       [0.26      ],\n",
       "       [0.69777778],\n",
       "       [0.40222222],\n",
       "       [0.43777778],\n",
       "       [0.21111111],\n",
       "       [0.30888889],\n",
       "       [0.19555556],\n",
       "       [0.81555556],\n",
       "       [0.08222222],\n",
       "       [0.34222222],\n",
       "       [0.57111111],\n",
       "       [0.26222222],\n",
       "       [0.44444444],\n",
       "       [0.33555556],\n",
       "       [0.36      ],\n",
       "       [0.52444444],\n",
       "       [0.53555556],\n",
       "       [0.31777778],\n",
       "       [0.15555556],\n",
       "       [0.50888889],\n",
       "       [0.69111111],\n",
       "       [0.39333333],\n",
       "       [1.        ],\n",
       "       [0.16222222],\n",
       "       [0.31555556],\n",
       "       [0.49111111],\n",
       "       [0.97333333],\n",
       "       [0.42444444],\n",
       "       [0.18888889],\n",
       "       [0.15333333],\n",
       "       [0.6       ],\n",
       "       [0.27555556],\n",
       "       [0.5       ],\n",
       "       [0.31777778],\n",
       "       [0.40222222],\n",
       "       [1.        ],\n",
       "       [0.33111111],\n",
       "       [0.37111111],\n",
       "       [0.36      ],\n",
       "       [0.20666667],\n",
       "       [0.18444444],\n",
       "       [0.68888889],\n",
       "       [0.35111111],\n",
       "       [0.12888889],\n",
       "       [0.64      ],\n",
       "       [0.39555556],\n",
       "       [0.16888889],\n",
       "       [0.44444444],\n",
       "       [0.40666667],\n",
       "       [0.43777778],\n",
       "       [0.18444444],\n",
       "       [0.48      ],\n",
       "       [1.        ],\n",
       "       [0.35111111],\n",
       "       [0.19555556],\n",
       "       [0.55777778],\n",
       "       [0.24666667],\n",
       "       [0.43333333],\n",
       "       [0.22222222],\n",
       "       [0.18      ],\n",
       "       [0.40666667],\n",
       "       [0.39111111],\n",
       "       [0.89777778],\n",
       "       [0.39333333],\n",
       "       [0.15111111],\n",
       "       [0.02888889],\n",
       "       [0.38888889],\n",
       "       [0.44444444],\n",
       "       [0.25555556],\n",
       "       [0.35777778],\n",
       "       [0.23555556],\n",
       "       [0.56222222],\n",
       "       [0.43333333],\n",
       "       [0.84      ],\n",
       "       [0.21333333],\n",
       "       [0.26888889],\n",
       "       [0.27777778],\n",
       "       [0.36888889],\n",
       "       [0.5       ],\n",
       "       [0.13111111],\n",
       "       [0.44444444],\n",
       "       [0.43777778],\n",
       "       [0.23555556],\n",
       "       [0.41333333],\n",
       "       [1.        ],\n",
       "       [0.42222222],\n",
       "       [0.58888889],\n",
       "       [0.41777778],\n",
       "       [0.28      ],\n",
       "       [0.71777778],\n",
       "       [0.56666667],\n",
       "       [0.62888889],\n",
       "       [0.37555556],\n",
       "       [0.29777778],\n",
       "       [0.42666667],\n",
       "       [0.62666667],\n",
       "       [0.51111111],\n",
       "       [0.55111111],\n",
       "       [0.06888889],\n",
       "       [0.33111111],\n",
       "       [0.        ],\n",
       "       [0.16666667],\n",
       "       [0.71111111],\n",
       "       [0.24666667],\n",
       "       [0.31555556],\n",
       "       [0.31333333],\n",
       "       [0.39111111],\n",
       "       [0.3       ],\n",
       "       [0.25777778],\n",
       "       [0.31777778],\n",
       "       [0.3       ],\n",
       "       [0.67111111],\n",
       "       [0.41777778],\n",
       "       [0.28444444],\n",
       "       [0.40222222],\n",
       "       [0.37333333],\n",
       "       [0.30666667],\n",
       "       [0.43555556],\n",
       "       [0.77333333],\n",
       "       [0.40222222],\n",
       "       [0.17111111],\n",
       "       [0.48222222],\n",
       "       [0.31111111],\n",
       "       [0.44888889],\n",
       "       [0.29111111],\n",
       "       [0.44666667],\n",
       "       [0.66444444],\n",
       "       [0.86222222],\n",
       "       [0.35777778],\n",
       "       [0.04888889],\n",
       "       [0.45111111],\n",
       "       [0.91111111],\n",
       "       [0.08444444],\n",
       "       [0.40444444],\n",
       "       [0.42      ],\n",
       "       [1.        ]])"
      ]
     },
     "execution_count": 24,
     "metadata": {},
     "output_type": "execute_result"
    }
   ],
   "source": [
    "y_train"
   ]
  },
  {
   "cell_type": "markdown",
   "id": "42d27fc3",
   "metadata": {},
   "source": [
    "### Multiple Linear Regression"
   ]
  },
  {
   "cell_type": "code",
   "execution_count": 25,
   "id": "c30b180a",
   "metadata": {},
   "outputs": [],
   "source": [
    "from sklearn.linear_model import LinearRegression"
   ]
  },
  {
   "cell_type": "code",
   "execution_count": 26,
   "id": "de2c4733",
   "metadata": {},
   "outputs": [],
   "source": [
    "Linear_R = LinearRegression() "
   ]
  },
  {
   "cell_type": "code",
   "execution_count": 27,
   "id": "7914d7db",
   "metadata": {},
   "outputs": [
    {
     "data": {
      "text/html": [
       "<style>#sk-container-id-2 {color: black;background-color: white;}#sk-container-id-2 pre{padding: 0;}#sk-container-id-2 div.sk-toggleable {background-color: white;}#sk-container-id-2 label.sk-toggleable__label {cursor: pointer;display: block;width: 100%;margin-bottom: 0;padding: 0.3em;box-sizing: border-box;text-align: center;}#sk-container-id-2 label.sk-toggleable__label-arrow:before {content: \"▸\";float: left;margin-right: 0.25em;color: #696969;}#sk-container-id-2 label.sk-toggleable__label-arrow:hover:before {color: black;}#sk-container-id-2 div.sk-estimator:hover label.sk-toggleable__label-arrow:before {color: black;}#sk-container-id-2 div.sk-toggleable__content {max-height: 0;max-width: 0;overflow: hidden;text-align: left;background-color: #f0f8ff;}#sk-container-id-2 div.sk-toggleable__content pre {margin: 0.2em;color: black;border-radius: 0.25em;background-color: #f0f8ff;}#sk-container-id-2 input.sk-toggleable__control:checked~div.sk-toggleable__content {max-height: 200px;max-width: 100%;overflow: auto;}#sk-container-id-2 input.sk-toggleable__control:checked~label.sk-toggleable__label-arrow:before {content: \"▾\";}#sk-container-id-2 div.sk-estimator input.sk-toggleable__control:checked~label.sk-toggleable__label {background-color: #d4ebff;}#sk-container-id-2 div.sk-label input.sk-toggleable__control:checked~label.sk-toggleable__label {background-color: #d4ebff;}#sk-container-id-2 input.sk-hidden--visually {border: 0;clip: rect(1px 1px 1px 1px);clip: rect(1px, 1px, 1px, 1px);height: 1px;margin: -1px;overflow: hidden;padding: 0;position: absolute;width: 1px;}#sk-container-id-2 div.sk-estimator {font-family: monospace;background-color: #f0f8ff;border: 1px dotted black;border-radius: 0.25em;box-sizing: border-box;margin-bottom: 0.5em;}#sk-container-id-2 div.sk-estimator:hover {background-color: #d4ebff;}#sk-container-id-2 div.sk-parallel-item::after {content: \"\";width: 100%;border-bottom: 1px solid gray;flex-grow: 1;}#sk-container-id-2 div.sk-label:hover label.sk-toggleable__label {background-color: #d4ebff;}#sk-container-id-2 div.sk-serial::before {content: \"\";position: absolute;border-left: 1px solid gray;box-sizing: border-box;top: 0;bottom: 0;left: 50%;z-index: 0;}#sk-container-id-2 div.sk-serial {display: flex;flex-direction: column;align-items: center;background-color: white;padding-right: 0.2em;padding-left: 0.2em;position: relative;}#sk-container-id-2 div.sk-item {position: relative;z-index: 1;}#sk-container-id-2 div.sk-parallel {display: flex;align-items: stretch;justify-content: center;background-color: white;position: relative;}#sk-container-id-2 div.sk-item::before, #sk-container-id-2 div.sk-parallel-item::before {content: \"\";position: absolute;border-left: 1px solid gray;box-sizing: border-box;top: 0;bottom: 0;left: 50%;z-index: -1;}#sk-container-id-2 div.sk-parallel-item {display: flex;flex-direction: column;z-index: 1;position: relative;background-color: white;}#sk-container-id-2 div.sk-parallel-item:first-child::after {align-self: flex-end;width: 50%;}#sk-container-id-2 div.sk-parallel-item:last-child::after {align-self: flex-start;width: 50%;}#sk-container-id-2 div.sk-parallel-item:only-child::after {width: 0;}#sk-container-id-2 div.sk-dashed-wrapped {border: 1px dashed gray;margin: 0 0.4em 0.5em 0.4em;box-sizing: border-box;padding-bottom: 0.4em;background-color: white;}#sk-container-id-2 div.sk-label label {font-family: monospace;font-weight: bold;display: inline-block;line-height: 1.2em;}#sk-container-id-2 div.sk-label-container {text-align: center;}#sk-container-id-2 div.sk-container {/* jupyter's `normalize.less` sets `[hidden] { display: none; }` but bootstrap.min.css set `[hidden] { display: none !important; }` so we also need the `!important` here to be able to override the default hidden behavior on the sphinx rendered scikit-learn.org. See: https://github.com/scikit-learn/scikit-learn/issues/21755 */display: inline-block !important;position: relative;}#sk-container-id-2 div.sk-text-repr-fallback {display: none;}</style><div id=\"sk-container-id-2\" class=\"sk-top-container\"><div class=\"sk-text-repr-fallback\"><pre>LinearRegression()</pre><b>In a Jupyter environment, please rerun this cell to show the HTML representation or trust the notebook. <br />On GitHub, the HTML representation is unable to render, please try loading this page with nbviewer.org.</b></div><div class=\"sk-container\" hidden><div class=\"sk-item\"><div class=\"sk-estimator sk-toggleable\"><input class=\"sk-toggleable__control sk-hidden--visually\" id=\"sk-estimator-id-2\" type=\"checkbox\" checked><label for=\"sk-estimator-id-2\" class=\"sk-toggleable__label sk-toggleable__label-arrow\">LinearRegression</label><div class=\"sk-toggleable__content\"><pre>LinearRegression()</pre></div></div></div></div></div>"
      ],
      "text/plain": [
       "LinearRegression()"
      ]
     },
     "execution_count": 27,
     "metadata": {},
     "output_type": "execute_result"
    }
   ],
   "source": [
    "Linear_R.fit(X_train, y_train)"
   ]
  },
  {
   "cell_type": "code",
   "execution_count": 28,
   "id": "5ccceaa6",
   "metadata": {},
   "outputs": [],
   "source": [
    "Predicted_values_LR = Linear_R.predict(X_test)"
   ]
  },
  {
   "cell_type": "code",
   "execution_count": 29,
   "id": "e77bc319",
   "metadata": {},
   "outputs": [
    {
     "data": {
      "text/plain": [
       "array([[ 0.14327016],\n",
       "       [ 0.30728044],\n",
       "       [ 0.41978008],\n",
       "       [ 0.59472732],\n",
       "       [ 0.55995583],\n",
       "       [ 0.50190144],\n",
       "       [ 0.36589015],\n",
       "       [ 0.44105588],\n",
       "       [ 0.51042542],\n",
       "       [ 0.28706374],\n",
       "       [ 0.30793721],\n",
       "       [ 0.21462711],\n",
       "       [ 0.15673253],\n",
       "       [ 0.41721547],\n",
       "       [ 0.28842011],\n",
       "       [ 0.4105379 ],\n",
       "       [ 0.29845638],\n",
       "       [ 0.00992905],\n",
       "       [ 0.35233715],\n",
       "       [ 0.32190852],\n",
       "       [ 0.38272493],\n",
       "       [ 0.56909258],\n",
       "       [ 0.34583186],\n",
       "       [ 0.31709011],\n",
       "       [ 0.11586898],\n",
       "       [ 0.55055255],\n",
       "       [ 0.49389675],\n",
       "       [ 0.6678577 ],\n",
       "       [ 0.34401572],\n",
       "       [ 0.42020137],\n",
       "       [ 0.28962115],\n",
       "       [ 0.31216023],\n",
       "       [ 0.41909893],\n",
       "       [ 0.40040973],\n",
       "       [ 0.53239415],\n",
       "       [ 0.39378046],\n",
       "       [ 0.36557888],\n",
       "       [ 0.32975378],\n",
       "       [ 0.40594942],\n",
       "       [ 0.35354142],\n",
       "       [ 0.1851786 ],\n",
       "       [ 0.32794278],\n",
       "       [ 0.75514357],\n",
       "       [ 0.44754725],\n",
       "       [ 0.32994569],\n",
       "       [ 0.39090704],\n",
       "       [ 0.23563843],\n",
       "       [ 0.58132042],\n",
       "       [ 0.51879347],\n",
       "       [ 0.23462943],\n",
       "       [ 0.43862882],\n",
       "       [ 0.57665559],\n",
       "       [ 0.18433729],\n",
       "       [ 0.33731423],\n",
       "       [ 0.29390956],\n",
       "       [ 0.36601169],\n",
       "       [ 0.53494292],\n",
       "       [ 0.41664735],\n",
       "       [ 0.35774851],\n",
       "       [ 0.08359368],\n",
       "       [ 0.35227116],\n",
       "       [ 0.24879138],\n",
       "       [ 0.41676849],\n",
       "       [ 0.25454181],\n",
       "       [ 0.26721567],\n",
       "       [ 0.38690781],\n",
       "       [ 0.42099251],\n",
       "       [ 0.39522103],\n",
       "       [ 0.06354719],\n",
       "       [ 0.45027024],\n",
       "       [ 0.46880929],\n",
       "       [ 0.2984855 ],\n",
       "       [ 0.44337828],\n",
       "       [ 0.16455306],\n",
       "       [ 0.61674485],\n",
       "       [ 0.31009159],\n",
       "       [ 0.2035197 ],\n",
       "       [ 0.36882004],\n",
       "       [ 0.45340549],\n",
       "       [ 0.60603397],\n",
       "       [ 0.43445752],\n",
       "       [ 0.49788784],\n",
       "       [-0.12693009],\n",
       "       [ 0.75337608],\n",
       "       [ 0.2517449 ],\n",
       "       [ 0.43546915],\n",
       "       [-0.04110964],\n",
       "       [ 0.70932668],\n",
       "       [ 0.35224545],\n",
       "       [ 0.53344087],\n",
       "       [ 0.50861772],\n",
       "       [-0.14246022],\n",
       "       [ 0.80260259],\n",
       "       [ 0.22532082],\n",
       "       [ 0.46268051],\n",
       "       [ 0.32742183],\n",
       "       [ 0.53338593],\n",
       "       [ 0.27294597],\n",
       "       [ 0.1823174 ],\n",
       "       [ 0.40862114],\n",
       "       [ 0.64412812],\n",
       "       [ 0.64306931],\n",
       "       [ 0.160113  ],\n",
       "       [ 0.25455386],\n",
       "       [ 0.4204449 ],\n",
       "       [ 0.2470853 ],\n",
       "       [ 0.35098649],\n",
       "       [ 0.26873376],\n",
       "       [ 0.19674269],\n",
       "       [ 0.3035757 ],\n",
       "       [ 0.35159638],\n",
       "       [ 0.50558737],\n",
       "       [ 0.34936636],\n",
       "       [ 0.27158247],\n",
       "       [ 0.09033683],\n",
       "       [ 0.42386617],\n",
       "       [ 0.4344074 ],\n",
       "       [ 0.24116145],\n",
       "       [ 0.20784026],\n",
       "       [ 0.07278575],\n",
       "       [ 0.34295291],\n",
       "       [ 0.32345159],\n",
       "       [ 0.46721603],\n",
       "       [ 0.55391127],\n",
       "       [ 0.65376199],\n",
       "       [ 0.75501753],\n",
       "       [ 0.86212048]])"
      ]
     },
     "execution_count": 29,
     "metadata": {},
     "output_type": "execute_result"
    }
   ],
   "source": [
    "Predicted_values_LR"
   ]
  },
  {
   "cell_type": "markdown",
   "id": "9d7c96d4",
   "metadata": {},
   "source": [
    "#### Denormalized de values"
   ]
  },
  {
   "cell_type": "code",
   "execution_count": 30,
   "id": "acabb5e9",
   "metadata": {},
   "outputs": [],
   "source": [
    "Predicted_values_LR = scaled.inverse_transform(Predicted_values_LR)"
   ]
  },
  {
   "cell_type": "code",
   "execution_count": 31,
   "id": "51bba5da",
   "metadata": {},
   "outputs": [
    {
     "data": {
      "text/plain": [
       "array([[11.44715732],\n",
       "       [18.82761987],\n",
       "       [23.89010363],\n",
       "       [31.76272961],\n",
       "       [30.19801252],\n",
       "       [27.58556465],\n",
       "       [21.46505689],\n",
       "       [24.84751479],\n",
       "       [27.96914381],\n",
       "       [17.9178682 ],\n",
       "       [18.85717423],\n",
       "       [14.65822009],\n",
       "       [12.05296391],\n",
       "       [23.77469627],\n",
       "       [17.97890485],\n",
       "       [23.47420572],\n",
       "       [18.43053729],\n",
       "       [ 5.44680739],\n",
       "       [20.85517162],\n",
       "       [19.48588347],\n",
       "       [22.22262166],\n",
       "       [30.6091661 ],\n",
       "       [20.5624339 ],\n",
       "       [19.26905486],\n",
       "       [10.21410416],\n",
       "       [29.77486467],\n",
       "       [27.2253539 ],\n",
       "       [35.05359649],\n",
       "       [20.48070721],\n",
       "       [23.90906187],\n",
       "       [18.03295166],\n",
       "       [19.04721018],\n",
       "       [23.85945188],\n",
       "       [23.01843796],\n",
       "       [28.95773689],\n",
       "       [22.72012069],\n",
       "       [21.45104939],\n",
       "       [19.83891999],\n",
       "       [23.26772399],\n",
       "       [20.90936398],\n",
       "       [13.33303691],\n",
       "       [19.75742509],\n",
       "       [38.98146084],\n",
       "       [25.13962604],\n",
       "       [19.84755589],\n",
       "       [22.59081674],\n",
       "       [15.60372955],\n",
       "       [31.15941905],\n",
       "       [28.34570593],\n",
       "       [15.55832418],\n",
       "       [24.73829691],\n",
       "       [30.9495016 ],\n",
       "       [13.29517809],\n",
       "       [20.17914032],\n",
       "       [18.22593023],\n",
       "       [21.47052603],\n",
       "       [29.07243127],\n",
       "       [23.74913069],\n",
       "       [21.09868306],\n",
       "       [ 8.76171553],\n",
       "       [20.85220212],\n",
       "       [16.19561231],\n",
       "       [23.7545821 ],\n",
       "       [16.45438154],\n",
       "       [17.02470504],\n",
       "       [22.41085154],\n",
       "       [23.94466308],\n",
       "       [22.78494631],\n",
       "       [ 7.85962334],\n",
       "       [25.26216075],\n",
       "       [26.09641814],\n",
       "       [18.43184729],\n",
       "       [24.95202273],\n",
       "       [12.40488786],\n",
       "       [32.75351826],\n",
       "       [18.95412144],\n",
       "       [14.15838636],\n",
       "       [21.59690162],\n",
       "       [25.40324683],\n",
       "       [32.27152854],\n",
       "       [24.55058858],\n",
       "       [27.4049528 ],\n",
       "       [-0.71185398],\n",
       "       [38.90192376],\n",
       "       [16.32852062],\n",
       "       [24.5961117 ],\n",
       "       [ 3.15006633],\n",
       "       [36.91970075],\n",
       "       [20.85104536],\n",
       "       [29.00483928],\n",
       "       [27.88779731],\n",
       "       [-1.41071006],\n",
       "       [41.11711636],\n",
       "       [15.13943682],\n",
       "       [25.82062279],\n",
       "       [19.73398224],\n",
       "       [29.00236701],\n",
       "       [17.28256853],\n",
       "       [13.20428287],\n",
       "       [23.38795128],\n",
       "       [33.98576541],\n",
       "       [33.93811911],\n",
       "       [12.20508518],\n",
       "       [16.45492365],\n",
       "       [23.9200203 ],\n",
       "       [16.11883865],\n",
       "       [20.7943919 ],\n",
       "       [17.09301922],\n",
       "       [13.85342102],\n",
       "       [18.6609066 ],\n",
       "       [20.8218369 ],\n",
       "       [27.75143169],\n",
       "       [20.72148603],\n",
       "       [17.22121132],\n",
       "       [ 9.06515729],\n",
       "       [24.07397755],\n",
       "       [24.5483328 ],\n",
       "       [15.85226535],\n",
       "       [14.35281168],\n",
       "       [ 8.27535874],\n",
       "       [20.4328811 ],\n",
       "       [19.5553214 ],\n",
       "       [26.02472149],\n",
       "       [29.92600724],\n",
       "       [34.41928954],\n",
       "       [38.97578886],\n",
       "       [43.79542167]])"
      ]
     },
     "execution_count": 31,
     "metadata": {},
     "output_type": "execute_result"
    }
   ],
   "source": [
    "Predicted_values_LR"
   ]
  },
  {
   "cell_type": "markdown",
   "id": "2da59c28",
   "metadata": {},
   "source": [
    "#### Evaluating the model"
   ]
  },
  {
   "cell_type": "code",
   "execution_count": 32,
   "id": "2c330ffb",
   "metadata": {},
   "outputs": [],
   "source": [
    "from sklearn.metrics import mean_absolute_error, mean_squared_error, r2_score\n",
    "import math"
   ]
  },
  {
   "cell_type": "code",
   "execution_count": 33,
   "id": "144084bb",
   "metadata": {},
   "outputs": [
    {
     "data": {
      "text/plain": [
       "2.9394333626981997"
      ]
     },
     "execution_count": 33,
     "metadata": {},
     "output_type": "execute_result"
    }
   ],
   "source": [
    "MAE = mean_absolute_error(y_test, Predicted_values_LR)\n",
    "MAE"
   ]
  },
  {
   "cell_type": "markdown",
   "id": "ac8f8bb5",
   "metadata": {},
   "source": [
    "As I know the range of the data that ranges from (0-30), thus the model is not acting bad but it is not perfect.\n",
    "\n",
    "For other people that don't know the range, it does not make sense."
   ]
  },
  {
   "cell_type": "code",
   "execution_count": 34,
   "id": "aff6cfbb",
   "metadata": {},
   "outputs": [
    {
     "data": {
      "text/plain": [
       "17.309236065228912"
      ]
     },
     "execution_count": 34,
     "metadata": {},
     "output_type": "execute_result"
    }
   ],
   "source": [
    "MSE = mean_squared_error(y_test, Predicted_values_LR)\n",
    "MSE"
   ]
  },
  {
   "cell_type": "code",
   "execution_count": 35,
   "id": "123507cb",
   "metadata": {},
   "outputs": [
    {
     "data": {
      "text/plain": [
       "4.1604370041173455"
      ]
     },
     "execution_count": 35,
     "metadata": {},
     "output_type": "execute_result"
    }
   ],
   "source": [
    "RMSE = math.sqrt(MSE)\n",
    "RMSE"
   ]
  },
  {
   "cell_type": "markdown",
   "id": "b8844acc",
   "metadata": {},
   "source": [
    "Again, this value makes sense if the model is doing good or bad, only if you know the range of your data\n",
    "\n",
    "4.1, means that the model is an average model, it is not too good but not too bad"
   ]
  },
  {
   "cell_type": "code",
   "execution_count": 36,
   "id": "ef044077",
   "metadata": {},
   "outputs": [
    {
     "data": {
      "text/plain": [
       "0.6988343407769655"
      ]
     },
     "execution_count": 36,
     "metadata": {},
     "output_type": "execute_result"
    }
   ],
   "source": [
    "R2 = r2_score(y_test, Predicted_values_LR)\n",
    "R2"
   ]
  },
  {
   "cell_type": "markdown",
   "id": "9afdf302",
   "metadata": {},
   "source": [
    "~ 0.7, is not a bad fit but it is not very good. Thus, it's better than the average.\n",
    "\n",
    "This value can be understood even if you don't know the range of the data. "
   ]
  },
  {
   "cell_type": "code",
   "execution_count": 37,
   "id": "4415a7a4",
   "metadata": {},
   "outputs": [],
   "source": [
    "def mean_absolute_percentage_error(y_true, y_pred):\n",
    "    y_true, y_pred = np.array(y_true), np.array(y_pred)\n",
    "    return np.mean(np.abs((y_true - y_pred)/y_true))*100"
   ]
  },
  {
   "cell_type": "code",
   "execution_count": 38,
   "id": "7dacb979",
   "metadata": {},
   "outputs": [
    {
     "data": {
      "text/plain": [
       "43.713152116475044"
      ]
     },
     "execution_count": 38,
     "metadata": {},
     "output_type": "execute_result"
    }
   ],
   "source": [
    "MAPE = mean_absolute_percentage_error(y_test, Predicted_values_LR)\n",
    "MAPE"
   ]
  },
  {
   "cell_type": "markdown",
   "id": "16945633",
   "metadata": {},
   "source": [
    "As seen, this gives us a great sense on how the model is doing without knowing the range of the data. Thus, the model shows a 43.7% error. That shows a lot of error."
   ]
  },
  {
   "cell_type": "markdown",
   "id": "3fd14bf1",
   "metadata": {},
   "source": [
    "Let's improve the model: making the Mean Average Percentage Error less and the R2 higher, by developing other models."
   ]
  },
  {
   "cell_type": "markdown",
   "id": "a528a927",
   "metadata": {},
   "source": [
    "### Polynomial Linear Regression"
   ]
  },
  {
   "cell_type": "markdown",
   "id": "a4d93726",
   "metadata": {},
   "source": [
    "For Polynomial Linear Regression, it is needed just one feature"
   ]
  },
  {
   "cell_type": "code",
   "execution_count": 39,
   "id": "1f687852",
   "metadata": {},
   "outputs": [
    {
     "data": {
      "text/plain": [
       "Index(['CRIM', 'ZN', 'INDUS', 'CHAS', 'NOX', 'RM', 'AGE', 'DIS', 'RAD', 'TAX',\n",
       "       'PTRATIO', 'B', 'LSTAT', 'Price_prediction'],\n",
       "      dtype='object')"
      ]
     },
     "execution_count": 39,
     "metadata": {},
     "output_type": "execute_result"
    }
   ],
   "source": [
    "Data_boston.columns"
   ]
  },
  {
   "cell_type": "code",
   "execution_count": 40,
   "id": "c6ea2e4e",
   "metadata": {},
   "outputs": [],
   "source": [
    "X = boston.data[:,5]\n",
    "# X"
   ]
  },
  {
   "cell_type": "code",
   "execution_count": 41,
   "id": "859885b2",
   "metadata": {},
   "outputs": [],
   "source": [
    "y=boston.target\n",
    "# y"
   ]
  },
  {
   "cell_type": "code",
   "execution_count": 42,
   "id": "f4c92766",
   "metadata": {},
   "outputs": [],
   "source": [
    "X_train, X_test, y_train, y_test = train_test_split(X,y, test_size=0.25, random_state=76, shuffle=True)"
   ]
  },
  {
   "cell_type": "code",
   "execution_count": 43,
   "id": "c3bfc983",
   "metadata": {},
   "outputs": [
    {
     "data": {
      "text/plain": [
       "(379,)"
      ]
     },
     "execution_count": 43,
     "metadata": {},
     "output_type": "execute_result"
    }
   ],
   "source": [
    "X_train.shape"
   ]
  },
  {
   "cell_type": "code",
   "execution_count": 44,
   "id": "6d654846",
   "metadata": {},
   "outputs": [],
   "source": [
    "from sklearn.preprocessing import PolynomialFeatures"
   ]
  },
  {
   "cell_type": "markdown",
   "id": "17390b36",
   "metadata": {},
   "source": [
    "#### Polynomial feature"
   ]
  },
  {
   "cell_type": "code",
   "execution_count": 45,
   "id": "f350d4a8",
   "metadata": {},
   "outputs": [],
   "source": [
    "Poly_P = PolynomialFeatures(degree=7)"
   ]
  },
  {
   "cell_type": "code",
   "execution_count": 46,
   "id": "fe78f248",
   "metadata": {},
   "outputs": [
    {
     "data": {
      "text/html": [
       "<style>#sk-container-id-3 {color: black;background-color: white;}#sk-container-id-3 pre{padding: 0;}#sk-container-id-3 div.sk-toggleable {background-color: white;}#sk-container-id-3 label.sk-toggleable__label {cursor: pointer;display: block;width: 100%;margin-bottom: 0;padding: 0.3em;box-sizing: border-box;text-align: center;}#sk-container-id-3 label.sk-toggleable__label-arrow:before {content: \"▸\";float: left;margin-right: 0.25em;color: #696969;}#sk-container-id-3 label.sk-toggleable__label-arrow:hover:before {color: black;}#sk-container-id-3 div.sk-estimator:hover label.sk-toggleable__label-arrow:before {color: black;}#sk-container-id-3 div.sk-toggleable__content {max-height: 0;max-width: 0;overflow: hidden;text-align: left;background-color: #f0f8ff;}#sk-container-id-3 div.sk-toggleable__content pre {margin: 0.2em;color: black;border-radius: 0.25em;background-color: #f0f8ff;}#sk-container-id-3 input.sk-toggleable__control:checked~div.sk-toggleable__content {max-height: 200px;max-width: 100%;overflow: auto;}#sk-container-id-3 input.sk-toggleable__control:checked~label.sk-toggleable__label-arrow:before {content: \"▾\";}#sk-container-id-3 div.sk-estimator input.sk-toggleable__control:checked~label.sk-toggleable__label {background-color: #d4ebff;}#sk-container-id-3 div.sk-label input.sk-toggleable__control:checked~label.sk-toggleable__label {background-color: #d4ebff;}#sk-container-id-3 input.sk-hidden--visually {border: 0;clip: rect(1px 1px 1px 1px);clip: rect(1px, 1px, 1px, 1px);height: 1px;margin: -1px;overflow: hidden;padding: 0;position: absolute;width: 1px;}#sk-container-id-3 div.sk-estimator {font-family: monospace;background-color: #f0f8ff;border: 1px dotted black;border-radius: 0.25em;box-sizing: border-box;margin-bottom: 0.5em;}#sk-container-id-3 div.sk-estimator:hover {background-color: #d4ebff;}#sk-container-id-3 div.sk-parallel-item::after {content: \"\";width: 100%;border-bottom: 1px solid gray;flex-grow: 1;}#sk-container-id-3 div.sk-label:hover label.sk-toggleable__label {background-color: #d4ebff;}#sk-container-id-3 div.sk-serial::before {content: \"\";position: absolute;border-left: 1px solid gray;box-sizing: border-box;top: 0;bottom: 0;left: 50%;z-index: 0;}#sk-container-id-3 div.sk-serial {display: flex;flex-direction: column;align-items: center;background-color: white;padding-right: 0.2em;padding-left: 0.2em;position: relative;}#sk-container-id-3 div.sk-item {position: relative;z-index: 1;}#sk-container-id-3 div.sk-parallel {display: flex;align-items: stretch;justify-content: center;background-color: white;position: relative;}#sk-container-id-3 div.sk-item::before, #sk-container-id-3 div.sk-parallel-item::before {content: \"\";position: absolute;border-left: 1px solid gray;box-sizing: border-box;top: 0;bottom: 0;left: 50%;z-index: -1;}#sk-container-id-3 div.sk-parallel-item {display: flex;flex-direction: column;z-index: 1;position: relative;background-color: white;}#sk-container-id-3 div.sk-parallel-item:first-child::after {align-self: flex-end;width: 50%;}#sk-container-id-3 div.sk-parallel-item:last-child::after {align-self: flex-start;width: 50%;}#sk-container-id-3 div.sk-parallel-item:only-child::after {width: 0;}#sk-container-id-3 div.sk-dashed-wrapped {border: 1px dashed gray;margin: 0 0.4em 0.5em 0.4em;box-sizing: border-box;padding-bottom: 0.4em;background-color: white;}#sk-container-id-3 div.sk-label label {font-family: monospace;font-weight: bold;display: inline-block;line-height: 1.2em;}#sk-container-id-3 div.sk-label-container {text-align: center;}#sk-container-id-3 div.sk-container {/* jupyter's `normalize.less` sets `[hidden] { display: none; }` but bootstrap.min.css set `[hidden] { display: none !important; }` so we also need the `!important` here to be able to override the default hidden behavior on the sphinx rendered scikit-learn.org. See: https://github.com/scikit-learn/scikit-learn/issues/21755 */display: inline-block !important;position: relative;}#sk-container-id-3 div.sk-text-repr-fallback {display: none;}</style><div id=\"sk-container-id-3\" class=\"sk-top-container\"><div class=\"sk-text-repr-fallback\"><pre>PolynomialFeatures(degree=7)</pre><b>In a Jupyter environment, please rerun this cell to show the HTML representation or trust the notebook. <br />On GitHub, the HTML representation is unable to render, please try loading this page with nbviewer.org.</b></div><div class=\"sk-container\" hidden><div class=\"sk-item\"><div class=\"sk-estimator sk-toggleable\"><input class=\"sk-toggleable__control sk-hidden--visually\" id=\"sk-estimator-id-3\" type=\"checkbox\" checked><label for=\"sk-estimator-id-3\" class=\"sk-toggleable__label sk-toggleable__label-arrow\">PolynomialFeatures</label><div class=\"sk-toggleable__content\"><pre>PolynomialFeatures(degree=7)</pre></div></div></div></div></div>"
      ],
      "text/plain": [
       "PolynomialFeatures(degree=7)"
      ]
     },
     "execution_count": 46,
     "metadata": {},
     "output_type": "execute_result"
    }
   ],
   "source": [
    "Poly_P"
   ]
  },
  {
   "cell_type": "code",
   "execution_count": 47,
   "id": "f9f460b9",
   "metadata": {},
   "outputs": [],
   "source": [
    "X_train = X_train.reshape(-1,1)"
   ]
  },
  {
   "cell_type": "code",
   "execution_count": 48,
   "id": "4587860d",
   "metadata": {},
   "outputs": [
    {
     "data": {
      "text/plain": [
       "(379, 1)"
      ]
     },
     "execution_count": 48,
     "metadata": {},
     "output_type": "execute_result"
    }
   ],
   "source": [
    "X_train.shape"
   ]
  },
  {
   "cell_type": "markdown",
   "id": "0936f66f",
   "metadata": {},
   "source": [
    "#### Make X_train (feature) into the polynomial feature format, not just one dimension"
   ]
  },
  {
   "cell_type": "code",
   "execution_count": 49,
   "id": "d3d4670a",
   "metadata": {},
   "outputs": [],
   "source": [
    "Poly_X =Poly_P.fit_transform(X_train)"
   ]
  },
  {
   "cell_type": "code",
   "execution_count": 50,
   "id": "bd3475b2",
   "metadata": {},
   "outputs": [
    {
     "data": {
      "text/plain": [
       "array([[1.00000000e+00, 4.51900000e+00, 2.04213610e+01, ...,\n",
       "        1.88456754e+03, 8.51636072e+03, 3.84854341e+04],\n",
       "       [1.00000000e+00, 5.79400000e+00, 3.35704360e+01, ...,\n",
       "        6.52968836e+03, 3.78330144e+04, 2.19204485e+05],\n",
       "       [1.00000000e+00, 8.70400000e+00, 7.57596160e+01, ...,\n",
       "        4.99567770e+04, 4.34823787e+05, 3.78470624e+06],\n",
       "       ...,\n",
       "       [1.00000000e+00, 6.05100000e+00, 3.66146010e+01, ...,\n",
       "        8.11214612e+03, 4.90865962e+04, 2.97022993e+05],\n",
       "       [1.00000000e+00, 6.97600000e+00, 4.86645760e+01, ...,\n",
       "        1.65208489e+04, 1.15249442e+05, 8.03980108e+05],\n",
       "       [1.00000000e+00, 7.48900000e+00, 5.60851210e+01, ...,\n",
       "        2.35569550e+04, 1.76418036e+05, 1.32119467e+06]])"
      ]
     },
     "execution_count": 50,
     "metadata": {},
     "output_type": "execute_result"
    }
   ],
   "source": [
    "Poly_X"
   ]
  },
  {
   "cell_type": "code",
   "execution_count": 51,
   "id": "66667bc9",
   "metadata": {},
   "outputs": [
    {
     "data": {
      "text/plain": [
       "(379, 8)"
      ]
     },
     "execution_count": 51,
     "metadata": {},
     "output_type": "execute_result"
    }
   ],
   "source": [
    "Poly_X.shape"
   ]
  },
  {
   "cell_type": "markdown",
   "id": "9726e8dc",
   "metadata": {},
   "source": [
    "Now, this array has the dim (379, 3) -> it is n dimension. In this case, the degree is 4"
   ]
  },
  {
   "cell_type": "code",
   "execution_count": 52,
   "id": "97782f7b",
   "metadata": {},
   "outputs": [],
   "source": [
    "Linear_PR = LinearRegression()"
   ]
  },
  {
   "cell_type": "code",
   "execution_count": 53,
   "id": "3e6e384e",
   "metadata": {},
   "outputs": [],
   "source": [
    "Poly_L_R = Linear_PR.fit(Poly_X, y_train)"
   ]
  },
  {
   "cell_type": "code",
   "execution_count": 54,
   "id": "c45333ae",
   "metadata": {},
   "outputs": [
    {
     "data": {
      "text/html": [
       "<style>#sk-container-id-4 {color: black;background-color: white;}#sk-container-id-4 pre{padding: 0;}#sk-container-id-4 div.sk-toggleable {background-color: white;}#sk-container-id-4 label.sk-toggleable__label {cursor: pointer;display: block;width: 100%;margin-bottom: 0;padding: 0.3em;box-sizing: border-box;text-align: center;}#sk-container-id-4 label.sk-toggleable__label-arrow:before {content: \"▸\";float: left;margin-right: 0.25em;color: #696969;}#sk-container-id-4 label.sk-toggleable__label-arrow:hover:before {color: black;}#sk-container-id-4 div.sk-estimator:hover label.sk-toggleable__label-arrow:before {color: black;}#sk-container-id-4 div.sk-toggleable__content {max-height: 0;max-width: 0;overflow: hidden;text-align: left;background-color: #f0f8ff;}#sk-container-id-4 div.sk-toggleable__content pre {margin: 0.2em;color: black;border-radius: 0.25em;background-color: #f0f8ff;}#sk-container-id-4 input.sk-toggleable__control:checked~div.sk-toggleable__content {max-height: 200px;max-width: 100%;overflow: auto;}#sk-container-id-4 input.sk-toggleable__control:checked~label.sk-toggleable__label-arrow:before {content: \"▾\";}#sk-container-id-4 div.sk-estimator input.sk-toggleable__control:checked~label.sk-toggleable__label {background-color: #d4ebff;}#sk-container-id-4 div.sk-label input.sk-toggleable__control:checked~label.sk-toggleable__label {background-color: #d4ebff;}#sk-container-id-4 input.sk-hidden--visually {border: 0;clip: rect(1px 1px 1px 1px);clip: rect(1px, 1px, 1px, 1px);height: 1px;margin: -1px;overflow: hidden;padding: 0;position: absolute;width: 1px;}#sk-container-id-4 div.sk-estimator {font-family: monospace;background-color: #f0f8ff;border: 1px dotted black;border-radius: 0.25em;box-sizing: border-box;margin-bottom: 0.5em;}#sk-container-id-4 div.sk-estimator:hover {background-color: #d4ebff;}#sk-container-id-4 div.sk-parallel-item::after {content: \"\";width: 100%;border-bottom: 1px solid gray;flex-grow: 1;}#sk-container-id-4 div.sk-label:hover label.sk-toggleable__label {background-color: #d4ebff;}#sk-container-id-4 div.sk-serial::before {content: \"\";position: absolute;border-left: 1px solid gray;box-sizing: border-box;top: 0;bottom: 0;left: 50%;z-index: 0;}#sk-container-id-4 div.sk-serial {display: flex;flex-direction: column;align-items: center;background-color: white;padding-right: 0.2em;padding-left: 0.2em;position: relative;}#sk-container-id-4 div.sk-item {position: relative;z-index: 1;}#sk-container-id-4 div.sk-parallel {display: flex;align-items: stretch;justify-content: center;background-color: white;position: relative;}#sk-container-id-4 div.sk-item::before, #sk-container-id-4 div.sk-parallel-item::before {content: \"\";position: absolute;border-left: 1px solid gray;box-sizing: border-box;top: 0;bottom: 0;left: 50%;z-index: -1;}#sk-container-id-4 div.sk-parallel-item {display: flex;flex-direction: column;z-index: 1;position: relative;background-color: white;}#sk-container-id-4 div.sk-parallel-item:first-child::after {align-self: flex-end;width: 50%;}#sk-container-id-4 div.sk-parallel-item:last-child::after {align-self: flex-start;width: 50%;}#sk-container-id-4 div.sk-parallel-item:only-child::after {width: 0;}#sk-container-id-4 div.sk-dashed-wrapped {border: 1px dashed gray;margin: 0 0.4em 0.5em 0.4em;box-sizing: border-box;padding-bottom: 0.4em;background-color: white;}#sk-container-id-4 div.sk-label label {font-family: monospace;font-weight: bold;display: inline-block;line-height: 1.2em;}#sk-container-id-4 div.sk-label-container {text-align: center;}#sk-container-id-4 div.sk-container {/* jupyter's `normalize.less` sets `[hidden] { display: none; }` but bootstrap.min.css set `[hidden] { display: none !important; }` so we also need the `!important` here to be able to override the default hidden behavior on the sphinx rendered scikit-learn.org. See: https://github.com/scikit-learn/scikit-learn/issues/21755 */display: inline-block !important;position: relative;}#sk-container-id-4 div.sk-text-repr-fallback {display: none;}</style><div id=\"sk-container-id-4\" class=\"sk-top-container\"><div class=\"sk-text-repr-fallback\"><pre>LinearRegression()</pre><b>In a Jupyter environment, please rerun this cell to show the HTML representation or trust the notebook. <br />On GitHub, the HTML representation is unable to render, please try loading this page with nbviewer.org.</b></div><div class=\"sk-container\" hidden><div class=\"sk-item\"><div class=\"sk-estimator sk-toggleable\"><input class=\"sk-toggleable__control sk-hidden--visually\" id=\"sk-estimator-id-4\" type=\"checkbox\" checked><label for=\"sk-estimator-id-4\" class=\"sk-toggleable__label sk-toggleable__label-arrow\">LinearRegression</label><div class=\"sk-toggleable__content\"><pre>LinearRegression()</pre></div></div></div></div></div>"
      ],
      "text/plain": [
       "LinearRegression()"
      ]
     },
     "execution_count": 54,
     "metadata": {},
     "output_type": "execute_result"
    }
   ],
   "source": [
    "Poly_L_R"
   ]
  },
  {
   "cell_type": "markdown",
   "id": "403acc19",
   "metadata": {},
   "source": [
    "Transforming X_test into a polynomial feature"
   ]
  },
  {
   "cell_type": "code",
   "execution_count": 55,
   "id": "f3c24066",
   "metadata": {},
   "outputs": [
    {
     "data": {
      "text/plain": [
       "(127,)"
      ]
     },
     "execution_count": 55,
     "metadata": {},
     "output_type": "execute_result"
    }
   ],
   "source": [
    "X_test.shape"
   ]
  },
  {
   "cell_type": "code",
   "execution_count": 56,
   "id": "c1de0c18",
   "metadata": {},
   "outputs": [],
   "source": [
    "X_test = X_test.reshape(-1,1)"
   ]
  },
  {
   "cell_type": "code",
   "execution_count": 57,
   "id": "ea7d6b43",
   "metadata": {},
   "outputs": [
    {
     "data": {
      "text/plain": [
       "(127, 1)"
      ]
     },
     "execution_count": 57,
     "metadata": {},
     "output_type": "execute_result"
    }
   ],
   "source": [
    "X_test.shape"
   ]
  },
  {
   "cell_type": "code",
   "execution_count": 58,
   "id": "bb2e5bd6",
   "metadata": {},
   "outputs": [],
   "source": [
    "Poly_X_test = Poly_P.fit_transform(X_test)"
   ]
  },
  {
   "cell_type": "code",
   "execution_count": 59,
   "id": "473a86c7",
   "metadata": {},
   "outputs": [
    {
     "data": {
      "text/plain": [
       "array([17.3810401 , 19.76910118, 20.47686154, 23.54008175, 21.12579509,\n",
       "       21.28983164, 19.50229978, 18.7409463 , 25.29170241, 18.8003437 ,\n",
       "       19.30040825, 17.48038341, 18.2520266 , 20.66017877, 20.8751647 ,\n",
       "       19.79150403, 17.88933106, 17.23357289, 18.78041979, 21.39105251,\n",
       "       19.19771931, 23.06542709, 19.9001833 , 17.86517673, 17.88933106,\n",
       "       21.71669568, 19.98272321, 32.31206115, 18.42950222, 20.185925  ,\n",
       "       18.49861002, 17.87208139, 18.93103985, 18.95619867, 23.6480918 ,\n",
       "       19.06782348, 19.74132608, 20.00068886, 22.4010552 , 19.61675022,\n",
       "       18.53914312, 19.46177265, 38.47157317, 19.74132608, 18.1407603 ,\n",
       "       18.45483744, 16.93431559, 27.13489825, 25.57948827, 18.86906742,\n",
       "       21.25656065, 20.50449861, 16.09431028, 18.49128335, 17.37731995,\n",
       "       20.64576577, 23.85588296, 19.46680752, 18.45846837, 18.53174292,\n",
       "       18.64811613, 17.49856021, 21.33174951, 24.04333525, 18.5988647 ,\n",
       "       25.46355913, 20.20501961, 18.99008589, 14.02290283, 21.6088121 ,\n",
       "       25.74065856, 18.96463342, 24.96917006, 17.48766195, 26.02384079,\n",
       "       18.528048  , 17.53832608, 19.62205992, 22.43174615, 26.95739359,\n",
       "       19.22535678, 20.68189709, 12.62972274, 39.81636935, 19.65411908,\n",
       "       18.86090101, 18.76457139, 47.65407311, 22.11186956, 17.34369979,\n",
       "       23.76972369, 13.60027981, 38.80034554, 19.60615931, 19.52792037,\n",
       "       26.82952042, 29.31845825, 20.58155499, 16.65124993, 19.72478176,\n",
       "       28.99466218, 26.78183462, 16.46526249, 25.27749159, 20.81472522,\n",
       "       18.38638333, 24.26044627, 19.06782348, 19.14324369, 16.71294773,\n",
       "       20.12303554, 21.39105251, 18.78837409, 17.98571977, 14.80265943,\n",
       "       21.84535851, 21.19889621, 18.68262584, 18.50227819, 21.64452892,\n",
       "       18.50594963, 20.24352791, 35.5411061 , 19.22998947, 37.60268732,\n",
       "       46.52850747, 46.81394479])"
      ]
     },
     "execution_count": 59,
     "metadata": {},
     "output_type": "execute_result"
    }
   ],
   "source": [
    "Predicted_value_PLR = Poly_L_R.predict(Poly_X_test)\n",
    "Predicted_value_PLR"
   ]
  },
  {
   "cell_type": "code",
   "execution_count": 60,
   "id": "2d68784c",
   "metadata": {},
   "outputs": [
    {
     "data": {
      "text/plain": [
       "(127,)"
      ]
     },
     "execution_count": 60,
     "metadata": {},
     "output_type": "execute_result"
    }
   ],
   "source": [
    "Predicted_value_PLR.shape"
   ]
  },
  {
   "cell_type": "code",
   "execution_count": 61,
   "id": "5e153544",
   "metadata": {},
   "outputs": [
    {
     "data": {
      "text/plain": [
       "(127,)"
      ]
     },
     "execution_count": 61,
     "metadata": {},
     "output_type": "execute_result"
    }
   ],
   "source": [
    "y_test.shape"
   ]
  },
  {
   "cell_type": "code",
   "execution_count": 62,
   "id": "eeb65914",
   "metadata": {},
   "outputs": [
    {
     "data": {
      "text/plain": [
       "0.6498553948403448"
      ]
     },
     "execution_count": 62,
     "metadata": {},
     "output_type": "execute_result"
    }
   ],
   "source": [
    "R2_PLR = r2_score(y_test, Predicted_value_PLR)\n",
    "R2_PLR"
   ]
  },
  {
   "cell_type": "markdown",
   "id": "ce297c74",
   "metadata": {},
   "source": [
    "This means that the accuracy of the linear regression model has decreased with respecto to the former fitted model"
   ]
  },
  {
   "cell_type": "markdown",
   "id": "6f86f1f0",
   "metadata": {},
   "source": [
    "As a superficial conclusion, it can be said that PLR is not a good choice for this dataset. It is better to use MLR."
   ]
  },
  {
   "cell_type": "markdown",
   "id": "43439dce",
   "metadata": {},
   "source": [
    "### Random Forest Model "
   ]
  },
  {
   "cell_type": "code",
   "execution_count": 63,
   "id": "88b7edde",
   "metadata": {},
   "outputs": [],
   "source": [
    "X = boston.data\n",
    "y = boston.target"
   ]
  },
  {
   "cell_type": "code",
   "execution_count": 64,
   "id": "43b62f8e",
   "metadata": {},
   "outputs": [],
   "source": [
    "X_train, X_test, y_train, y_test = train_test_split(X,y, test_size=0.25, random_state=76, shuffle=True)"
   ]
  },
  {
   "cell_type": "code",
   "execution_count": 65,
   "id": "24165dea",
   "metadata": {},
   "outputs": [],
   "source": [
    "scaled = MinMaxScaler(feature_range=(0,1))"
   ]
  },
  {
   "cell_type": "code",
   "execution_count": 66,
   "id": "4af57c3d",
   "metadata": {},
   "outputs": [],
   "source": [
    "X_train = scaled.fit_transform(X_train)\n",
    "X_test = scaled.fit_transform(X_test)"
   ]
  },
  {
   "cell_type": "code",
   "execution_count": 67,
   "id": "0e3223e0",
   "metadata": {},
   "outputs": [
    {
     "data": {
      "text/plain": [
       "array([[5.14089134e-01, 0.00000000e+00, 6.46627566e-01, ...,\n",
       "        8.08510638e-01, 2.17429890e-01, 1.00000000e+00],\n",
       "       [2.91478404e-03, 0.00000000e+00, 3.38343109e-01, ...,\n",
       "        7.02127660e-01, 1.00000000e+00, 3.50921986e-01],\n",
       "       [6.77193849e-03, 2.00000000e-01, 1.28665689e-01, ...,\n",
       "        4.25531915e-02, 9.81743496e-01, 9.61702128e-02],\n",
       "       ...,\n",
       "       [5.93926027e-02, 0.00000000e+00, 6.46627566e-01, ...,\n",
       "        8.08510638e-01, 9.53040215e-01, 4.83120567e-01],\n",
       "       [5.81113431e-04, 0.00000000e+00, 4.20454545e-01, ...,\n",
       "        8.93617021e-01, 1.00000000e+00, 1.10921986e-01],\n",
       "       [1.63464848e-02, 0.00000000e+00, 7.00879765e-01, ...,\n",
       "        2.23404255e-01, 9.43024494e-01, 0.00000000e+00]])"
      ]
     },
     "execution_count": 67,
     "metadata": {},
     "output_type": "execute_result"
    }
   ],
   "source": [
    "X_train"
   ]
  },
  {
   "cell_type": "code",
   "execution_count": 68,
   "id": "a9bbf39f",
   "metadata": {},
   "outputs": [],
   "source": [
    "y_train = y_train.reshape(-1,1)\n",
    "y_train = scaled.fit_transform(y_train)"
   ]
  },
  {
   "cell_type": "code",
   "execution_count": 69,
   "id": "217ba870",
   "metadata": {},
   "outputs": [
    {
     "data": {
      "text/plain": [
       "(379, 1)"
      ]
     },
     "execution_count": 69,
     "metadata": {},
     "output_type": "execute_result"
    }
   ],
   "source": [
    "y_train.shape"
   ]
  },
  {
   "cell_type": "markdown",
   "id": "82198f8d",
   "metadata": {},
   "source": [
    "#### Importing package"
   ]
  },
  {
   "cell_type": "code",
   "execution_count": 70,
   "id": "2867e69c",
   "metadata": {},
   "outputs": [],
   "source": [
    "from sklearn.ensemble import RandomForestRegressor"
   ]
  },
  {
   "cell_type": "code",
   "execution_count": 71,
   "id": "0b0ee3fb",
   "metadata": {},
   "outputs": [],
   "source": [
    "Random_F = RandomForestRegressor(random_state=33)"
   ]
  },
  {
   "cell_type": "code",
   "execution_count": 72,
   "id": "55b5063a",
   "metadata": {},
   "outputs": [
    {
     "name": "stderr",
     "output_type": "stream",
     "text": [
      "/var/folders/fk/fbj1ksls7wq3z6dyxsdrrz9w0000gn/T/ipykernel_4672/3820652280.py:1: DataConversionWarning: A column-vector y was passed when a 1d array was expected. Please change the shape of y to (n_samples,), for example using ravel().\n",
      "  Random_F.fit(X_train, y_train)\n"
     ]
    },
    {
     "data": {
      "text/html": [
       "<style>#sk-container-id-5 {color: black;background-color: white;}#sk-container-id-5 pre{padding: 0;}#sk-container-id-5 div.sk-toggleable {background-color: white;}#sk-container-id-5 label.sk-toggleable__label {cursor: pointer;display: block;width: 100%;margin-bottom: 0;padding: 0.3em;box-sizing: border-box;text-align: center;}#sk-container-id-5 label.sk-toggleable__label-arrow:before {content: \"▸\";float: left;margin-right: 0.25em;color: #696969;}#sk-container-id-5 label.sk-toggleable__label-arrow:hover:before {color: black;}#sk-container-id-5 div.sk-estimator:hover label.sk-toggleable__label-arrow:before {color: black;}#sk-container-id-5 div.sk-toggleable__content {max-height: 0;max-width: 0;overflow: hidden;text-align: left;background-color: #f0f8ff;}#sk-container-id-5 div.sk-toggleable__content pre {margin: 0.2em;color: black;border-radius: 0.25em;background-color: #f0f8ff;}#sk-container-id-5 input.sk-toggleable__control:checked~div.sk-toggleable__content {max-height: 200px;max-width: 100%;overflow: auto;}#sk-container-id-5 input.sk-toggleable__control:checked~label.sk-toggleable__label-arrow:before {content: \"▾\";}#sk-container-id-5 div.sk-estimator input.sk-toggleable__control:checked~label.sk-toggleable__label {background-color: #d4ebff;}#sk-container-id-5 div.sk-label input.sk-toggleable__control:checked~label.sk-toggleable__label {background-color: #d4ebff;}#sk-container-id-5 input.sk-hidden--visually {border: 0;clip: rect(1px 1px 1px 1px);clip: rect(1px, 1px, 1px, 1px);height: 1px;margin: -1px;overflow: hidden;padding: 0;position: absolute;width: 1px;}#sk-container-id-5 div.sk-estimator {font-family: monospace;background-color: #f0f8ff;border: 1px dotted black;border-radius: 0.25em;box-sizing: border-box;margin-bottom: 0.5em;}#sk-container-id-5 div.sk-estimator:hover {background-color: #d4ebff;}#sk-container-id-5 div.sk-parallel-item::after {content: \"\";width: 100%;border-bottom: 1px solid gray;flex-grow: 1;}#sk-container-id-5 div.sk-label:hover label.sk-toggleable__label {background-color: #d4ebff;}#sk-container-id-5 div.sk-serial::before {content: \"\";position: absolute;border-left: 1px solid gray;box-sizing: border-box;top: 0;bottom: 0;left: 50%;z-index: 0;}#sk-container-id-5 div.sk-serial {display: flex;flex-direction: column;align-items: center;background-color: white;padding-right: 0.2em;padding-left: 0.2em;position: relative;}#sk-container-id-5 div.sk-item {position: relative;z-index: 1;}#sk-container-id-5 div.sk-parallel {display: flex;align-items: stretch;justify-content: center;background-color: white;position: relative;}#sk-container-id-5 div.sk-item::before, #sk-container-id-5 div.sk-parallel-item::before {content: \"\";position: absolute;border-left: 1px solid gray;box-sizing: border-box;top: 0;bottom: 0;left: 50%;z-index: -1;}#sk-container-id-5 div.sk-parallel-item {display: flex;flex-direction: column;z-index: 1;position: relative;background-color: white;}#sk-container-id-5 div.sk-parallel-item:first-child::after {align-self: flex-end;width: 50%;}#sk-container-id-5 div.sk-parallel-item:last-child::after {align-self: flex-start;width: 50%;}#sk-container-id-5 div.sk-parallel-item:only-child::after {width: 0;}#sk-container-id-5 div.sk-dashed-wrapped {border: 1px dashed gray;margin: 0 0.4em 0.5em 0.4em;box-sizing: border-box;padding-bottom: 0.4em;background-color: white;}#sk-container-id-5 div.sk-label label {font-family: monospace;font-weight: bold;display: inline-block;line-height: 1.2em;}#sk-container-id-5 div.sk-label-container {text-align: center;}#sk-container-id-5 div.sk-container {/* jupyter's `normalize.less` sets `[hidden] { display: none; }` but bootstrap.min.css set `[hidden] { display: none !important; }` so we also need the `!important` here to be able to override the default hidden behavior on the sphinx rendered scikit-learn.org. See: https://github.com/scikit-learn/scikit-learn/issues/21755 */display: inline-block !important;position: relative;}#sk-container-id-5 div.sk-text-repr-fallback {display: none;}</style><div id=\"sk-container-id-5\" class=\"sk-top-container\"><div class=\"sk-text-repr-fallback\"><pre>RandomForestRegressor(random_state=33)</pre><b>In a Jupyter environment, please rerun this cell to show the HTML representation or trust the notebook. <br />On GitHub, the HTML representation is unable to render, please try loading this page with nbviewer.org.</b></div><div class=\"sk-container\" hidden><div class=\"sk-item\"><div class=\"sk-estimator sk-toggleable\"><input class=\"sk-toggleable__control sk-hidden--visually\" id=\"sk-estimator-id-5\" type=\"checkbox\" checked><label for=\"sk-estimator-id-5\" class=\"sk-toggleable__label sk-toggleable__label-arrow\">RandomForestRegressor</label><div class=\"sk-toggleable__content\"><pre>RandomForestRegressor(random_state=33)</pre></div></div></div></div></div>"
      ],
      "text/plain": [
       "RandomForestRegressor(random_state=33)"
      ]
     },
     "execution_count": 72,
     "metadata": {},
     "output_type": "execute_result"
    }
   ],
   "source": [
    "Random_F.fit(X_train, y_train)"
   ]
  },
  {
   "cell_type": "code",
   "execution_count": 73,
   "id": "876874cc",
   "metadata": {},
   "outputs": [],
   "source": [
    "Predicted_values_RF = Random_F.predict(X_test)"
   ]
  },
  {
   "cell_type": "code",
   "execution_count": 74,
   "id": "9cd8298b",
   "metadata": {},
   "outputs": [
    {
     "data": {
      "text/plain": [
       "(127,)"
      ]
     },
     "execution_count": 74,
     "metadata": {},
     "output_type": "execute_result"
    }
   ],
   "source": [
    "Predicted_values_RF.shape"
   ]
  },
  {
   "cell_type": "markdown",
   "id": "f6bdcfe1",
   "metadata": {},
   "source": [
    "#### Denormalize data"
   ]
  },
  {
   "cell_type": "code",
   "execution_count": 75,
   "id": "5ba9b8f2",
   "metadata": {},
   "outputs": [],
   "source": [
    "Predicted_values_RF = Predicted_values_RF.reshape(-1,1)"
   ]
  },
  {
   "cell_type": "code",
   "execution_count": 76,
   "id": "916aaae1",
   "metadata": {},
   "outputs": [
    {
     "data": {
      "text/plain": [
       "(127, 1)"
      ]
     },
     "execution_count": 76,
     "metadata": {},
     "output_type": "execute_result"
    }
   ],
   "source": [
    "Predicted_values_RF.shape"
   ]
  },
  {
   "cell_type": "code",
   "execution_count": 77,
   "id": "2d09af29",
   "metadata": {},
   "outputs": [
    {
     "data": {
      "text/plain": [
       "array([[14.883],\n",
       "       [17.649],\n",
       "       [23.113],\n",
       "       [25.444],\n",
       "       [23.85 ],\n",
       "       [26.61 ],\n",
       "       [19.148],\n",
       "       [19.573],\n",
       "       [32.137],\n",
       "       [20.288],\n",
       "       [20.246],\n",
       "       [15.213],\n",
       "       [10.992],\n",
       "       [25.061],\n",
       "       [14.352],\n",
       "       [20.375],\n",
       "       [20.122],\n",
       "       [ 7.838],\n",
       "       [19.211],\n",
       "       [22.805],\n",
       "       [22.321],\n",
       "       [29.558],\n",
       "       [20.681],\n",
       "       [19.107],\n",
       "       [15.088],\n",
       "       [24.851],\n",
       "       [22.889],\n",
       "       [34.151],\n",
       "       [19.942],\n",
       "       [26.636],\n",
       "       [12.621],\n",
       "       [19.836],\n",
       "       [22.717],\n",
       "       [21.478],\n",
       "       [26.741],\n",
       "       [22.548],\n",
       "       [19.865],\n",
       "       [14.112],\n",
       "       [28.823],\n",
       "       [19.909],\n",
       "       [19.014],\n",
       "       [19.983],\n",
       "       [44.906],\n",
       "       [23.016],\n",
       "       [19.997],\n",
       "       [20.435],\n",
       "       [18.35 ],\n",
       "       [31.704],\n",
       "       [32.008],\n",
       "       [20.371],\n",
       "       [22.838],\n",
       "       [27.225],\n",
       "       [16.346],\n",
       "       [21.306],\n",
       "       [18.73 ],\n",
       "       [23.82 ],\n",
       "       [24.412],\n",
       "       [20.595],\n",
       "       [19.604],\n",
       "       [11.471],\n",
       "       [20.71 ],\n",
       "       [20.238],\n",
       "       [30.456],\n",
       "       [13.059],\n",
       "       [18.876],\n",
       "       [26.534],\n",
       "       [24.277],\n",
       "       [20.151],\n",
       "       [14.961],\n",
       "       [27.128],\n",
       "       [25.851],\n",
       "       [16.616],\n",
       "       [24.727],\n",
       "       [16.937],\n",
       "       [32.363],\n",
       "       [20.323],\n",
       "       [14.835],\n",
       "       [23.552],\n",
       "       [24.636],\n",
       "       [29.389],\n",
       "       [25.225],\n",
       "       [23.792],\n",
       "       [11.082],\n",
       "       [45.327],\n",
       "       [16.12 ],\n",
       "       [20.754],\n",
       "       [ 9.982],\n",
       "       [43.505],\n",
       "       [15.628],\n",
       "       [21.876],\n",
       "       [28.289],\n",
       "       [11.167],\n",
       "       [47.504],\n",
       "       [16.339],\n",
       "       [23.043],\n",
       "       [17.049],\n",
       "       [33.801],\n",
       "       [15.896],\n",
       "       [19.35 ],\n",
       "       [17.974],\n",
       "       [32.945],\n",
       "       [30.251],\n",
       "       [11.34 ],\n",
       "       [14.309],\n",
       "       [23.049],\n",
       "       [15.953],\n",
       "       [20.484],\n",
       "       [19.143],\n",
       "       [16.716],\n",
       "       [17.732],\n",
       "       [21.054],\n",
       "       [24.353],\n",
       "       [20.342],\n",
       "       [20.214],\n",
       "       [10.58 ],\n",
       "       [24.8  ],\n",
       "       [22.896],\n",
       "       [24.324],\n",
       "       [20.18 ],\n",
       "       [ 9.308],\n",
       "       [20.326],\n",
       "       [20.271],\n",
       "       [29.467],\n",
       "       [25.845],\n",
       "       [44.339],\n",
       "       [47.595],\n",
       "       [47.35 ]])"
      ]
     },
     "execution_count": 77,
     "metadata": {},
     "output_type": "execute_result"
    }
   ],
   "source": [
    "Predicted_values_RF = scaled.inverse_transform(Predicted_values_RF)\n",
    "Predicted_values_RF"
   ]
  },
  {
   "cell_type": "markdown",
   "id": "384e605c",
   "metadata": {},
   "source": [
    "#### Evaluating the model"
   ]
  },
  {
   "cell_type": "code",
   "execution_count": 78,
   "id": "5638d628",
   "metadata": {},
   "outputs": [
    {
     "data": {
      "text/plain": [
       "2.3835039370078723"
      ]
     },
     "execution_count": 78,
     "metadata": {},
     "output_type": "execute_result"
    }
   ],
   "source": [
    "MAE_RF = mean_absolute_error(y_test, Predicted_values_RF)\n",
    "MAE_RF"
   ]
  },
  {
   "cell_type": "code",
   "execution_count": 79,
   "id": "5cbb9545",
   "metadata": {},
   "outputs": [
    {
     "data": {
      "text/plain": [
       "11.982625299212595"
      ]
     },
     "execution_count": 79,
     "metadata": {},
     "output_type": "execute_result"
    }
   ],
   "source": [
    "MSE_RF = mean_squared_error(y_test, Predicted_values_RF)\n",
    "MSE_RF"
   ]
  },
  {
   "cell_type": "code",
   "execution_count": 80,
   "id": "47c6ad07",
   "metadata": {},
   "outputs": [
    {
     "data": {
      "text/plain": [
       "4.1604370041173455"
      ]
     },
     "execution_count": 80,
     "metadata": {},
     "output_type": "execute_result"
    }
   ],
   "source": [
    "RMSE_RF = math.sqrt(MSE)\n",
    "RMSE_RF"
   ]
  },
  {
   "cell_type": "code",
   "execution_count": 81,
   "id": "f522cd0f",
   "metadata": {},
   "outputs": [
    {
     "data": {
      "text/plain": [
       "0.791512737254228"
      ]
     },
     "execution_count": 81,
     "metadata": {},
     "output_type": "execute_result"
    }
   ],
   "source": [
    "R2_RF = r2_score(y_test, Predicted_values_RF)\n",
    "R2_RF"
   ]
  },
  {
   "cell_type": "code",
   "execution_count": 82,
   "id": "dfc95db5",
   "metadata": {},
   "outputs": [
    {
     "data": {
      "text/plain": [
       "42.17095749773818"
      ]
     },
     "execution_count": 82,
     "metadata": {},
     "output_type": "execute_result"
    }
   ],
   "source": [
    "MAPE_RF = mean_absolute_percentage_error(y_test, Predicted_values_RF)\n",
    "MAPE_RF"
   ]
  },
  {
   "cell_type": "markdown",
   "id": "f7a6c1c3",
   "metadata": {},
   "source": [
    "We can see that with Random Forest Algorithm, the R2 has increased to 0.79, which means the model now fits the data better than using the MLR Model (which R2 was about 0.69)."
   ]
  },
  {
   "cell_type": "markdown",
   "id": "cb7c0def",
   "metadata": {},
   "source": [
    "Also, the Mean Absolute Percentage Error has decreased a bit from 43.71% in MLR to 42.17% in RF."
   ]
  },
  {
   "cell_type": "markdown",
   "id": "dac52593",
   "metadata": {},
   "source": [
    "#### Tuning params of Random Forest Model manually"
   ]
  },
  {
   "cell_type": "code",
   "execution_count": 83,
   "id": "29c17ca4",
   "metadata": {},
   "outputs": [],
   "source": [
    "# random_state -> for getting the same random selection\n",
    "Random_F_tunned = RandomForestRegressor(n_estimators= 500, max_depth= 30, random_state=33)"
   ]
  },
  {
   "cell_type": "code",
   "execution_count": 84,
   "id": "5d6d6462",
   "metadata": {},
   "outputs": [
    {
     "name": "stderr",
     "output_type": "stream",
     "text": [
      "/var/folders/fk/fbj1ksls7wq3z6dyxsdrrz9w0000gn/T/ipykernel_4672/2108357473.py:1: DataConversionWarning: A column-vector y was passed when a 1d array was expected. Please change the shape of y to (n_samples,), for example using ravel().\n",
      "  Random_F_tunned.fit(X_train, y_train)\n"
     ]
    },
    {
     "data": {
      "text/html": [
       "<style>#sk-container-id-6 {color: black;background-color: white;}#sk-container-id-6 pre{padding: 0;}#sk-container-id-6 div.sk-toggleable {background-color: white;}#sk-container-id-6 label.sk-toggleable__label {cursor: pointer;display: block;width: 100%;margin-bottom: 0;padding: 0.3em;box-sizing: border-box;text-align: center;}#sk-container-id-6 label.sk-toggleable__label-arrow:before {content: \"▸\";float: left;margin-right: 0.25em;color: #696969;}#sk-container-id-6 label.sk-toggleable__label-arrow:hover:before {color: black;}#sk-container-id-6 div.sk-estimator:hover label.sk-toggleable__label-arrow:before {color: black;}#sk-container-id-6 div.sk-toggleable__content {max-height: 0;max-width: 0;overflow: hidden;text-align: left;background-color: #f0f8ff;}#sk-container-id-6 div.sk-toggleable__content pre {margin: 0.2em;color: black;border-radius: 0.25em;background-color: #f0f8ff;}#sk-container-id-6 input.sk-toggleable__control:checked~div.sk-toggleable__content {max-height: 200px;max-width: 100%;overflow: auto;}#sk-container-id-6 input.sk-toggleable__control:checked~label.sk-toggleable__label-arrow:before {content: \"▾\";}#sk-container-id-6 div.sk-estimator input.sk-toggleable__control:checked~label.sk-toggleable__label {background-color: #d4ebff;}#sk-container-id-6 div.sk-label input.sk-toggleable__control:checked~label.sk-toggleable__label {background-color: #d4ebff;}#sk-container-id-6 input.sk-hidden--visually {border: 0;clip: rect(1px 1px 1px 1px);clip: rect(1px, 1px, 1px, 1px);height: 1px;margin: -1px;overflow: hidden;padding: 0;position: absolute;width: 1px;}#sk-container-id-6 div.sk-estimator {font-family: monospace;background-color: #f0f8ff;border: 1px dotted black;border-radius: 0.25em;box-sizing: border-box;margin-bottom: 0.5em;}#sk-container-id-6 div.sk-estimator:hover {background-color: #d4ebff;}#sk-container-id-6 div.sk-parallel-item::after {content: \"\";width: 100%;border-bottom: 1px solid gray;flex-grow: 1;}#sk-container-id-6 div.sk-label:hover label.sk-toggleable__label {background-color: #d4ebff;}#sk-container-id-6 div.sk-serial::before {content: \"\";position: absolute;border-left: 1px solid gray;box-sizing: border-box;top: 0;bottom: 0;left: 50%;z-index: 0;}#sk-container-id-6 div.sk-serial {display: flex;flex-direction: column;align-items: center;background-color: white;padding-right: 0.2em;padding-left: 0.2em;position: relative;}#sk-container-id-6 div.sk-item {position: relative;z-index: 1;}#sk-container-id-6 div.sk-parallel {display: flex;align-items: stretch;justify-content: center;background-color: white;position: relative;}#sk-container-id-6 div.sk-item::before, #sk-container-id-6 div.sk-parallel-item::before {content: \"\";position: absolute;border-left: 1px solid gray;box-sizing: border-box;top: 0;bottom: 0;left: 50%;z-index: -1;}#sk-container-id-6 div.sk-parallel-item {display: flex;flex-direction: column;z-index: 1;position: relative;background-color: white;}#sk-container-id-6 div.sk-parallel-item:first-child::after {align-self: flex-end;width: 50%;}#sk-container-id-6 div.sk-parallel-item:last-child::after {align-self: flex-start;width: 50%;}#sk-container-id-6 div.sk-parallel-item:only-child::after {width: 0;}#sk-container-id-6 div.sk-dashed-wrapped {border: 1px dashed gray;margin: 0 0.4em 0.5em 0.4em;box-sizing: border-box;padding-bottom: 0.4em;background-color: white;}#sk-container-id-6 div.sk-label label {font-family: monospace;font-weight: bold;display: inline-block;line-height: 1.2em;}#sk-container-id-6 div.sk-label-container {text-align: center;}#sk-container-id-6 div.sk-container {/* jupyter's `normalize.less` sets `[hidden] { display: none; }` but bootstrap.min.css set `[hidden] { display: none !important; }` so we also need the `!important` here to be able to override the default hidden behavior on the sphinx rendered scikit-learn.org. See: https://github.com/scikit-learn/scikit-learn/issues/21755 */display: inline-block !important;position: relative;}#sk-container-id-6 div.sk-text-repr-fallback {display: none;}</style><div id=\"sk-container-id-6\" class=\"sk-top-container\"><div class=\"sk-text-repr-fallback\"><pre>RandomForestRegressor(max_depth=30, n_estimators=500, random_state=33)</pre><b>In a Jupyter environment, please rerun this cell to show the HTML representation or trust the notebook. <br />On GitHub, the HTML representation is unable to render, please try loading this page with nbviewer.org.</b></div><div class=\"sk-container\" hidden><div class=\"sk-item\"><div class=\"sk-estimator sk-toggleable\"><input class=\"sk-toggleable__control sk-hidden--visually\" id=\"sk-estimator-id-6\" type=\"checkbox\" checked><label for=\"sk-estimator-id-6\" class=\"sk-toggleable__label sk-toggleable__label-arrow\">RandomForestRegressor</label><div class=\"sk-toggleable__content\"><pre>RandomForestRegressor(max_depth=30, n_estimators=500, random_state=33)</pre></div></div></div></div></div>"
      ],
      "text/plain": [
       "RandomForestRegressor(max_depth=30, n_estimators=500, random_state=33)"
      ]
     },
     "execution_count": 84,
     "metadata": {},
     "output_type": "execute_result"
    }
   ],
   "source": [
    "Random_F_tunned.fit(X_train, y_train)"
   ]
  },
  {
   "cell_type": "code",
   "execution_count": 85,
   "id": "8003e07b",
   "metadata": {},
   "outputs": [],
   "source": [
    "Predicted_values_RF_tunned = Random_F_tunned.predict(X_test)"
   ]
  },
  {
   "cell_type": "code",
   "execution_count": 86,
   "id": "23b1c09f",
   "metadata": {},
   "outputs": [
    {
     "data": {
      "text/plain": [
       "(127, 1)"
      ]
     },
     "execution_count": 86,
     "metadata": {},
     "output_type": "execute_result"
    }
   ],
   "source": [
    "Predicted_values_RF_tunned = Predicted_values_RF_tunned.reshape(-1,1)\n",
    "Predicted_values_RF_tunned.shape"
   ]
  },
  {
   "cell_type": "code",
   "execution_count": 87,
   "id": "53bebf1e",
   "metadata": {},
   "outputs": [],
   "source": [
    "Predicted_values_RF_tunned = scaled.inverse_transform(Predicted_values_RF_tunned)"
   ]
  },
  {
   "cell_type": "code",
   "execution_count": 88,
   "id": "82066abf",
   "metadata": {},
   "outputs": [
    {
     "data": {
      "text/plain": [
       "(127, 1)"
      ]
     },
     "execution_count": 88,
     "metadata": {},
     "output_type": "execute_result"
    }
   ],
   "source": [
    "Predicted_values_RF_tunned.shape"
   ]
  },
  {
   "cell_type": "markdown",
   "id": "10f97e55",
   "metadata": {},
   "source": [
    "##### Evaluating the RF tunned model"
   ]
  },
  {
   "cell_type": "code",
   "execution_count": 89,
   "id": "886b8471",
   "metadata": {},
   "outputs": [
    {
     "data": {
      "text/plain": [
       "2.33891181102362"
      ]
     },
     "execution_count": 89,
     "metadata": {},
     "output_type": "execute_result"
    }
   ],
   "source": [
    "MAE_RF_tunned = mean_absolute_error(y_test, Predicted_values_RF_tunned)\n",
    "MAE_RF_tunned"
   ]
  },
  {
   "cell_type": "code",
   "execution_count": 90,
   "id": "98b0164b",
   "metadata": {},
   "outputs": [
    {
     "data": {
      "text/plain": [
       "11.458908322834652"
      ]
     },
     "execution_count": 90,
     "metadata": {},
     "output_type": "execute_result"
    }
   ],
   "source": [
    "MSE_RF_tunned = mean_squared_error(y_test, Predicted_values_RF_tunned)\n",
    "MSE_RF_tunned"
   ]
  },
  {
   "cell_type": "code",
   "execution_count": 91,
   "id": "5cfe8dd5",
   "metadata": {},
   "outputs": [
    {
     "data": {
      "text/plain": [
       "3.385100932444209"
      ]
     },
     "execution_count": 91,
     "metadata": {},
     "output_type": "execute_result"
    }
   ],
   "source": [
    "RMSE_RF_tunned = math.sqrt(MSE_RF_tunned)\n",
    "RMSE_RF_tunned"
   ]
  },
  {
   "cell_type": "code",
   "execution_count": 92,
   "id": "45681012",
   "metadata": {},
   "outputs": [
    {
     "data": {
      "text/plain": [
       "0.8006249573338883"
      ]
     },
     "execution_count": 92,
     "metadata": {},
     "output_type": "execute_result"
    }
   ],
   "source": [
    "R2_RF_tunned = r2_score(y_test, Predicted_values_RF_tunned)\n",
    "R2_RF_tunned"
   ]
  },
  {
   "cell_type": "code",
   "execution_count": 93,
   "id": "fb84c2e9",
   "metadata": {},
   "outputs": [
    {
     "data": {
      "text/plain": [
       "41.87653865320555"
      ]
     },
     "execution_count": 93,
     "metadata": {},
     "output_type": "execute_result"
    }
   ],
   "source": [
    "MAPE_RF_tunned = mean_absolute_percentage_error(y_test, Predicted_values_RF_tunned)\n",
    "MAPE_RF_tunned"
   ]
  },
  {
   "cell_type": "markdown",
   "id": "80f4fac2",
   "metadata": {},
   "source": [
    "It can be said that when increasing the n_estimator, the R2 value increases. Also, the MAPE error has decreased, which means that the model is better than the previous one.\n",
    "\n",
    "- The thing is that by increasing n_estimator, the computational time and cost is increased as well. Thus, this param shouldn't be increased very much."
   ]
  },
  {
   "cell_type": "markdown",
   "id": "1b0282f1",
   "metadata": {},
   "source": [
    "Decreasing Max_depth prevent overfitting and computational cost as well.\n",
    "\n",
    "- This param, actually stops my model to go until the final branch. It stops at the number I've defined."
   ]
  },
  {
   "cell_type": "markdown",
   "id": "28229679",
   "metadata": {},
   "source": [
    "### Support Vector Regression (SVR) Model "
   ]
  },
  {
   "cell_type": "code",
   "execution_count": 94,
   "id": "5037348f",
   "metadata": {},
   "outputs": [],
   "source": [
    "from sklearn.svm import SVR"
   ]
  },
  {
   "cell_type": "code",
   "execution_count": 95,
   "id": "7be79bbf",
   "metadata": {},
   "outputs": [],
   "source": [
    "X = boston.data\n",
    "y = boston.target"
   ]
  },
  {
   "cell_type": "code",
   "execution_count": 96,
   "id": "496e2672",
   "metadata": {},
   "outputs": [],
   "source": [
    "X_train, X_test, y_train, y_test = train_test_split(X, y, test_size=0.25, random_state=76, shuffle=True)"
   ]
  },
  {
   "cell_type": "code",
   "execution_count": 97,
   "id": "e43cda29",
   "metadata": {},
   "outputs": [],
   "source": [
    "X_train = scaled.fit_transform(X_train)"
   ]
  },
  {
   "cell_type": "code",
   "execution_count": 98,
   "id": "36a1be50",
   "metadata": {},
   "outputs": [
    {
     "data": {
      "text/plain": [
       "array([[5.14089134e-01, 0.00000000e+00, 6.46627566e-01, ...,\n",
       "        8.08510638e-01, 2.17429890e-01, 1.00000000e+00],\n",
       "       [2.91478404e-03, 0.00000000e+00, 3.38343109e-01, ...,\n",
       "        7.02127660e-01, 1.00000000e+00, 3.50921986e-01],\n",
       "       [6.77193849e-03, 2.00000000e-01, 1.28665689e-01, ...,\n",
       "        4.25531915e-02, 9.81743496e-01, 9.61702128e-02],\n",
       "       ...,\n",
       "       [5.93926027e-02, 0.00000000e+00, 6.46627566e-01, ...,\n",
       "        8.08510638e-01, 9.53040215e-01, 4.83120567e-01],\n",
       "       [5.81113431e-04, 0.00000000e+00, 4.20454545e-01, ...,\n",
       "        8.93617021e-01, 1.00000000e+00, 1.10921986e-01],\n",
       "       [1.63464848e-02, 0.00000000e+00, 7.00879765e-01, ...,\n",
       "        2.23404255e-01, 9.43024494e-01, 0.00000000e+00]])"
      ]
     },
     "execution_count": 98,
     "metadata": {},
     "output_type": "execute_result"
    }
   ],
   "source": [
    "X_train"
   ]
  },
  {
   "cell_type": "code",
   "execution_count": 99,
   "id": "2105031d",
   "metadata": {},
   "outputs": [],
   "source": [
    "X_test = scaled.fit_transform(X_test)"
   ]
  },
  {
   "cell_type": "code",
   "execution_count": 100,
   "id": "aa3e6e47",
   "metadata": {},
   "outputs": [],
   "source": [
    "y_train = y_train.reshape(-1,1)"
   ]
  },
  {
   "cell_type": "code",
   "execution_count": 101,
   "id": "c656ba0a",
   "metadata": {},
   "outputs": [],
   "source": [
    "y_train = scaled.fit_transform(y_train)"
   ]
  },
  {
   "cell_type": "code",
   "execution_count": 102,
   "id": "cf01b09b",
   "metadata": {},
   "outputs": [],
   "source": [
    "Regressor_SVR = SVR(kernel='rbf')"
   ]
  },
  {
   "cell_type": "code",
   "execution_count": 103,
   "id": "d2bcc1e4",
   "metadata": {},
   "outputs": [
    {
     "name": "stderr",
     "output_type": "stream",
     "text": [
      "/Users/nathalia/.pyenv/versions/py-3.10.7/lib/python3.10/site-packages/sklearn/utils/validation.py:1111: DataConversionWarning: A column-vector y was passed when a 1d array was expected. Please change the shape of y to (n_samples, ), for example using ravel().\n",
      "  y = column_or_1d(y, warn=True)\n"
     ]
    },
    {
     "data": {
      "text/html": [
       "<style>#sk-container-id-7 {color: black;background-color: white;}#sk-container-id-7 pre{padding: 0;}#sk-container-id-7 div.sk-toggleable {background-color: white;}#sk-container-id-7 label.sk-toggleable__label {cursor: pointer;display: block;width: 100%;margin-bottom: 0;padding: 0.3em;box-sizing: border-box;text-align: center;}#sk-container-id-7 label.sk-toggleable__label-arrow:before {content: \"▸\";float: left;margin-right: 0.25em;color: #696969;}#sk-container-id-7 label.sk-toggleable__label-arrow:hover:before {color: black;}#sk-container-id-7 div.sk-estimator:hover label.sk-toggleable__label-arrow:before {color: black;}#sk-container-id-7 div.sk-toggleable__content {max-height: 0;max-width: 0;overflow: hidden;text-align: left;background-color: #f0f8ff;}#sk-container-id-7 div.sk-toggleable__content pre {margin: 0.2em;color: black;border-radius: 0.25em;background-color: #f0f8ff;}#sk-container-id-7 input.sk-toggleable__control:checked~div.sk-toggleable__content {max-height: 200px;max-width: 100%;overflow: auto;}#sk-container-id-7 input.sk-toggleable__control:checked~label.sk-toggleable__label-arrow:before {content: \"▾\";}#sk-container-id-7 div.sk-estimator input.sk-toggleable__control:checked~label.sk-toggleable__label {background-color: #d4ebff;}#sk-container-id-7 div.sk-label input.sk-toggleable__control:checked~label.sk-toggleable__label {background-color: #d4ebff;}#sk-container-id-7 input.sk-hidden--visually {border: 0;clip: rect(1px 1px 1px 1px);clip: rect(1px, 1px, 1px, 1px);height: 1px;margin: -1px;overflow: hidden;padding: 0;position: absolute;width: 1px;}#sk-container-id-7 div.sk-estimator {font-family: monospace;background-color: #f0f8ff;border: 1px dotted black;border-radius: 0.25em;box-sizing: border-box;margin-bottom: 0.5em;}#sk-container-id-7 div.sk-estimator:hover {background-color: #d4ebff;}#sk-container-id-7 div.sk-parallel-item::after {content: \"\";width: 100%;border-bottom: 1px solid gray;flex-grow: 1;}#sk-container-id-7 div.sk-label:hover label.sk-toggleable__label {background-color: #d4ebff;}#sk-container-id-7 div.sk-serial::before {content: \"\";position: absolute;border-left: 1px solid gray;box-sizing: border-box;top: 0;bottom: 0;left: 50%;z-index: 0;}#sk-container-id-7 div.sk-serial {display: flex;flex-direction: column;align-items: center;background-color: white;padding-right: 0.2em;padding-left: 0.2em;position: relative;}#sk-container-id-7 div.sk-item {position: relative;z-index: 1;}#sk-container-id-7 div.sk-parallel {display: flex;align-items: stretch;justify-content: center;background-color: white;position: relative;}#sk-container-id-7 div.sk-item::before, #sk-container-id-7 div.sk-parallel-item::before {content: \"\";position: absolute;border-left: 1px solid gray;box-sizing: border-box;top: 0;bottom: 0;left: 50%;z-index: -1;}#sk-container-id-7 div.sk-parallel-item {display: flex;flex-direction: column;z-index: 1;position: relative;background-color: white;}#sk-container-id-7 div.sk-parallel-item:first-child::after {align-self: flex-end;width: 50%;}#sk-container-id-7 div.sk-parallel-item:last-child::after {align-self: flex-start;width: 50%;}#sk-container-id-7 div.sk-parallel-item:only-child::after {width: 0;}#sk-container-id-7 div.sk-dashed-wrapped {border: 1px dashed gray;margin: 0 0.4em 0.5em 0.4em;box-sizing: border-box;padding-bottom: 0.4em;background-color: white;}#sk-container-id-7 div.sk-label label {font-family: monospace;font-weight: bold;display: inline-block;line-height: 1.2em;}#sk-container-id-7 div.sk-label-container {text-align: center;}#sk-container-id-7 div.sk-container {/* jupyter's `normalize.less` sets `[hidden] { display: none; }` but bootstrap.min.css set `[hidden] { display: none !important; }` so we also need the `!important` here to be able to override the default hidden behavior on the sphinx rendered scikit-learn.org. See: https://github.com/scikit-learn/scikit-learn/issues/21755 */display: inline-block !important;position: relative;}#sk-container-id-7 div.sk-text-repr-fallback {display: none;}</style><div id=\"sk-container-id-7\" class=\"sk-top-container\"><div class=\"sk-text-repr-fallback\"><pre>SVR()</pre><b>In a Jupyter environment, please rerun this cell to show the HTML representation or trust the notebook. <br />On GitHub, the HTML representation is unable to render, please try loading this page with nbviewer.org.</b></div><div class=\"sk-container\" hidden><div class=\"sk-item\"><div class=\"sk-estimator sk-toggleable\"><input class=\"sk-toggleable__control sk-hidden--visually\" id=\"sk-estimator-id-7\" type=\"checkbox\" checked><label for=\"sk-estimator-id-7\" class=\"sk-toggleable__label sk-toggleable__label-arrow\">SVR</label><div class=\"sk-toggleable__content\"><pre>SVR()</pre></div></div></div></div></div>"
      ],
      "text/plain": [
       "SVR()"
      ]
     },
     "execution_count": 103,
     "metadata": {},
     "output_type": "execute_result"
    }
   ],
   "source": [
    "Regressor_SVR.fit(X_train, y_train)"
   ]
  },
  {
   "cell_type": "code",
   "execution_count": 104,
   "id": "ae5d0911",
   "metadata": {},
   "outputs": [],
   "source": [
    "Predicted_values_SVR = Regressor_SVR.predict(X_test)"
   ]
  },
  {
   "cell_type": "code",
   "execution_count": 105,
   "id": "66147957",
   "metadata": {},
   "outputs": [
    {
     "data": {
      "text/plain": [
       "(127,)"
      ]
     },
     "execution_count": 105,
     "metadata": {},
     "output_type": "execute_result"
    }
   ],
   "source": [
    "Predicted_values_SVR.shape"
   ]
  },
  {
   "cell_type": "code",
   "execution_count": 106,
   "id": "189b2f68",
   "metadata": {},
   "outputs": [],
   "source": [
    "Predicted_values_SVR = Predicted_values_SVR.reshape(-1,1)"
   ]
  },
  {
   "cell_type": "code",
   "execution_count": 107,
   "id": "3a85fd32",
   "metadata": {},
   "outputs": [],
   "source": [
    "Predicted_values_SVR = scaled.inverse_transform(Predicted_values_SVR)"
   ]
  },
  {
   "cell_type": "code",
   "execution_count": 108,
   "id": "1d218673",
   "metadata": {},
   "outputs": [
    {
     "data": {
      "text/plain": [
       "array([[14.24662499],\n",
       "       [17.45458279],\n",
       "       [22.15166285],\n",
       "       [30.71124346],\n",
       "       [27.90932297],\n",
       "       [27.14906328],\n",
       "       [22.20528399],\n",
       "       [22.17381442],\n",
       "       [29.31529709],\n",
       "       [17.4288741 ],\n",
       "       [18.50516684],\n",
       "       [16.00789931],\n",
       "       [10.14142804],\n",
       "       [25.33238834],\n",
       "       [15.16159783],\n",
       "       [19.96197706],\n",
       "       [21.09100787],\n",
       "       [ 7.40282748],\n",
       "       [23.25452187],\n",
       "       [20.55578811],\n",
       "       [24.12802719],\n",
       "       [29.52324452],\n",
       "       [19.946244  ],\n",
       "       [17.12608595],\n",
       "       [14.25606608],\n",
       "       [26.90120474],\n",
       "       [23.57813645],\n",
       "       [36.17147376],\n",
       "       [18.94423599],\n",
       "       [25.76845812],\n",
       "       [17.8769714 ],\n",
       "       [17.08708114],\n",
       "       [23.01227331],\n",
       "       [24.78276881],\n",
       "       [29.52411586],\n",
       "       [21.09594967],\n",
       "       [19.07741974],\n",
       "       [23.74707661],\n",
       "       [23.2836816 ],\n",
       "       [19.84092652],\n",
       "       [15.74149524],\n",
       "       [20.30990938],\n",
       "       [39.9526245 ],\n",
       "       [22.28321765],\n",
       "       [21.30408826],\n",
       "       [21.18632832],\n",
       "       [17.07310372],\n",
       "       [29.42079895],\n",
       "       [33.52030747],\n",
       "       [18.77235393],\n",
       "       [26.04766554],\n",
       "       [28.24570144],\n",
       "       [17.95058735],\n",
       "       [18.30820253],\n",
       "       [14.84103855],\n",
       "       [24.88424693],\n",
       "       [29.57585537],\n",
       "       [21.12069643],\n",
       "       [22.8172859 ],\n",
       "       [11.93469354],\n",
       "       [19.04474799],\n",
       "       [17.30591588],\n",
       "       [25.31152851],\n",
       "       [14.84533858],\n",
       "       [15.85989485],\n",
       "       [24.95595388],\n",
       "       [26.07920057],\n",
       "       [19.18231236],\n",
       "       [13.54829663],\n",
       "       [26.44423361],\n",
       "       [25.37531628],\n",
       "       [18.23042647],\n",
       "       [23.70386334],\n",
       "       [14.06168215],\n",
       "       [34.05349434],\n",
       "       [20.17854188],\n",
       "       [20.17213327],\n",
       "       [22.0608962 ],\n",
       "       [26.49615918],\n",
       "       [32.89805285],\n",
       "       [25.33448951],\n",
       "       [23.50754612],\n",
       "       [13.72125837],\n",
       "       [41.43205618],\n",
       "       [15.70987694],\n",
       "       [21.80029706],\n",
       "       [16.05801339],\n",
       "       [42.34030579],\n",
       "       [17.87861939],\n",
       "       [26.09693735],\n",
       "       [29.32495024],\n",
       "       [12.0289406 ],\n",
       "       [46.09238328],\n",
       "       [16.54072542],\n",
       "       [25.77110825],\n",
       "       [16.03403154],\n",
       "       [33.23144651],\n",
       "       [15.56685405],\n",
       "       [11.66168561],\n",
       "       [22.13115467],\n",
       "       [37.49282925],\n",
       "       [32.87121463],\n",
       "       [13.97467118],\n",
       "       [15.11356723],\n",
       "       [24.42598525],\n",
       "       [21.05486767],\n",
       "       [21.22852123],\n",
       "       [19.32935265],\n",
       "       [15.7971197 ],\n",
       "       [19.637294  ],\n",
       "       [19.04055974],\n",
       "       [26.59950552],\n",
       "       [19.56753468],\n",
       "       [16.2205947 ],\n",
       "       [11.77374913],\n",
       "       [22.71956334],\n",
       "       [23.57639031],\n",
       "       [24.66599716],\n",
       "       [18.0911897 ],\n",
       "       [10.4588089 ],\n",
       "       [18.6330254 ],\n",
       "       [18.45387122],\n",
       "       [21.33163401],\n",
       "       [30.5302902 ],\n",
       "       [37.48358252],\n",
       "       [46.28162461],\n",
       "       [45.84821551]])"
      ]
     },
     "execution_count": 108,
     "metadata": {},
     "output_type": "execute_result"
    }
   ],
   "source": [
    "Predicted_values_SVR"
   ]
  },
  {
   "cell_type": "markdown",
   "id": "b396ee18",
   "metadata": {},
   "source": [
    "#### Evaluating the model"
   ]
  },
  {
   "cell_type": "code",
   "execution_count": 109,
   "id": "6098ac27",
   "metadata": {},
   "outputs": [
    {
     "data": {
      "text/plain": [
       "2.621034554921243"
      ]
     },
     "execution_count": 109,
     "metadata": {},
     "output_type": "execute_result"
    }
   ],
   "source": [
    "MAE_SVR = mean_absolute_error(y_test, Predicted_values_SVR)\n",
    "MAE_SVR"
   ]
  },
  {
   "cell_type": "code",
   "execution_count": 110,
   "id": "7654359d",
   "metadata": {},
   "outputs": [
    {
     "data": {
      "text/plain": [
       "11.417166115225388"
      ]
     },
     "execution_count": 110,
     "metadata": {},
     "output_type": "execute_result"
    }
   ],
   "source": [
    "MSE_SVR = mean_squared_error(y_test, Predicted_values_SVR)\n",
    "MSE_SVR"
   ]
  },
  {
   "cell_type": "code",
   "execution_count": 111,
   "id": "c1de296b",
   "metadata": {},
   "outputs": [
    {
     "data": {
      "text/plain": [
       "3.3789297292523544"
      ]
     },
     "execution_count": 111,
     "metadata": {},
     "output_type": "execute_result"
    }
   ],
   "source": [
    "RMSE_SVR = math.sqrt(MSE_SVR)\n",
    "RMSE_SVR"
   ]
  },
  {
   "cell_type": "code",
   "execution_count": 112,
   "id": "41d25366",
   "metadata": {},
   "outputs": [
    {
     "data": {
      "text/plain": [
       "0.801351235456429"
      ]
     },
     "execution_count": 112,
     "metadata": {},
     "output_type": "execute_result"
    }
   ],
   "source": [
    "R2_SVR = r2_score(y_test, Predicted_values_SVR)\n",
    "R2_SVR"
   ]
  },
  {
   "cell_type": "code",
   "execution_count": 115,
   "id": "80ba417d",
   "metadata": {},
   "outputs": [
    {
     "data": {
      "text/plain": [
       "42.40440288679086"
      ]
     },
     "execution_count": 115,
     "metadata": {},
     "output_type": "execute_result"
    }
   ],
   "source": [
    "MAPE_SVR = mean_absolute_percentage_error(y_test, Predicted_values_SVR)\n",
    "MAPE_SVR"
   ]
  },
  {
   "cell_type": "markdown",
   "id": "e4870fff",
   "metadata": {},
   "source": [
    "It could be seen that R2 is similar to RF ~0.8. The MAPE is still high comparing with RF."
   ]
  },
  {
   "cell_type": "code",
   "execution_count": null,
   "id": "2cb2226c",
   "metadata": {},
   "outputs": [],
   "source": []
  }
 ],
 "metadata": {
  "kernelspec": {
   "display_name": "Python 3 (ipykernel)",
   "language": "python",
   "name": "python3"
  },
  "language_info": {
   "codemirror_mode": {
    "name": "ipython",
    "version": 3
   },
   "file_extension": ".py",
   "mimetype": "text/x-python",
   "name": "python",
   "nbconvert_exporter": "python",
   "pygments_lexer": "ipython3",
   "version": "3.10.7"
  }
 },
 "nbformat": 4,
 "nbformat_minor": 5
}
